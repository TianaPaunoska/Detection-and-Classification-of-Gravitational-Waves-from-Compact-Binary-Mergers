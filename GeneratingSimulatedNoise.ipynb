{
  "nbformat": 4,
  "nbformat_minor": 0,
  "metadata": {
    "colab": {
      "provenance": []
    },
    "kernelspec": {
      "name": "python3",
      "display_name": "Python 3"
    },
    "language_info": {
      "name": "python"
    }
  },
  "cells": [
    {
      "cell_type": "markdown",
      "source": [
        "**Генерирање на 50000 noise samples**"
      ],
      "metadata": {
        "id": "nfVcn46slxAm"
      }
    },
    {
      "cell_type": "code",
      "source": [
        "! pip install -q 'lalsuite==7.11' 'PyCBC==2.0.5'"
      ],
      "metadata": {
        "colab": {
          "base_uri": "https://localhost:8080/"
        },
        "id": "k5NLVIHJlzSG",
        "outputId": "be77955e-839c-44da-cbef-8b0f79fb63cd"
      },
      "execution_count": 1,
      "outputs": [
        {
          "output_type": "stream",
          "name": "stdout",
          "text": [
            "\u001b[2K     \u001b[90m━━━━━━━━━━━━━━━━━━━━━━━━━━━━━━━━━━━━━━━━\u001b[0m \u001b[32m48.4/48.4 MB\u001b[0m \u001b[31m9.4 MB/s\u001b[0m eta \u001b[36m0:00:00\u001b[0m\n",
            "\u001b[2K     \u001b[90m━━━━━━━━━━━━━━━━━━━━━━━━━━━━━━━━━━━━━━━━\u001b[0m \u001b[32m7.2/7.2 MB\u001b[0m \u001b[31m34.3 MB/s\u001b[0m eta \u001b[36m0:00:00\u001b[0m\n",
            "\u001b[2K     \u001b[90m━━━━━━━━━━━━━━━━━━━━━━━━━━━━━━━━━━━━━━━━\u001b[0m \u001b[32m51.0/51.0 kB\u001b[0m \u001b[31m4.7 MB/s\u001b[0m eta \u001b[36m0:00:00\u001b[0m\n",
            "\u001b[?25h  Preparing metadata (setup.py) ... \u001b[?25l\u001b[?25hdone\n",
            "\u001b[2K     \u001b[90m━━━━━━━━━━━━━━━━━━━━━━━━━━━━━━━━━━━━━━━━\u001b[0m \u001b[32m1.4/1.4 MB\u001b[0m \u001b[31m39.5 MB/s\u001b[0m eta \u001b[36m0:00:00\u001b[0m\n",
            "\u001b[?25h  Installing build dependencies ... \u001b[?25l\u001b[?25hdone\n",
            "  Getting requirements to build wheel ... \u001b[?25l\u001b[?25hdone\n",
            "  Preparing metadata (pyproject.toml) ... \u001b[?25l\u001b[?25hdone\n",
            "\u001b[2K     \u001b[90m━━━━━━━━━━━━━━━━━━━━━━━━━━━━━━━━━━━━━━\u001b[0m \u001b[32m201.2/201.2 kB\u001b[0m \u001b[31m20.4 MB/s\u001b[0m eta \u001b[36m0:00:00\u001b[0m\n",
            "\u001b[2K     \u001b[90m━━━━━━━━━━━━━━━━━━━━━━━━━━━━━━━━━━━━━━━━\u001b[0m \u001b[32m78.7/78.7 kB\u001b[0m \u001b[31m8.6 MB/s\u001b[0m eta \u001b[36m0:00:00\u001b[0m\n",
            "\u001b[2K     \u001b[90m━━━━━━━━━━━━━━━━━━━━━━━━━━━━━━━━━━━━━━━━\u001b[0m \u001b[32m45.4/45.4 kB\u001b[0m \u001b[31m3.9 MB/s\u001b[0m eta \u001b[36m0:00:00\u001b[0m\n",
            "\u001b[2K     \u001b[90m━━━━━━━━━━━━━━━━━━━━━━━━━━━━━━━━━━━━━━━━\u001b[0m \u001b[32m47.2/47.2 kB\u001b[0m \u001b[31m4.7 MB/s\u001b[0m eta \u001b[36m0:00:00\u001b[0m\n",
            "\u001b[?25h  Installing build dependencies ... \u001b[?25l\u001b[?25hdone\n",
            "  Getting requirements to build wheel ... \u001b[?25l\u001b[?25hdone\n",
            "  Preparing metadata (pyproject.toml) ... \u001b[?25l\u001b[?25hdone\n",
            "\u001b[2K     \u001b[90m━━━━━━━━━━━━━━━━━━━━━━━━━━━━━━━━━━━━━━━━\u001b[0m \u001b[32m2.3/2.3 MB\u001b[0m \u001b[31m78.1 MB/s\u001b[0m eta \u001b[36m0:00:00\u001b[0m\n",
            "\u001b[?25h  Preparing metadata (setup.py) ... \u001b[?25l\u001b[?25hdone\n",
            "\u001b[2K     \u001b[90m━━━━━━━━━━━━━━━━━━━━━━━━━━━━━━━━━━━━━━\u001b[0m \u001b[32m298.1/298.1 kB\u001b[0m \u001b[31m27.1 MB/s\u001b[0m eta \u001b[36m0:00:00\u001b[0m\n",
            "\u001b[2K     \u001b[90m━━━━━━━━━━━━━━━━━━━━━━━━━━━━━━━━━━━━━━━━\u001b[0m \u001b[32m47.1/47.1 kB\u001b[0m \u001b[31m4.4 MB/s\u001b[0m eta \u001b[36m0:00:00\u001b[0m\n",
            "\u001b[?25h  Installing build dependencies ... \u001b[?25l\u001b[?25hdone\n",
            "  Getting requirements to build wheel ... \u001b[?25l\u001b[?25hdone\n",
            "  Preparing metadata (pyproject.toml) ... \u001b[?25l\u001b[?25hdone\n",
            "  Building wheel for lscsoft-glue (pyproject.toml) ... \u001b[?25l\u001b[?25hdone\n",
            "  Building wheel for pegasus-wms.api (pyproject.toml) ... \u001b[?25l\u001b[?25hdone\n",
            "  Building wheel for python-ligo-lw (setup.py) ... \u001b[?25l\u001b[?25hdone\n",
            "  Building wheel for ligo-segments (setup.py) ... \u001b[?25l\u001b[?25hdone\n",
            "  Building wheel for pegasus-wms.common (pyproject.toml) ... \u001b[?25l\u001b[?25hdone\n"
          ]
        }
      ]
    },
    {
      "cell_type": "code",
      "source": [
        "import matplotlib.pyplot as pp\n",
        "import pycbc.noise\n",
        "import pycbc.psd\n",
        "import numpy as np\n",
        "\n",
        "\n",
        "num_samples = 50000  # broj na primeroci\n",
        "duration = 1.0  # traenje na primerokot 1s\n",
        "sampling_rate = 2048  # sampling freq. 2kHz\n",
        "seeds = np.arange(num_samples)  # niza od razlichni seeds za generiranje na razlichni shumovi - vrednosti na strain\n",
        "\n",
        "# niza vo koja kje se chuvaat primerocite\n",
        "noise_samples = []\n",
        "\n",
        "\n",
        "for seed in seeds:\n",
        "\n",
        "    flow = 10.0 + (seed % 6) * 5.0  # f lower od 10 30 Hz so chekor 5\n",
        "    delta_f = 1.0 / 16  # delta_f --> inverzna vrednost od vremetraenjeto na frequency bin za PSD (16 Hz)\n",
        "\n",
        "    flen = int(sampling_rate / delta_f) + 1\n",
        "    psd = pycbc.psd.aLIGOZeroDetHighPower(flen, delta_f, flow)\n",
        "\n",
        "    # generiranje na primerocite so soodv. funkcija\n",
        "    delta_t = 1.0 / sampling_rate\n",
        "    tsamples = int(duration / delta_t)\n",
        "    ts = pycbc.noise.noise_from_psd(tsamples, delta_t, psd, seed=seed)\n",
        "\n",
        "    noise_samples.append(ts)\n",
        "\n",
        "\n",
        "pp.plot(noise_samples[0].sample_times, noise_samples[0])\n",
        "pp.ylabel('Strain')\n",
        "pp.xlabel('Time (s)')\n",
        "pp.show()"
      ],
      "metadata": {
        "colab": {
          "base_uri": "https://localhost:8080/",
          "height": 465
        },
        "id": "EXF8dKGKl1Ud",
        "outputId": "2610e36a-0dc0-4e50-c9e3-f8f48a2f3898"
      },
      "execution_count": 2,
      "outputs": [
        {
          "output_type": "display_data",
          "data": {
            "text/plain": [
              "<Figure size 640x480 with 1 Axes>"
            ],
            "image/png": "[encoded data removed]"
          },
          "metadata": {}
        }
      ]
    },
    {
      "cell_type": "code",
      "source": [
        "print(len(noise_samples))"
      ],
      "metadata": {
        "colab": {
          "base_uri": "https://localhost:8080/"
        },
        "id": "2KEuCG3tmpQ-",
        "outputId": "dbc35e0d-7e74-48ff-ac50-5c4215f7a068"
      },
      "execution_count": 3,
      "outputs": [
        {
          "output_type": "stream",
          "name": "stdout",
          "text": [
            "50000\n"
          ]
        }
      ]
    },
    {
      "cell_type": "code",
      "source": [
        "import os\n",
        "import numpy as np\n",
        "import zipfile\n",
        "from google.colab import files"
      ],
      "metadata": {
        "id": "aRbXBC-fmvl3"
      },
      "execution_count": 4,
      "outputs": []
    },
    {
      "cell_type": "code",
      "source": [
        "import os\n",
        "import numpy as np\n",
        "\n",
        "output_dir = 'noise_samples'\n",
        "os.makedirs(output_dir, exist_ok=True)\n",
        "\n",
        "file_paths = []\n",
        "labels = []\n",
        "\n",
        "for i, noise_sample in enumerate(noise_samples):\n",
        "\n",
        "    folder_name = f'Noise{i + 1}'\n",
        "    folder_path = os.path.join(output_dir, folder_name)\n",
        "    os.makedirs(folder_path, exist_ok=True)\n",
        "\n",
        "    # zachuvuvanje na sekoj primerok kako npy file\n",
        "    file_path = os.path.join(folder_path, f'noise{i + 1}.npy')\n",
        "    np.save(file_path, noise_sample)\n",
        "\n",
        "    file_paths.append(file_path)\n",
        "    labels.append('Noise')\n",
        "\n",
        "label_array = np.column_stack((file_paths, labels))\n",
        "\n",
        "# zachuvuvanje na labelite za sekoj primerok kako npy file\n",
        "label_file_path = os.path.join(output_dir, 'labels.npy')\n",
        "np.save(label_file_path, label_array)\n"
      ],
      "metadata": {
        "id": "2CvfnsZtl1R6"
      },
      "execution_count": 17,
      "outputs": []
    },
    {
      "cell_type": "code",
      "source": [
        "zip_file_path = 'noise_samples.zip'\n",
        "with zipfile.ZipFile(zip_file_path, 'w', zipfile.ZIP_DEFLATED) as zipf:\n",
        "    for file_path in file_paths:\n",
        "        zipf.write(file_path)\n",
        "\n",
        "\n",
        "files.download(zip_file_path)"
      ],
      "metadata": {
        "colab": {
          "base_uri": "https://localhost:8080/",
          "height": 17
        },
        "id": "bb9naSWal1Pj",
        "outputId": "331a71bb-87ab-40ac-a55a-46fe7bd1bf58"
      },
      "execution_count": 19,
      "outputs": [
        {
          "output_type": "display_data",
          "data": {
            "text/plain": [
              "<IPython.core.display.Javascript object>"
            ],
            "application/javascript": [
              "\n",
              "    async function download(id, filename, size) {\n",
              "      if (!google.colab.kernel.accessAllowed) {\n",
              "        return;\n",
              "      }\n",
              "      const div = document.createElement('div');\n",
              "      const label = document.createElement('label');\n",
              "      label.textContent = `Downloading \"${filename}\": `;\n",
              "      div.appendChild(label);\n",
              "      const progress = document.createElement('progress');\n",
              "      progress.max = size;\n",
              "      div.appendChild(progress);\n",
              "      document.body.appendChild(div);\n",
              "\n",
              "      const buffers = [];\n",
              "      let downloaded = 0;\n",
              "\n",
              "      const channel = await google.colab.kernel.comms.open(id);\n",
              "      // Send a message to notify the kernel that we're ready.\n",
              "      channel.send({})\n",
              "\n",
              "      for await (const message of channel.messages) {\n",
              "        // Send a message to notify the kernel that we're ready.\n",
              "        channel.send({})\n",
              "        if (message.buffers) {\n",
              "          for (const buffer of message.buffers) {\n",
              "            buffers.push(buffer);\n",
              "            downloaded += buffer.byteLength;\n",
              "            progress.value = downloaded;\n",
              "          }\n",
              "        }\n",
              "      }\n",
              "      const blob = new Blob(buffers, {type: 'application/binary'});\n",
              "      const a = document.createElement('a');\n",
              "      a.href = window.URL.createObjectURL(blob);\n",
              "      a.download = filename;\n",
              "      div.appendChild(a);\n",
              "      a.click();\n",
              "      div.remove();\n",
              "    }\n",
              "  "
            ]
          },
          "metadata": {}
        },
        {
          "output_type": "display_data",
          "data": {
            "text/plain": [
              "<IPython.core.display.Javascript object>"
            ],
            "application/javascript": [
              "download(\"download_f33f347c-485a-49db-ac87-79888ccc6e60\", \"noise_samples.zip\", 796208811)"
            ]
          },
          "metadata": {}
        }
      ]
    },
    {
      "cell_type": "code",
      "source": [
        "import numpy as np\n",
        "import pandas as pd\n",
        "\n",
        "labels_array = np.load('noise_samples/labels.npy')\n",
        "\n",
        "labels_df = pd.DataFrame(labels_array, columns=['Path','Label'])\n",
        "\n",
        "print(labels_df.head())\n"
      ],
      "metadata": {
        "id": "zFplTYRLl1Kc",
        "colab": {
          "base_uri": "https://localhost:8080/"
        },
        "outputId": "e1e665be-e5dd-4ea8-a5ee-4be4086b208a"
      },
      "execution_count": 21,
      "outputs": [
        {
          "output_type": "stream",
          "name": "stdout",
          "text": [
            "                              Path  Label\n",
            "0  noise_samples/Noise1/noise1.npy  Noise\n",
            "1  noise_samples/Noise2/noise2.npy  Noise\n",
            "2  noise_samples/Noise3/noise3.npy  Noise\n",
            "3  noise_samples/Noise4/noise4.npy  Noise\n",
            "4  noise_samples/Noise5/noise5.npy  Noise\n"
          ]
        }
      ]
    },
    {
      "cell_type": "code",
      "source": [],
      "metadata": {
        "id": "2sCgjrgbl1H5"
      },
      "execution_count": 6,
      "outputs": []
    },
    {
      "cell_type": "code",
      "source": [],
      "metadata": {
        "id": "S-yxQu3gl1D5"
      },
      "execution_count": 6,
      "outputs": []
    }
  ]
}