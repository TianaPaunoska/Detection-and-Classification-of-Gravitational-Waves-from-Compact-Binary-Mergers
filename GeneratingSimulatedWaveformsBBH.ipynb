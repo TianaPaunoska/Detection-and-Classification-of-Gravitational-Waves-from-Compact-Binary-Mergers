{
  "nbformat": 4,
  "nbformat_minor": 0,
  "metadata": {
    "colab": {
      "provenance": []
    },
    "kernelspec": {
      "name": "python3",
      "display_name": "Python 3"
    },
    "language_info": {
      "name": "python"
    }
  },
  "cells": [
    {
      "cell_type": "markdown",
      "source": [
        "**Генерирање на податочно множество од симулирани бранови (BBH) бранови**"
      ],
      "metadata": {
        "id": "Us8x6-aoYNYg"
      }
    },
    {
      "cell_type": "markdown",
      "source": [
        "Во овој код се креира template bank, односно се креира листа од примероци кои подоцна како дополнителни симулирани гравитациони бранови (примероци) за CNN мрежата. Избраните параметри за template bank - BBH сигнали се следните:\n",
        "\n",
        "\n",
        "*   масата за двете црни дупки од 5 до 100 соларни маси со чекор 5\n",
        "*   вредности на спинот од -0.8 до 0.8 со чекор 0.4\n",
        "\n",
        "\n",
        "*   однос помеѓу масите (mass ratio) m1/m2 <= 10\n",
        "\n",
        "\n",
        "\n",
        "\n"
      ],
      "metadata": {
        "id": "uhFmMMWLY2fy"
      }
    },
    {
      "cell_type": "code",
      "source": [
        "! pip install -q 'lalsuite==7.11' 'PyCBC==2.0.5'"
      ],
      "metadata": {
        "id": "MUrFAOzrYcmz"
      },
      "execution_count": 1,
      "outputs": []
    },
    {
      "cell_type": "code",
      "source": [
        "import pylab\n",
        "from pycbc.catalog import Merger\n",
        "from pycbc.filter import resample_to_delta_t, highpass\n",
        "import pycbc.catalog\n",
        "from pycbc.types import TimeSeries\n",
        "import numpy as np\n",
        "import pandas as pd\n",
        "import os"
      ],
      "metadata": {
        "id": "fgt2R0LCZpX4"
      },
      "execution_count": 2,
      "outputs": []
    },
    {
      "cell_type": "code",
      "source": [
        "# primerocite kje se generiraat vo nekolku krugovi zemajkji po edna masa za primarnata crna dupka i site mozhni kombinacii za sekundarnata crna dupka i spinovite na dvete tela\n",
        "templates_BBH_5 = []"
      ],
      "metadata": {
        "id": "OzWjIfA5ZphG"
      },
      "execution_count": 3,
      "outputs": []
    },
    {
      "cell_type": "code",
      "source": [
        "BH_masses_BBH = []\n",
        "\n",
        "start_mass = 5\n",
        "end_mass = 100\n",
        "\n",
        "step = 5\n",
        "\n",
        "current_mass = start_mass\n",
        "while current_mass <= end_mass:\n",
        "    BH_masses_BBH.append(current_mass)\n",
        "    current_mass += step"
      ],
      "metadata": {
        "id": "qxw8t1q0Zpns"
      },
      "execution_count": 4,
      "outputs": []
    },
    {
      "cell_type": "code",
      "source": [
        "print(len(BH_masses_BBH))"
      ],
      "metadata": {
        "colab": {
          "base_uri": "https://localhost:8080/"
        },
        "id": "UX2vw3wurVjO",
        "outputId": "14552a5f-035e-4914-9b59-23a32a89e77a"
      },
      "execution_count": 21,
      "outputs": [
        {
          "output_type": "stream",
          "name": "stdout",
          "text": [
            "20\n"
          ]
        }
      ]
    },
    {
      "cell_type": "code",
      "source": [
        "spins = []\n",
        "\n",
        "start_spin = -0.8\n",
        "end_spin = 0.8\n",
        "\n",
        "step = 0.4\n",
        "\n",
        "current_spin = start_spin\n",
        "while current_spin <= end_spin:\n",
        "    spins.append(current_spin)\n",
        "    current_spin += step"
      ],
      "metadata": {
        "id": "UOhf0j9Lax7y"
      },
      "execution_count": 5,
      "outputs": []
    },
    {
      "cell_type": "markdown",
      "source": [
        "Template bank се креира со get_td_waveform функцијата за креирање на гравитациони бранови во временски домен. Функцијата ги враќа плус поларизацијата (која се однесува на алтернативните истегнувања и скусувања на гравитациониот бран како што минува низ простор-времето гледано вертикално и хоризонтално) и вкрстената поларизација (која се однесува на алтернативните истегнувања и скусувања на гравитациониот бран како што минува низ простор-времето под агол од 45 степени). Оваа функција на генерирање вклучува огромен домен на параметри, меѓу кои се масите и спиновите на двете тела, фреквенцијата на семплирање и сл."
      ],
      "metadata": {
        "id": "chEPBQjaa_JJ"
      }
    },
    {
      "cell_type": "code",
      "source": [
        "from pycbc.waveform import get_td_waveform"
      ],
      "metadata": {
        "id": "3q8aX5M0ayBB"
      },
      "execution_count": 6,
      "outputs": []
    },
    {
      "cell_type": "code",
      "source": [
        "m1 = BH_masses_BBH[0] # m1=5\n",
        "for m2 in range(m1, 101, 5):\n",
        "  if m1 >= m2:\n",
        "    mass_ratio = m1/m2\n",
        "  else:\n",
        "    mass_ratio = m2/m1\n",
        "  if mass_ratio <= 10:\n",
        "    for spin1 in spins:\n",
        "      for spin2 in spins:\n",
        "        hp, hc = get_td_waveform(\n",
        "            approximant=\"SEOBNRv3\",\n",
        "            mass1=m1,\n",
        "            mass2=m2,\n",
        "            spin1x=0,\n",
        "            spin1y=0,\n",
        "            spin1z=spin1,\n",
        "            spin2x=0,\n",
        "            spin2y=0,\n",
        "            spin2z=spin2,\n",
        "            delta_t=1.0/2048,\n",
        "            f_lower=10.0\n",
        "            )\n",
        "        waveform = hp.numpy()\n",
        "        templates_BBH_5.append(waveform)"
      ],
      "metadata": {
        "id": "m7CHwFgdayHF"
      },
      "execution_count": 7,
      "outputs": []
    },
    {
      "cell_type": "markdown",
      "source": [
        "За генерирање на BBH бранови се користи апроксиматорот 'SEOBNRv3' кој е погоден за BBH системите со вклучени спин-ефекти."
      ],
      "metadata": {
        "id": "_7psgMpqxh-k"
      }
    },
    {
      "cell_type": "code",
      "source": [
        "print(len(templates_BBH_5))"
      ],
      "metadata": {
        "colab": {
          "base_uri": "https://localhost:8080/"
        },
        "id": "TDOliWO7bCer",
        "outputId": "610a90fd-c2f2-41e7-9f40-920cd6455e59"
      },
      "execution_count": 8,
      "outputs": [
        {
          "output_type": "stream",
          "name": "stdout",
          "text": [
            "250\n"
          ]
        }
      ]
    },
    {
      "cell_type": "code",
      "source": [
        "print(templates_BBH_5[0].size)"
      ],
      "metadata": {
        "colab": {
          "base_uri": "https://localhost:8080/"
        },
        "id": "qXKco7slbCiW",
        "outputId": "65806776-bf26-4d38-d544-201ebfd5cb03"
      },
      "execution_count": 9,
      "outputs": [
        {
          "output_type": "stream",
          "name": "stdout",
          "text": [
            "246684\n"
          ]
        }
      ]
    },
    {
      "cell_type": "markdown",
      "source": [
        "Треба да се намали бројот на data points на 2048 за да биде настанот 1s долг."
      ],
      "metadata": {
        "id": "St8mnXyBcoVX"
      }
    },
    {
      "cell_type": "code",
      "source": [
        "desired_length = 2048\n",
        "\n",
        "modified_waveforms = []\n",
        "\n",
        "for waveform in templates_BBH_5:\n",
        "    if len(waveform) > desired_length:\n",
        "        modified_waveform = waveform[len(waveform) - desired_length:]\n",
        "        modified_waveforms.append(modified_waveform)\n",
        "    else:\n",
        "        modified_waveforms.append(waveform)\n",
        "\n",
        "templates_BBH_5 = modified_waveforms"
      ],
      "metadata": {
        "id": "UfPsV4fEbCpD"
      },
      "execution_count": 10,
      "outputs": []
    },
    {
      "cell_type": "code",
      "source": [
        "print(len(templates_BBH_5[0]))"
      ],
      "metadata": {
        "colab": {
          "base_uri": "https://localhost:8080/"
        },
        "id": "I2clZEweb7Ex",
        "outputId": "08bb39fc-d24b-45b2-b1d4-340ddaaaa66a"
      },
      "execution_count": 11,
      "outputs": [
        {
          "output_type": "stream",
          "name": "stdout",
          "text": [
            "2048\n"
          ]
        }
      ]
    },
    {
      "cell_type": "code",
      "source": [
        "ts = TimeSeries(templates_BBH_5[0], delta_t=1.0/2048)"
      ],
      "metadata": {
        "id": "ion7-7v5b7Jx"
      },
      "execution_count": 12,
      "outputs": []
    },
    {
      "cell_type": "code",
      "source": [
        "pylab.plot(ts.sample_times, ts)\n",
        "pylab.xlabel('Time (s)')\n",
        "pylab.show()"
      ],
      "metadata": {
        "colab": {
          "base_uri": "https://localhost:8080/",
          "height": 465
        },
        "id": "yLws00AXc3wt",
        "outputId": "6e92ad0b-b4ad-49d8-ae5c-2aefe69e5cb3"
      },
      "execution_count": 13,
      "outputs": [
        {
          "output_type": "display_data",
          "data": {
            "text/plain": [
              "<Figure size 640x480 with 1 Axes>"
            ],
            "image/png": "[encoded data removed]"
          },
          "metadata": {}
        }
      ]
    },
    {
      "cell_type": "code",
      "source": [
        "output_dir = '/content/BBH_events'\n",
        "os.makedirs(output_dir, exist_ok=True)\n",
        "\n",
        "event_paths_5 = []\n",
        "event_targets_5 = []\n",
        "\n",
        "i = 0\n",
        "\n",
        "for waveform in templates_BBH_5:\n",
        "  event_name = f'BBH{i + 1}'\n",
        "\n",
        "  event_dir = os.path.join(output_dir, event_name)\n",
        "  os.makedirs(event_dir, exist_ok=True)\n",
        "\n",
        "  np.save(os.path.join(event_dir, f'strain{i + 1}.npy'), waveform)\n",
        "\n",
        "  event_paths_5.append(os.path.join(event_dir, f'strain{i + 1}.npy'))\n",
        "  event_targets_5.append('BBH')\n",
        "\n",
        "  i = i+1\n",
        "\n",
        "labels = np.array([event_paths_5, event_targets_5]).T\n",
        "np.save(os.path.join(output_dir, 'labels.npy'), labels)"
      ],
      "metadata": {
        "id": "8XxhVzaCc31h"
      },
      "execution_count": 15,
      "outputs": []
    },
    {
      "cell_type": "code",
      "source": [
        "print(i)"
      ],
      "metadata": {
        "colab": {
          "base_uri": "https://localhost:8080/"
        },
        "id": "hZBiuS0ZdCFD",
        "outputId": "6aa4ba07-8e50-4aaf-e65f-3e39155c3e9a"
      },
      "execution_count": 16,
      "outputs": [
        {
          "output_type": "stream",
          "name": "stdout",
          "text": [
            "250\n"
          ]
        }
      ]
    },
    {
      "cell_type": "code",
      "source": [
        "i = 250"
      ],
      "metadata": {
        "id": "5irJvi77ph3J"
      },
      "execution_count": 25,
      "outputs": []
    },
    {
      "cell_type": "code",
      "source": [
        "templates_BBH_10 = []"
      ],
      "metadata": {
        "id": "179wNxT8ph6W"
      },
      "execution_count": 26,
      "outputs": []
    },
    {
      "cell_type": "code",
      "source": [
        "m1 = BH_masses_BBH[1] # m1=10\n",
        "for m2 in range(m1, 101, 5):\n",
        "  if m1 >= m2:\n",
        "    mass_ratio = m1/m2\n",
        "  else:\n",
        "    mass_ratio = m2/m1\n",
        "  if mass_ratio <= 10:\n",
        "    for spin1 in spins:\n",
        "      for spin2 in spins:\n",
        "        hp, hc = get_td_waveform(\n",
        "            approximant=\"SEOBNRv3\",\n",
        "            mass1=m1,\n",
        "            mass2=m2,\n",
        "            spin1x=0,\n",
        "            spin1y=0,\n",
        "            spin1z=spin1,\n",
        "            spin2x=0,\n",
        "            spin2y=0,\n",
        "            spin2z=spin2,\n",
        "            delta_t=1.0/2048,\n",
        "            f_lower=10.0\n",
        "            )\n",
        "        waveform = hp.numpy()\n",
        "        templates_BBH_10.append(waveform)"
      ],
      "metadata": {
        "id": "uOdGCbBpph-Y"
      },
      "execution_count": 27,
      "outputs": []
    },
    {
      "cell_type": "code",
      "source": [
        "print(len(templates_BBH_10))"
      ],
      "metadata": {
        "colab": {
          "base_uri": "https://localhost:8080/"
        },
        "id": "Z3VrJ8BopiBJ",
        "outputId": "564b02fe-88a5-4744-d0df-a1fb46f054f2"
      },
      "execution_count": 28,
      "outputs": [
        {
          "output_type": "stream",
          "name": "stdout",
          "text": [
            "475\n"
          ]
        }
      ]
    },
    {
      "cell_type": "code",
      "source": [
        "desired_length = 2048\n",
        "\n",
        "modified_waveforms = []\n",
        "\n",
        "for waveform in templates_BBH_10:\n",
        "    if len(waveform) > desired_length:\n",
        "        modified_waveform = waveform[len(waveform) - desired_length:]\n",
        "        modified_waveforms.append(modified_waveform)\n",
        "    else:\n",
        "        modified_waveforms.append(waveform)\n",
        "\n",
        "templates_BBH_10 = modified_waveforms"
      ],
      "metadata": {
        "id": "JMgko9mmqD7J"
      },
      "execution_count": 29,
      "outputs": []
    },
    {
      "cell_type": "code",
      "source": [
        "output_dir = '/content/BBH_events'\n",
        "os.makedirs(output_dir, exist_ok=True)\n",
        "\n",
        "event_paths_10 = []\n",
        "event_targets_10 = []\n",
        "\n",
        "for waveform in templates_BBH_10:\n",
        "  event_name = f'BBH{i + 1}'\n",
        "\n",
        "  event_dir = os.path.join(output_dir, event_name)\n",
        "  os.makedirs(event_dir, exist_ok=True)\n",
        "\n",
        "  np.save(os.path.join(event_dir, f'strain{i + 1}.npy'), waveform)\n",
        "\n",
        "  event_paths_10.append(os.path.join(event_dir, f'strain{i + 1}.npy'))\n",
        "  event_targets_10.append('BBH')\n",
        "\n",
        "  i = i+1\n",
        "\n",
        "labels = np.array([event_paths_10, event_targets_10]).T\n",
        "np.save(os.path.join(output_dir, 'labels10.npy'), labels)"
      ],
      "metadata": {
        "id": "qGly26qqqD9u"
      },
      "execution_count": 30,
      "outputs": []
    },
    {
      "cell_type": "code",
      "source": [
        "print(i)"
      ],
      "metadata": {
        "colab": {
          "base_uri": "https://localhost:8080/"
        },
        "id": "CA3r2ui_qEAH",
        "outputId": "15aaf5de-1f96-4d2d-eeeb-6896982b0e57"
      },
      "execution_count": 31,
      "outputs": [
        {
          "output_type": "stream",
          "name": "stdout",
          "text": [
            "725\n"
          ]
        }
      ]
    },
    {
      "cell_type": "code",
      "source": [
        "i = 725"
      ],
      "metadata": {
        "id": "Gr9CfZwfqECa"
      },
      "execution_count": 35,
      "outputs": []
    },
    {
      "cell_type": "code",
      "source": [
        "templates_BBH_15 = []"
      ],
      "metadata": {
        "id": "u-M2VPyFdCJD"
      },
      "execution_count": 36,
      "outputs": []
    },
    {
      "cell_type": "code",
      "source": [
        "m1 = BH_masses_BBH[2] # m1=15\n",
        "for m2 in range(m1, 101, 5):\n",
        "  if m1 >= m2:\n",
        "    mass_ratio = m1/m2\n",
        "  else:\n",
        "    mass_ratio = m2/m1\n",
        "  if mass_ratio <= 10:\n",
        "    for spin1 in spins:\n",
        "      for spin2 in spins:\n",
        "        hp, hc = get_td_waveform(\n",
        "            approximant=\"SEOBNRv3\",\n",
        "            mass1=m1,\n",
        "            mass2=m2,\n",
        "            spin1x=0,\n",
        "            spin1y=0,\n",
        "            spin1z=spin1,\n",
        "            spin2x=0,\n",
        "            spin2y=0,\n",
        "            spin2z=spin2,\n",
        "            delta_t=1.0/2048,\n",
        "            f_lower=10.0\n",
        "            )\n",
        "        waveform = hp.numpy()\n",
        "        templates_BBH_15.append(waveform)"
      ],
      "metadata": {
        "id": "Aq5uUHJ42JD8"
      },
      "execution_count": 37,
      "outputs": []
    },
    {
      "cell_type": "code",
      "source": [
        "print(len(templates_BBH_15))"
      ],
      "metadata": {
        "colab": {
          "base_uri": "https://localhost:8080/"
        },
        "id": "f01GW4d82WCR",
        "outputId": "1aef06b6-41e6-4577-cbcc-70e67bc859fb"
      },
      "execution_count": 38,
      "outputs": [
        {
          "output_type": "stream",
          "name": "stdout",
          "text": [
            "450\n"
          ]
        }
      ]
    },
    {
      "cell_type": "code",
      "source": [
        "desired_length = 2048\n",
        "\n",
        "modified_waveforms = []\n",
        "\n",
        "for waveform in templates_BBH_15:\n",
        "    if len(waveform) > desired_length:\n",
        "        modified_waveform = waveform[len(waveform) - desired_length:]\n",
        "        modified_waveforms.append(modified_waveform)\n",
        "    else:\n",
        "        modified_waveforms.append(waveform)\n",
        "\n",
        "templates_BBH_15 = modified_waveforms"
      ],
      "metadata": {
        "id": "KB5DfysJ2WEn"
      },
      "execution_count": 39,
      "outputs": []
    },
    {
      "cell_type": "code",
      "source": [
        "output_dir = '/content/BBH_events'\n",
        "os.makedirs(output_dir, exist_ok=True)\n",
        "\n",
        "event_paths_15 = []\n",
        "event_targets_15 = []\n",
        "\n",
        "for waveform in templates_BBH_15:\n",
        "  event_name = f'BBH{i + 1}'\n",
        "\n",
        "  event_dir = os.path.join(output_dir, event_name)\n",
        "  os.makedirs(event_dir, exist_ok=True)\n",
        "\n",
        "  np.save(os.path.join(event_dir, f'strain{i + 1}.npy'), waveform)\n",
        "\n",
        "  event_paths_15.append(os.path.join(event_dir, f'strain{i + 1}.npy'))\n",
        "  event_targets_15.append('BBH')\n",
        "\n",
        "  i = i+1\n",
        "\n",
        "labels = np.array([event_paths_15, event_targets_15]).T\n",
        "np.save(os.path.join(output_dir, 'labels15.npy'), labels)"
      ],
      "metadata": {
        "id": "-zRigu3f2WHC"
      },
      "execution_count": 42,
      "outputs": []
    },
    {
      "cell_type": "code",
      "source": [
        "print(i)"
      ],
      "metadata": {
        "colab": {
          "base_uri": "https://localhost:8080/"
        },
        "id": "4H3m3GFE2JHH",
        "outputId": "289c13b4-3625-49b0-f75e-959b67606adf"
      },
      "execution_count": 43,
      "outputs": [
        {
          "output_type": "stream",
          "name": "stdout",
          "text": [
            "1175\n"
          ]
        }
      ]
    },
    {
      "cell_type": "code",
      "source": [
        "i = 1175"
      ],
      "metadata": {
        "id": "37bhiaIR9M45"
      },
      "execution_count": 46,
      "outputs": []
    },
    {
      "cell_type": "code",
      "source": [
        "templates_BBH_20 = []"
      ],
      "metadata": {
        "id": "tXoSB2dA9M7u"
      },
      "execution_count": 47,
      "outputs": []
    },
    {
      "cell_type": "code",
      "source": [
        "m1 = BH_masses_BBH[3] # m1=20\n",
        "for m2 in range(m1, 101, 5):\n",
        "  if m1 >= m2:\n",
        "    mass_ratio = m1/m2\n",
        "  else:\n",
        "    mass_ratio = m2/m1\n",
        "  if mass_ratio <= 10:\n",
        "    for spin1 in spins:\n",
        "      for spin2 in spins:\n",
        "        hp, hc = get_td_waveform(\n",
        "            approximant=\"SEOBNRv3\",\n",
        "            mass1=m1,\n",
        "            mass2=m2,\n",
        "            spin1x=0,\n",
        "            spin1y=0,\n",
        "            spin1z=spin1,\n",
        "            spin2x=0,\n",
        "            spin2y=0,\n",
        "            spin2z=spin2,\n",
        "            delta_t=1.0/2048,\n",
        "            f_lower=10.0\n",
        "            )\n",
        "        waveform = hp.numpy()\n",
        "        templates_BBH_20.append(waveform)"
      ],
      "metadata": {
        "id": "UZCFmrPw9M-r"
      },
      "execution_count": 48,
      "outputs": []
    },
    {
      "cell_type": "code",
      "source": [
        "print(len(templates_BBH_20))"
      ],
      "metadata": {
        "colab": {
          "base_uri": "https://localhost:8080/"
        },
        "id": "PM9Zs5PW9NBR",
        "outputId": "fd02fa24-c861-4830-9c2b-9f7b24021a52"
      },
      "execution_count": 49,
      "outputs": [
        {
          "output_type": "stream",
          "name": "stdout",
          "text": [
            "425\n"
          ]
        }
      ]
    },
    {
      "cell_type": "code",
      "source": [
        "desired_length = 2048\n",
        "\n",
        "modified_waveforms = []\n",
        "\n",
        "for waveform in templates_BBH_20:\n",
        "    if len(waveform) > desired_length:\n",
        "        modified_waveform = waveform[len(waveform) - desired_length:]\n",
        "        modified_waveforms.append(modified_waveform)\n",
        "    else:\n",
        "        modified_waveforms.append(waveform)\n",
        "\n",
        "templates_BBH_20 = modified_waveforms"
      ],
      "metadata": {
        "id": "w_kzhVwr9pgz"
      },
      "execution_count": 50,
      "outputs": []
    },
    {
      "cell_type": "code",
      "source": [
        "output_dir = '/content/BBH_events'\n",
        "os.makedirs(output_dir, exist_ok=True)\n",
        "\n",
        "event_paths_20 = []\n",
        "event_targets_20 = []\n",
        "\n",
        "for waveform in templates_BBH_20:\n",
        "  event_name = f'BBH{i + 1}'\n",
        "\n",
        "  event_dir = os.path.join(output_dir, event_name)\n",
        "  os.makedirs(event_dir, exist_ok=True)\n",
        "\n",
        "  np.save(os.path.join(event_dir, f'strain{i + 1}.npy'), waveform)\n",
        "\n",
        "  event_paths_20.append(os.path.join(event_dir, f'strain{i + 1}.npy'))\n",
        "  event_targets_20.append('BBH')\n",
        "\n",
        "  i = i+1\n",
        "\n",
        "labels = np.array([event_paths_20, event_targets_20]).T\n",
        "np.save(os.path.join(output_dir, 'labels20.npy'), labels)"
      ],
      "metadata": {
        "id": "dw8ko1wS9pqS"
      },
      "execution_count": 51,
      "outputs": []
    },
    {
      "cell_type": "code",
      "source": [
        "print(i)"
      ],
      "metadata": {
        "colab": {
          "base_uri": "https://localhost:8080/"
        },
        "id": "QTpDFlah9pxL",
        "outputId": "cd99d4e7-2b11-48e5-d92b-8dc58d461e88"
      },
      "execution_count": 54,
      "outputs": [
        {
          "output_type": "stream",
          "name": "stdout",
          "text": [
            "1600\n"
          ]
        }
      ]
    },
    {
      "cell_type": "code",
      "source": [
        "i = 1600"
      ],
      "metadata": {
        "id": "689b9nAE9NDd"
      },
      "execution_count": 55,
      "outputs": []
    },
    {
      "cell_type": "code",
      "source": [
        "templates_BBH_25 = []"
      ],
      "metadata": {
        "id": "iG0NYBuJ2JKK"
      },
      "execution_count": 56,
      "outputs": []
    },
    {
      "cell_type": "code",
      "source": [
        "m1 = BH_masses_BBH[4] # m1=25\n",
        "for m2 in range(m1, 101, 5):\n",
        "  if m1 >= m2:\n",
        "    mass_ratio = m1/m2\n",
        "  else:\n",
        "    mass_ratio = m2/m1\n",
        "  if mass_ratio <= 10:\n",
        "    for spin1 in spins:\n",
        "      for spin2 in spins:\n",
        "        hp, hc = get_td_waveform(\n",
        "            approximant=\"SEOBNRv3\",\n",
        "            mass1=m1,\n",
        "            mass2=m2,\n",
        "            spin1x=0,\n",
        "            spin1y=0,\n",
        "            spin1z=spin1,\n",
        "            spin2x=0,\n",
        "            spin2y=0,\n",
        "            spin2z=spin2,\n",
        "            delta_t=1.0/2048,\n",
        "            f_lower=10.0\n",
        "            )\n",
        "        waveform = hp.numpy()\n",
        "        templates_BBH_25.append(waveform)"
      ],
      "metadata": {
        "id": "85uhz0zoCiKs"
      },
      "execution_count": 57,
      "outputs": []
    },
    {
      "cell_type": "code",
      "source": [
        "print(len(templates_BBH_25))"
      ],
      "metadata": {
        "colab": {
          "base_uri": "https://localhost:8080/"
        },
        "id": "x5isNSjYCiNb",
        "outputId": "65d2f255-2cfa-4360-8ccf-b429e3128e94"
      },
      "execution_count": 58,
      "outputs": [
        {
          "output_type": "stream",
          "name": "stdout",
          "text": [
            "400\n"
          ]
        }
      ]
    },
    {
      "cell_type": "code",
      "source": [
        "desired_length = 2048\n",
        "\n",
        "modified_waveforms = []\n",
        "\n",
        "for waveform in templates_BBH_25:\n",
        "    if len(waveform) > desired_length:\n",
        "        modified_waveform = waveform[len(waveform) - desired_length:]\n",
        "        modified_waveforms.append(modified_waveform)\n",
        "    else:\n",
        "        modified_waveforms.append(waveform)\n",
        "\n",
        "templates_BBH_25 = modified_waveforms"
      ],
      "metadata": {
        "id": "2iAzJtKuCiQJ"
      },
      "execution_count": 59,
      "outputs": []
    },
    {
      "cell_type": "code",
      "source": [
        "output_dir = '/content/BBH_events'\n",
        "os.makedirs(output_dir, exist_ok=True)\n",
        "\n",
        "event_paths_25 = []\n",
        "event_targets_25 = []\n",
        "\n",
        "for waveform in templates_BBH_25:\n",
        "  event_name = f'BBH{i + 1}'\n",
        "\n",
        "  event_dir = os.path.join(output_dir, event_name)\n",
        "  os.makedirs(event_dir, exist_ok=True)\n",
        "\n",
        "  np.save(os.path.join(event_dir, f'strain{i + 1}.npy'), waveform)\n",
        "\n",
        "  event_paths_25.append(os.path.join(event_dir, f'strain{i + 1}.npy'))\n",
        "  event_targets_25.append('BBH')\n",
        "\n",
        "  i = i+1\n",
        "\n",
        "labels = np.array([event_paths_25, event_targets_25]).T\n",
        "np.save(os.path.join(output_dir, 'labels25.npy'), labels)"
      ],
      "metadata": {
        "id": "jt9KLHJ2C2Pz"
      },
      "execution_count": 60,
      "outputs": []
    },
    {
      "cell_type": "code",
      "source": [
        "print(i)"
      ],
      "metadata": {
        "colab": {
          "base_uri": "https://localhost:8080/"
        },
        "id": "YOt-Dk1VC2Sw",
        "outputId": "efeb3ebd-4bdf-409e-db56-64102d2cc25f"
      },
      "execution_count": 61,
      "outputs": [
        {
          "output_type": "stream",
          "name": "stdout",
          "text": [
            "2000\n"
          ]
        }
      ]
    },
    {
      "cell_type": "code",
      "source": [
        "i = 2000"
      ],
      "metadata": {
        "id": "IgHk1X27CiUq"
      },
      "execution_count": 63,
      "outputs": []
    },
    {
      "cell_type": "code",
      "source": [
        "templates_BBH_30 = []"
      ],
      "metadata": {
        "id": "3d6TaCxDGPNQ"
      },
      "execution_count": 64,
      "outputs": []
    },
    {
      "cell_type": "code",
      "source": [
        "m1 = BH_masses_BBH[5] # m1=30\n",
        "for m2 in range(m1, 101, 5):\n",
        "  if m1 >= m2:\n",
        "    mass_ratio = m1/m2\n",
        "  else:\n",
        "    mass_ratio = m2/m1\n",
        "  if mass_ratio <= 10:\n",
        "    for spin1 in spins:\n",
        "      for spin2 in spins:\n",
        "        hp, hc = get_td_waveform(\n",
        "            approximant=\"SEOBNRv3\",\n",
        "            mass1=m1,\n",
        "            mass2=m2,\n",
        "            spin1x=0,\n",
        "            spin1y=0,\n",
        "            spin1z=spin1,\n",
        "            spin2x=0,\n",
        "            spin2y=0,\n",
        "            spin2z=spin2,\n",
        "            delta_t=1.0/2048,\n",
        "            f_lower=10.0\n",
        "            )\n",
        "        waveform = hp.numpy()\n",
        "        templates_BBH_30.append(waveform)"
      ],
      "metadata": {
        "id": "7fcU0heZGPPx"
      },
      "execution_count": 65,
      "outputs": []
    },
    {
      "cell_type": "code",
      "source": [
        "print(len(templates_BBH_30))"
      ],
      "metadata": {
        "colab": {
          "base_uri": "https://localhost:8080/"
        },
        "id": "omv4qlKSGPSJ",
        "outputId": "ce754483-104e-4056-cdfa-8f401f6091eb"
      },
      "execution_count": 66,
      "outputs": [
        {
          "output_type": "stream",
          "name": "stdout",
          "text": [
            "375\n"
          ]
        }
      ]
    },
    {
      "cell_type": "code",
      "source": [
        "desired_length = 2048\n",
        "\n",
        "modified_waveforms = []\n",
        "\n",
        "for waveform in templates_BBH_30:\n",
        "    if len(waveform) > desired_length:\n",
        "        modified_waveform = waveform[len(waveform) - desired_length:]\n",
        "        modified_waveforms.append(modified_waveform)\n",
        "    else:\n",
        "        modified_waveforms.append(waveform)\n",
        "\n",
        "templates_BBH_30 = modified_waveforms"
      ],
      "metadata": {
        "id": "82ZDbQndGPUh"
      },
      "execution_count": 67,
      "outputs": []
    },
    {
      "cell_type": "code",
      "source": [
        "output_dir = '/content/BBH_events'\n",
        "os.makedirs(output_dir, exist_ok=True)\n",
        "\n",
        "event_paths_30 = []\n",
        "event_targets_30 = []\n",
        "\n",
        "for waveform in templates_BBH_30:\n",
        "  event_name = f'BBH{i + 1}'\n",
        "\n",
        "  event_dir = os.path.join(output_dir, event_name)\n",
        "  os.makedirs(event_dir, exist_ok=True)\n",
        "\n",
        "  np.save(os.path.join(event_dir, f'strain{i + 1}.npy'), waveform)\n",
        "\n",
        "  event_paths_30.append(os.path.join(event_dir, f'strain{i + 1}.npy'))\n",
        "  event_targets_30.append('BBH')\n",
        "\n",
        "  i = i+1\n",
        "\n",
        "labels = np.array([event_paths_30, event_targets_30]).T\n",
        "np.save(os.path.join(output_dir, 'labels30.npy'), labels)"
      ],
      "metadata": {
        "id": "ssKafjbJGPW-"
      },
      "execution_count": 68,
      "outputs": []
    },
    {
      "cell_type": "code",
      "source": [
        "print(i)"
      ],
      "metadata": {
        "colab": {
          "base_uri": "https://localhost:8080/"
        },
        "id": "1W0nIzexGPZL",
        "outputId": "c4d24f1d-7414-40d3-ada8-8ce90b942a11"
      },
      "execution_count": 69,
      "outputs": [
        {
          "output_type": "stream",
          "name": "stdout",
          "text": [
            "2375\n"
          ]
        }
      ]
    },
    {
      "cell_type": "code",
      "source": [
        "i = 2375"
      ],
      "metadata": {
        "id": "-aF1KjG6K65X"
      },
      "execution_count": 78,
      "outputs": []
    },
    {
      "cell_type": "code",
      "source": [
        "templates_BBH_35 = []"
      ],
      "metadata": {
        "id": "0h7V7KyCK68B"
      },
      "execution_count": 72,
      "outputs": []
    },
    {
      "cell_type": "code",
      "source": [
        "m1 = BH_masses_BBH[6] # m1=35\n",
        "for m2 in range(m1, 101, 5):\n",
        "  if m1 >= m2:\n",
        "    mass_ratio = m1/m2\n",
        "  else:\n",
        "    mass_ratio = m2/m1\n",
        "  if mass_ratio <= 10:\n",
        "    for spin1 in spins:\n",
        "      for spin2 in spins:\n",
        "        hp, hc = get_td_waveform(\n",
        "            approximant=\"SEOBNRv3\",\n",
        "            mass1=m1,\n",
        "            mass2=m2,\n",
        "            spin1x=0,\n",
        "            spin1y=0,\n",
        "            spin1z=spin1,\n",
        "            spin2x=0,\n",
        "            spin2y=0,\n",
        "            spin2z=spin2,\n",
        "            delta_t=1.0/2048,\n",
        "            f_lower=10.0\n",
        "            )\n",
        "        waveform = hp.numpy()\n",
        "        templates_BBH_35.append(waveform)"
      ],
      "metadata": {
        "id": "_g7c4VxVK6-b"
      },
      "execution_count": 73,
      "outputs": []
    },
    {
      "cell_type": "code",
      "source": [
        "print(len(templates_BBH_35))"
      ],
      "metadata": {
        "colab": {
          "base_uri": "https://localhost:8080/"
        },
        "id": "OSYluXwZK7AY",
        "outputId": "8a13bf1f-014e-4190-b494-da75464d9b61"
      },
      "execution_count": 74,
      "outputs": [
        {
          "output_type": "stream",
          "name": "stdout",
          "text": [
            "350\n"
          ]
        }
      ]
    },
    {
      "cell_type": "code",
      "source": [
        "desired_length = 2048\n",
        "\n",
        "modified_waveforms = []\n",
        "\n",
        "for waveform in templates_BBH_35:\n",
        "    if len(waveform) > desired_length:\n",
        "        modified_waveform = waveform[len(waveform) - desired_length:]\n",
        "        modified_waveforms.append(modified_waveform)\n",
        "    else:\n",
        "        modified_waveforms.append(waveform)\n",
        "\n",
        "templates_BBH_35 = modified_waveforms"
      ],
      "metadata": {
        "id": "VBGEOH9zLQf9"
      },
      "execution_count": 75,
      "outputs": []
    },
    {
      "cell_type": "code",
      "source": [
        "output_dir = '/content/BBH_events'\n",
        "os.makedirs(output_dir, exist_ok=True)\n",
        "\n",
        "event_paths_35 = []\n",
        "event_targets_35 = []\n",
        "\n",
        "for waveform in templates_BBH_35:\n",
        "  event_name = f'BBH{i + 1}'\n",
        "\n",
        "  event_dir = os.path.join(output_dir, event_name)\n",
        "  os.makedirs(event_dir, exist_ok=True)\n",
        "\n",
        "  np.save(os.path.join(event_dir, f'strain{i + 1}.npy'), waveform)\n",
        "\n",
        "  event_paths_35.append(os.path.join(event_dir, f'strain{i + 1}.npy'))\n",
        "  event_targets_35.append('BBH')\n",
        "\n",
        "  i = i+1\n",
        "\n",
        "labels = np.array([event_paths_35, event_targets_35]).T\n",
        "np.save(os.path.join(output_dir, 'labels35.npy'), labels)"
      ],
      "metadata": {
        "id": "d1mIHBTZLQie"
      },
      "execution_count": 79,
      "outputs": []
    },
    {
      "cell_type": "code",
      "source": [
        "print(i)"
      ],
      "metadata": {
        "colab": {
          "base_uri": "https://localhost:8080/"
        },
        "id": "XR4vJCh3LQlu",
        "outputId": "ae1ca6f3-d543-4665-f77c-9962626333c4"
      },
      "execution_count": 80,
      "outputs": [
        {
          "output_type": "stream",
          "name": "stdout",
          "text": [
            "2725\n"
          ]
        }
      ]
    },
    {
      "cell_type": "code",
      "source": [
        "i = 2725"
      ],
      "metadata": {
        "id": "FPpEgCYVQ1Mx"
      },
      "execution_count": 82,
      "outputs": []
    },
    {
      "cell_type": "code",
      "source": [
        "templates_BBH_40 = []"
      ],
      "metadata": {
        "id": "ZEHIGZJDQ1QS"
      },
      "execution_count": 83,
      "outputs": []
    },
    {
      "cell_type": "code",
      "source": [
        "m1 = BH_masses_BBH[7] # m1=40\n",
        "for m2 in range(m1, 101, 5):\n",
        "  if m1 >= m2:\n",
        "    mass_ratio = m1/m2\n",
        "  else:\n",
        "    mass_ratio = m2/m1\n",
        "  if mass_ratio <= 10:\n",
        "    for spin1 in spins:\n",
        "      for spin2 in spins:\n",
        "        hp, hc = get_td_waveform(\n",
        "            approximant=\"SEOBNRv3\",\n",
        "            mass1=m1,\n",
        "            mass2=m2,\n",
        "            spin1x=0,\n",
        "            spin1y=0,\n",
        "            spin1z=spin1,\n",
        "            spin2x=0,\n",
        "            spin2y=0,\n",
        "            spin2z=spin2,\n",
        "            delta_t=1.0/2048,\n",
        "            f_lower=10.0\n",
        "            )\n",
        "        waveform = hp.numpy()\n",
        "        templates_BBH_40.append(waveform)"
      ],
      "metadata": {
        "id": "AXieW7k7Q1Tn"
      },
      "execution_count": 84,
      "outputs": []
    },
    {
      "cell_type": "code",
      "source": [
        "print(len(templates_BBH_40))"
      ],
      "metadata": {
        "colab": {
          "base_uri": "https://localhost:8080/"
        },
        "id": "lGX3kmOxQ1Wv",
        "outputId": "bff5200d-01a9-4e99-eb12-946d9c6211af"
      },
      "execution_count": 85,
      "outputs": [
        {
          "output_type": "stream",
          "name": "stdout",
          "text": [
            "325\n"
          ]
        }
      ]
    },
    {
      "cell_type": "code",
      "source": [
        "desired_length = 2048\n",
        "\n",
        "modified_waveforms = []\n",
        "\n",
        "for waveform in templates_BBH_40:\n",
        "    if len(waveform) > desired_length:\n",
        "        modified_waveform = waveform[len(waveform) - desired_length:]\n",
        "        modified_waveforms.append(modified_waveform)\n",
        "    else:\n",
        "        modified_waveforms.append(waveform)\n",
        "\n",
        "templates_BBH_40 = modified_waveforms"
      ],
      "metadata": {
        "id": "HHiLzMDGQ1Y5"
      },
      "execution_count": 86,
      "outputs": []
    },
    {
      "cell_type": "code",
      "source": [
        "output_dir = '/content/BBH_events'\n",
        "os.makedirs(output_dir, exist_ok=True)\n",
        "\n",
        "event_paths_40 = []\n",
        "event_targets_40 = []\n",
        "\n",
        "for waveform in templates_BBH_40:\n",
        "  event_name = f'BBH{i + 1}'\n",
        "\n",
        "  event_dir = os.path.join(output_dir, event_name)\n",
        "  os.makedirs(event_dir, exist_ok=True)\n",
        "\n",
        "  np.save(os.path.join(event_dir, f'strain{i + 1}.npy'), waveform)\n",
        "\n",
        "  event_paths_40.append(os.path.join(event_dir, f'strain{i + 1}.npy'))\n",
        "  event_targets_40.append('BBH')\n",
        "\n",
        "  i = i+1\n",
        "\n",
        "labels = np.array([event_paths_40, event_targets_40]).T\n",
        "np.save(os.path.join(output_dir, 'labels40.npy'), labels)"
      ],
      "metadata": {
        "id": "cKbSgi4hK7Cz"
      },
      "execution_count": 87,
      "outputs": []
    },
    {
      "cell_type": "code",
      "source": [
        "print(i)"
      ],
      "metadata": {
        "colab": {
          "base_uri": "https://localhost:8080/"
        },
        "id": "-2U4LfWARf6W",
        "outputId": "b6c79026-30fc-4fe2-d5c9-eca61a1af107"
      },
      "execution_count": 88,
      "outputs": [
        {
          "output_type": "stream",
          "name": "stdout",
          "text": [
            "3050\n"
          ]
        }
      ]
    },
    {
      "cell_type": "code",
      "source": [
        "i = 3050"
      ],
      "metadata": {
        "id": "JQWmRH0nVrZR"
      },
      "execution_count": 90,
      "outputs": []
    },
    {
      "cell_type": "code",
      "source": [
        "templates_BBH_45 = []"
      ],
      "metadata": {
        "id": "tCUffVzRVrb3"
      },
      "execution_count": 91,
      "outputs": []
    },
    {
      "cell_type": "code",
      "source": [
        "m1 = BH_masses_BBH[8] # m1=45\n",
        "for m2 in range(m1, 101, 5):\n",
        "  if m1 >= m2:\n",
        "    mass_ratio = m1/m2\n",
        "  else:\n",
        "    mass_ratio = m2/m1\n",
        "  if mass_ratio <= 10:\n",
        "    for spin1 in spins:\n",
        "      for spin2 in spins:\n",
        "        hp, hc = get_td_waveform(\n",
        "            approximant=\"SEOBNRv3\",\n",
        "            mass1=m1,\n",
        "            mass2=m2,\n",
        "            spin1x=0,\n",
        "            spin1y=0,\n",
        "            spin1z=spin1,\n",
        "            spin2x=0,\n",
        "            spin2y=0,\n",
        "            spin2z=spin2,\n",
        "            delta_t=1.0/2048,\n",
        "            f_lower=10.0\n",
        "            )\n",
        "        waveform = hp.numpy()\n",
        "        templates_BBH_45.append(waveform)"
      ],
      "metadata": {
        "id": "eIO-jGvnVreA"
      },
      "execution_count": 92,
      "outputs": []
    },
    {
      "cell_type": "code",
      "source": [
        "print(len(templates_BBH_45))"
      ],
      "metadata": {
        "colab": {
          "base_uri": "https://localhost:8080/"
        },
        "id": "Q5l57h18Vrg4",
        "outputId": "63774881-e1e3-4a57-9177-bb9615a34a13"
      },
      "execution_count": 93,
      "outputs": [
        {
          "output_type": "stream",
          "name": "stdout",
          "text": [
            "300\n"
          ]
        }
      ]
    },
    {
      "cell_type": "code",
      "source": [
        "desired_length = 2048\n",
        "\n",
        "modified_waveforms = []\n",
        "\n",
        "for waveform in templates_BBH_45:\n",
        "    if len(waveform) > desired_length:\n",
        "        modified_waveform = waveform[len(waveform) - desired_length:]\n",
        "        modified_waveforms.append(modified_waveform)\n",
        "    else:\n",
        "        modified_waveforms.append(waveform)\n",
        "\n",
        "templates_BBH_45 = modified_waveforms"
      ],
      "metadata": {
        "id": "F5lUahP_Rf8u"
      },
      "execution_count": 94,
      "outputs": []
    },
    {
      "cell_type": "code",
      "source": [
        "output_dir = '/content/BBH_events'\n",
        "os.makedirs(output_dir, exist_ok=True)\n",
        "\n",
        "event_paths_45 = []\n",
        "event_targets_45 = []\n",
        "\n",
        "for waveform in templates_BBH_45:\n",
        "  event_name = f'BBH{i + 1}'\n",
        "\n",
        "  event_dir = os.path.join(output_dir, event_name)\n",
        "  os.makedirs(event_dir, exist_ok=True)\n",
        "\n",
        "  np.save(os.path.join(event_dir, f'strain{i + 1}.npy'), waveform)\n",
        "\n",
        "  event_paths_45.append(os.path.join(event_dir, f'strain{i + 1}.npy'))\n",
        "  event_targets_45.append('BBH')\n",
        "\n",
        "  i = i+1\n",
        "\n",
        "labels = np.array([event_paths_45, event_targets_45]).T\n",
        "np.save(os.path.join(output_dir, 'labels45.npy'), labels)"
      ],
      "metadata": {
        "id": "3PcloPGzWIlV"
      },
      "execution_count": 95,
      "outputs": []
    },
    {
      "cell_type": "code",
      "source": [
        "print(i)"
      ],
      "metadata": {
        "colab": {
          "base_uri": "https://localhost:8080/"
        },
        "id": "hy_lBJAmWIpI",
        "outputId": "dd1ed29e-5e3d-42bf-d1ff-f185ab4449d7"
      },
      "execution_count": 96,
      "outputs": [
        {
          "output_type": "stream",
          "name": "stdout",
          "text": [
            "3350\n"
          ]
        }
      ]
    },
    {
      "cell_type": "code",
      "source": [
        "i = 3350"
      ],
      "metadata": {
        "id": "nF2u9iRVZ_PQ"
      },
      "execution_count": 98,
      "outputs": []
    },
    {
      "cell_type": "code",
      "source": [
        "templates_BBH_50 = []"
      ],
      "metadata": {
        "id": "FvbV9klCZ_R6"
      },
      "execution_count": 99,
      "outputs": []
    },
    {
      "cell_type": "code",
      "source": [
        "m1 = BH_masses_BBH[9] # m1=50\n",
        "for m2 in range(m1, 101, 5):\n",
        "  if m1 >= m2:\n",
        "    mass_ratio = m1/m2\n",
        "  else:\n",
        "    mass_ratio = m2/m1\n",
        "  if mass_ratio <= 10:\n",
        "    for spin1 in spins:\n",
        "      for spin2 in spins:\n",
        "        hp, hc = get_td_waveform(\n",
        "            approximant=\"SEOBNRv3\",\n",
        "            mass1=m1,\n",
        "            mass2=m2,\n",
        "            spin1x=0,\n",
        "            spin1y=0,\n",
        "            spin1z=spin1,\n",
        "            spin2x=0,\n",
        "            spin2y=0,\n",
        "            spin2z=spin2,\n",
        "            delta_t=1.0/2048,\n",
        "            f_lower=10.0\n",
        "            )\n",
        "        waveform = hp.numpy()\n",
        "        templates_BBH_50.append(waveform)"
      ],
      "metadata": {
        "id": "xFw5RTYLZ_Uo"
      },
      "execution_count": 100,
      "outputs": []
    },
    {
      "cell_type": "code",
      "source": [
        "print(len(templates_BBH_50))"
      ],
      "metadata": {
        "colab": {
          "base_uri": "https://localhost:8080/"
        },
        "id": "UwwH18f1Z_XX",
        "outputId": "00d35adc-a0fd-4f97-e697-aacf9040046f"
      },
      "execution_count": 101,
      "outputs": [
        {
          "output_type": "stream",
          "name": "stdout",
          "text": [
            "275\n"
          ]
        }
      ]
    },
    {
      "cell_type": "code",
      "source": [
        "desired_length = 2048\n",
        "\n",
        "modified_waveforms = []\n",
        "\n",
        "for waveform in templates_BBH_50:\n",
        "    if len(waveform) > desired_length:\n",
        "        modified_waveform = waveform[len(waveform) - desired_length:]\n",
        "        modified_waveforms.append(modified_waveform)\n",
        "    else:\n",
        "        modified_waveforms.append(waveform)\n",
        "\n",
        "templates_BBH_50 = modified_waveforms"
      ],
      "metadata": {
        "id": "8W92SeH9Z_aV"
      },
      "execution_count": 102,
      "outputs": []
    },
    {
      "cell_type": "code",
      "source": [
        "output_dir = '/content/BBH_events'\n",
        "os.makedirs(output_dir, exist_ok=True)\n",
        "\n",
        "event_paths_50 = []\n",
        "event_targets_50 = []\n",
        "\n",
        "for waveform in templates_BBH_50:\n",
        "  event_name = f'BBH{i + 1}'\n",
        "\n",
        "  event_dir = os.path.join(output_dir, event_name)\n",
        "  os.makedirs(event_dir, exist_ok=True)\n",
        "\n",
        "  np.save(os.path.join(event_dir, f'strain{i + 1}.npy'), waveform)\n",
        "\n",
        "  event_paths_50.append(os.path.join(event_dir, f'strain{i + 1}.npy'))\n",
        "  event_targets_50.append('BBH')\n",
        "\n",
        "  i = i+1\n",
        "\n",
        "labels = np.array([event_paths_50, event_targets_50]).T\n",
        "np.save(os.path.join(output_dir, 'labels50.npy'), labels)"
      ],
      "metadata": {
        "id": "HGGBi6NVWIug"
      },
      "execution_count": 103,
      "outputs": []
    },
    {
      "cell_type": "code",
      "source": [
        "print(i)"
      ],
      "metadata": {
        "colab": {
          "base_uri": "https://localhost:8080/"
        },
        "id": "bEIT2LjjRf_F",
        "outputId": "e981fdac-6b93-440e-c629-252635bd9db2"
      },
      "execution_count": 104,
      "outputs": [
        {
          "output_type": "stream",
          "name": "stdout",
          "text": [
            "3625\n"
          ]
        }
      ]
    },
    {
      "cell_type": "code",
      "source": [
        "i = 3625"
      ],
      "metadata": {
        "id": "fu1YxfTVc7VD"
      },
      "execution_count": 106,
      "outputs": []
    },
    {
      "cell_type": "code",
      "source": [
        "templates_BBH_55 = []"
      ],
      "metadata": {
        "id": "SJV-CDTYc7Xc"
      },
      "execution_count": 107,
      "outputs": []
    },
    {
      "cell_type": "code",
      "source": [
        "m1 = BH_masses_BBH[10] # m1=55\n",
        "for m2 in range(m1, 101, 5):\n",
        "  if m1 >= m2:\n",
        "    mass_ratio = m1/m2\n",
        "  else:\n",
        "    mass_ratio = m2/m1\n",
        "  if mass_ratio <= 10:\n",
        "    for spin1 in spins:\n",
        "      for spin2 in spins:\n",
        "        hp, hc = get_td_waveform(\n",
        "            approximant=\"SEOBNRv3\",\n",
        "            mass1=m1,\n",
        "            mass2=m2,\n",
        "            spin1x=0,\n",
        "            spin1y=0,\n",
        "            spin1z=spin1,\n",
        "            spin2x=0,\n",
        "            spin2y=0,\n",
        "            spin2z=spin2,\n",
        "            delta_t=1.0/2048,\n",
        "            f_lower=10.0\n",
        "            )\n",
        "        waveform = hp.numpy()\n",
        "        templates_BBH_55.append(waveform)"
      ],
      "metadata": {
        "id": "bCe3v8l1c7aA"
      },
      "execution_count": 108,
      "outputs": []
    },
    {
      "cell_type": "code",
      "source": [
        "print(len(templates_BBH_55))"
      ],
      "metadata": {
        "colab": {
          "base_uri": "https://localhost:8080/"
        },
        "id": "2bXqpbu8c7co",
        "outputId": "b0e4f00b-dbee-4935-9ec1-2ba7e357a78c"
      },
      "execution_count": 109,
      "outputs": [
        {
          "output_type": "stream",
          "name": "stdout",
          "text": [
            "250\n"
          ]
        }
      ]
    },
    {
      "cell_type": "code",
      "source": [
        "desired_length = 2048\n",
        "\n",
        "modified_waveforms = []\n",
        "\n",
        "for waveform in templates_BBH_55:\n",
        "    if len(waveform) > desired_length:\n",
        "        modified_waveform = waveform[len(waveform) - desired_length:]\n",
        "        modified_waveforms.append(modified_waveform)\n",
        "    else:\n",
        "        modified_waveforms.append(waveform)\n",
        "\n",
        "templates_BBH_55 = modified_waveforms"
      ],
      "metadata": {
        "id": "eCEXoXqQc7fM"
      },
      "execution_count": 110,
      "outputs": []
    },
    {
      "cell_type": "code",
      "source": [
        "output_dir = '/content/BBH_events'\n",
        "os.makedirs(output_dir, exist_ok=True)\n",
        "\n",
        "event_paths_55 = []\n",
        "event_targets_55 = []\n",
        "\n",
        "for waveform in templates_BBH_55:\n",
        "  event_name = f'BBH{i + 1}'\n",
        "\n",
        "  event_dir = os.path.join(output_dir, event_name)\n",
        "  os.makedirs(event_dir, exist_ok=True)\n",
        "\n",
        "  np.save(os.path.join(event_dir, f'strain{i + 1}.npy'), waveform)\n",
        "\n",
        "  event_paths_55.append(os.path.join(event_dir, f'strain{i + 1}.npy'))\n",
        "  event_targets_55.append('BBH')\n",
        "\n",
        "  i = i+1\n",
        "\n",
        "labels = np.array([event_paths_55, event_targets_55]).T\n",
        "np.save(os.path.join(output_dir, 'labels55.npy'), labels)"
      ],
      "metadata": {
        "id": "CXcD466ec7hz"
      },
      "execution_count": 111,
      "outputs": []
    },
    {
      "cell_type": "code",
      "source": [
        "print(i)"
      ],
      "metadata": {
        "colab": {
          "base_uri": "https://localhost:8080/"
        },
        "id": "nNpBGjBvc7kk",
        "outputId": "1fd2b0c8-3b3a-41e8-cd6f-6e57660c4d81"
      },
      "execution_count": 112,
      "outputs": [
        {
          "output_type": "stream",
          "name": "stdout",
          "text": [
            "3875\n"
          ]
        }
      ]
    },
    {
      "cell_type": "code",
      "source": [
        "i = 3875"
      ],
      "metadata": {
        "id": "HwaN5KNkgO6l"
      },
      "execution_count": 114,
      "outputs": []
    },
    {
      "cell_type": "code",
      "source": [
        "templates_BBH_60 = []"
      ],
      "metadata": {
        "id": "SkqHEVAvgO9Y"
      },
      "execution_count": 115,
      "outputs": []
    },
    {
      "cell_type": "code",
      "source": [
        "m1 = BH_masses_BBH[11] # m1=60\n",
        "for m2 in range(m1, 101, 5):\n",
        "  if m1 >= m2:\n",
        "    mass_ratio = m1/m2\n",
        "  else:\n",
        "    mass_ratio = m2/m1\n",
        "  if mass_ratio <= 10:\n",
        "    for spin1 in spins:\n",
        "      for spin2 in spins:\n",
        "        hp, hc = get_td_waveform(\n",
        "            approximant=\"SEOBNRv3\",\n",
        "            mass1=m1,\n",
        "            mass2=m2,\n",
        "            spin1x=0,\n",
        "            spin1y=0,\n",
        "            spin1z=spin1,\n",
        "            spin2x=0,\n",
        "            spin2y=0,\n",
        "            spin2z=spin2,\n",
        "            delta_t=1.0/2048,\n",
        "            f_lower=10.0\n",
        "            )\n",
        "        waveform = hp.numpy()\n",
        "        templates_BBH_60.append(waveform)"
      ],
      "metadata": {
        "id": "4cqgakt5gO_6"
      },
      "execution_count": 116,
      "outputs": []
    },
    {
      "cell_type": "code",
      "source": [
        "print(len(templates_BBH_60))"
      ],
      "metadata": {
        "colab": {
          "base_uri": "https://localhost:8080/"
        },
        "id": "FgfWinL-gPCv",
        "outputId": "78ee0d4b-33a5-470a-842c-a4fcb0811147"
      },
      "execution_count": 117,
      "outputs": [
        {
          "output_type": "stream",
          "name": "stdout",
          "text": [
            "225\n"
          ]
        }
      ]
    },
    {
      "cell_type": "code",
      "source": [
        "desired_length = 2048\n",
        "\n",
        "modified_waveforms = []\n",
        "\n",
        "for waveform in templates_BBH_60:\n",
        "    if len(waveform) > desired_length:\n",
        "        modified_waveform = waveform[len(waveform) - desired_length:]\n",
        "        modified_waveforms.append(modified_waveform)\n",
        "    else:\n",
        "        modified_waveforms.append(waveform)\n",
        "\n",
        "templates_BBH_60 = modified_waveforms"
      ],
      "metadata": {
        "id": "dXaADHhcghXX"
      },
      "execution_count": 118,
      "outputs": []
    },
    {
      "cell_type": "code",
      "source": [
        "output_dir = '/content/BBH_events'\n",
        "os.makedirs(output_dir, exist_ok=True)\n",
        "\n",
        "event_paths_60 = []\n",
        "event_targets_60 = []\n",
        "\n",
        "for waveform in templates_BBH_60:\n",
        "  event_name = f'BBH{i + 1}'\n",
        "\n",
        "  event_dir = os.path.join(output_dir, event_name)\n",
        "  os.makedirs(event_dir, exist_ok=True)\n",
        "\n",
        "  np.save(os.path.join(event_dir, f'strain{i + 1}.npy'), waveform)\n",
        "\n",
        "  event_paths_60.append(os.path.join(event_dir, f'strain{i + 1}.npy'))\n",
        "  event_targets_60.append('BBH')\n",
        "\n",
        "  i = i+1\n",
        "\n",
        "labels = np.array([event_paths_60, event_targets_60]).T\n",
        "np.save(os.path.join(output_dir, 'labels60.npy'), labels)"
      ],
      "metadata": {
        "id": "ofawEcXAgheD"
      },
      "execution_count": 119,
      "outputs": []
    },
    {
      "cell_type": "code",
      "source": [
        "print(i)"
      ],
      "metadata": {
        "colab": {
          "base_uri": "https://localhost:8080/"
        },
        "id": "7TCWdWzKgpDm",
        "outputId": "332079b9-790d-4dd2-f30f-cd9b9036ab60"
      },
      "execution_count": 120,
      "outputs": [
        {
          "output_type": "stream",
          "name": "stdout",
          "text": [
            "4100\n"
          ]
        }
      ]
    },
    {
      "cell_type": "code",
      "source": [
        "i = 4100"
      ],
      "metadata": {
        "id": "hz4w0dYxmweW"
      },
      "execution_count": 122,
      "outputs": []
    },
    {
      "cell_type": "code",
      "source": [
        "templates_BBH_65 = []"
      ],
      "metadata": {
        "id": "h8vC5xnfmwjO"
      },
      "execution_count": 123,
      "outputs": []
    },
    {
      "cell_type": "code",
      "source": [
        "m1 = BH_masses_BBH[12] # m1=65\n",
        "for m2 in range(m1, 101, 5):\n",
        "  if m1 >= m2:\n",
        "    mass_ratio = m1/m2\n",
        "  else:\n",
        "    mass_ratio = m2/m1\n",
        "  if mass_ratio <= 10:\n",
        "    for spin1 in spins:\n",
        "      for spin2 in spins:\n",
        "        hp, hc = get_td_waveform(\n",
        "            approximant=\"SEOBNRv3\",\n",
        "            mass1=m1,\n",
        "            mass2=m2,\n",
        "            spin1x=0,\n",
        "            spin1y=0,\n",
        "            spin1z=spin1,\n",
        "            spin2x=0,\n",
        "            spin2y=0,\n",
        "            spin2z=spin2,\n",
        "            delta_t=1.0/2048,\n",
        "            f_lower=10.0\n",
        "            )\n",
        "        waveform = hp.numpy()\n",
        "        templates_BBH_65.append(waveform)"
      ],
      "metadata": {
        "id": "oc09U5Gkmwk6"
      },
      "execution_count": 124,
      "outputs": []
    },
    {
      "cell_type": "code",
      "source": [
        "print(len(templates_BBH_65))"
      ],
      "metadata": {
        "colab": {
          "base_uri": "https://localhost:8080/"
        },
        "id": "i6YUKrHcgpI_",
        "outputId": "34dfac73-b132-4b7d-fa25-64bca75b15ad"
      },
      "execution_count": 125,
      "outputs": [
        {
          "output_type": "stream",
          "name": "stdout",
          "text": [
            "200\n"
          ]
        }
      ]
    },
    {
      "cell_type": "code",
      "source": [
        "desired_length = 2048\n",
        "\n",
        "modified_waveforms = []\n",
        "\n",
        "for waveform in templates_BBH_65:\n",
        "    if len(waveform) > desired_length:\n",
        "        modified_waveform = waveform[len(waveform) - desired_length:]\n",
        "        modified_waveforms.append(modified_waveform)\n",
        "    else:\n",
        "        modified_waveforms.append(waveform)\n",
        "\n",
        "templates_BBH_65 = modified_waveforms"
      ],
      "metadata": {
        "id": "ku92lZa_nAfH"
      },
      "execution_count": 126,
      "outputs": []
    },
    {
      "cell_type": "code",
      "source": [
        "output_dir = '/content/BBH_events'\n",
        "os.makedirs(output_dir, exist_ok=True)\n",
        "\n",
        "event_paths_65 = []\n",
        "event_targets_65 = []\n",
        "\n",
        "for waveform in templates_BBH_65:\n",
        "  event_name = f'BBH{i + 1}'\n",
        "\n",
        "  event_dir = os.path.join(output_dir, event_name)\n",
        "  os.makedirs(event_dir, exist_ok=True)\n",
        "\n",
        "  np.save(os.path.join(event_dir, f'strain{i + 1}.npy'), waveform)\n",
        "\n",
        "  event_paths_65.append(os.path.join(event_dir, f'strain{i + 1}.npy'))\n",
        "  event_targets_65.append('BBH')\n",
        "\n",
        "  i = i+1\n",
        "\n",
        "labels = np.array([event_paths_65, event_targets_65]).T\n",
        "np.save(os.path.join(output_dir, 'labels65.npy'), labels)"
      ],
      "metadata": {
        "id": "lTaVHPE4nAmL"
      },
      "execution_count": 127,
      "outputs": []
    },
    {
      "cell_type": "code",
      "source": [
        "print(i)"
      ],
      "metadata": {
        "colab": {
          "base_uri": "https://localhost:8080/"
        },
        "id": "KDZqWR7rp-fk",
        "outputId": "bd5f43e0-9487-492e-b152-f7e9f420ab59"
      },
      "execution_count": 128,
      "outputs": [
        {
          "output_type": "stream",
          "name": "stdout",
          "text": [
            "4300\n"
          ]
        }
      ]
    },
    {
      "cell_type": "code",
      "source": [
        "i = 4300"
      ],
      "metadata": {
        "id": "z3rE8A4tp-iK"
      },
      "execution_count": 130,
      "outputs": []
    },
    {
      "cell_type": "code",
      "source": [
        "templates_BBH_70 = []"
      ],
      "metadata": {
        "id": "VAzQ6zDip-k6"
      },
      "execution_count": 131,
      "outputs": []
    },
    {
      "cell_type": "code",
      "source": [
        "m1 = BH_masses_BBH[13] # m1=70\n",
        "for m2 in range(m1, 101, 5):\n",
        "  if m1 >= m2:\n",
        "    mass_ratio = m1/m2\n",
        "  else:\n",
        "    mass_ratio = m2/m1\n",
        "  if mass_ratio <= 10:\n",
        "    for spin1 in spins:\n",
        "      for spin2 in spins:\n",
        "        hp, hc = get_td_waveform(\n",
        "            approximant=\"SEOBNRv3\",\n",
        "            mass1=m1,\n",
        "            mass2=m2,\n",
        "            spin1x=0,\n",
        "            spin1y=0,\n",
        "            spin1z=spin1,\n",
        "            spin2x=0,\n",
        "            spin2y=0,\n",
        "            spin2z=spin2,\n",
        "            delta_t=1.0/2048,\n",
        "            f_lower=10.0\n",
        "            )\n",
        "        waveform = hp.numpy()\n",
        "        templates_BBH_70.append(waveform)"
      ],
      "metadata": {
        "id": "FzT_z1PYp-n0"
      },
      "execution_count": 132,
      "outputs": []
    },
    {
      "cell_type": "code",
      "source": [
        "print(len(templates_BBH_70))"
      ],
      "metadata": {
        "colab": {
          "base_uri": "https://localhost:8080/"
        },
        "id": "6VPVAuSxp-qc",
        "outputId": "ef6cc117-cb31-45e7-fc00-45e693429a57"
      },
      "execution_count": 133,
      "outputs": [
        {
          "output_type": "stream",
          "name": "stdout",
          "text": [
            "175\n"
          ]
        }
      ]
    },
    {
      "cell_type": "code",
      "source": [
        "desired_length = 2048\n",
        "\n",
        "modified_waveforms = []\n",
        "\n",
        "for waveform in templates_BBH_70:\n",
        "    if len(waveform) > desired_length:\n",
        "        modified_waveform = waveform[len(waveform) - desired_length:]\n",
        "        modified_waveforms.append(modified_waveform)\n",
        "    else:\n",
        "        modified_waveforms.append(waveform)\n",
        "\n",
        "templates_BBH_70 = modified_waveforms"
      ],
      "metadata": {
        "id": "gsJ7tHCip-s6"
      },
      "execution_count": 134,
      "outputs": []
    },
    {
      "cell_type": "code",
      "source": [
        "output_dir = '/content/BBH_events'\n",
        "os.makedirs(output_dir, exist_ok=True)\n",
        "\n",
        "event_paths_70 = []\n",
        "event_targets_70 = []\n",
        "\n",
        "for waveform in templates_BBH_70:\n",
        "  event_name = f'BBH{i + 1}'\n",
        "\n",
        "  event_dir = os.path.join(output_dir, event_name)\n",
        "  os.makedirs(event_dir, exist_ok=True)\n",
        "\n",
        "  np.save(os.path.join(event_dir, f'strain{i + 1}.npy'), waveform)\n",
        "\n",
        "  event_paths_70.append(os.path.join(event_dir, f'strain{i + 1}.npy'))\n",
        "  event_targets_70.append('BBH')\n",
        "\n",
        "  i = i+1\n",
        "\n",
        "labels = np.array([event_paths_70, event_targets_70]).T\n",
        "np.save(os.path.join(output_dir, 'labels70.npy'), labels)"
      ],
      "metadata": {
        "id": "xLYU51vwp-8s"
      },
      "execution_count": 135,
      "outputs": []
    },
    {
      "cell_type": "code",
      "source": [
        "print(i)"
      ],
      "metadata": {
        "colab": {
          "base_uri": "https://localhost:8080/"
        },
        "id": "qSW5YvJssO7g",
        "outputId": "7a84ac55-2896-4aea-b633-9eb3271474d8"
      },
      "execution_count": 136,
      "outputs": [
        {
          "output_type": "stream",
          "name": "stdout",
          "text": [
            "4475\n"
          ]
        }
      ]
    },
    {
      "cell_type": "code",
      "source": [
        "i = 4475"
      ],
      "metadata": {
        "id": "W_ElAdVYsO-c"
      },
      "execution_count": 138,
      "outputs": []
    },
    {
      "cell_type": "code",
      "source": [
        "templates_BBH_75 = []"
      ],
      "metadata": {
        "id": "2U4aAxotsPD4"
      },
      "execution_count": 139,
      "outputs": []
    },
    {
      "cell_type": "code",
      "source": [
        "m1 = BH_masses_BBH[14] # m1=75\n",
        "for m2 in range(m1, 101, 5):\n",
        "  if m1 >= m2:\n",
        "    mass_ratio = m1/m2\n",
        "  else:\n",
        "    mass_ratio = m2/m1\n",
        "  if mass_ratio <= 10:\n",
        "    for spin1 in spins:\n",
        "      for spin2 in spins:\n",
        "        hp, hc = get_td_waveform(\n",
        "            approximant=\"SEOBNRv3\",\n",
        "            mass1=m1,\n",
        "            mass2=m2,\n",
        "            spin1x=0,\n",
        "            spin1y=0,\n",
        "            spin1z=spin1,\n",
        "            spin2x=0,\n",
        "            spin2y=0,\n",
        "            spin2z=spin2,\n",
        "            delta_t=1.0/2048,\n",
        "            f_lower=10.0\n",
        "            )\n",
        "        waveform = hp.numpy()\n",
        "        templates_BBH_75.append(waveform)"
      ],
      "metadata": {
        "id": "vFpQSfLvsPH-"
      },
      "execution_count": 140,
      "outputs": []
    },
    {
      "cell_type": "code",
      "source": [
        "print(len(templates_BBH_75))"
      ],
      "metadata": {
        "colab": {
          "base_uri": "https://localhost:8080/"
        },
        "id": "-DN08HnhsPK8",
        "outputId": "3fa6dcd0-6d52-487e-e167-8aec898d12e9"
      },
      "execution_count": 141,
      "outputs": [
        {
          "output_type": "stream",
          "name": "stdout",
          "text": [
            "150\n"
          ]
        }
      ]
    },
    {
      "cell_type": "code",
      "source": [
        "desired_length = 2048\n",
        "\n",
        "modified_waveforms = []\n",
        "\n",
        "for waveform in templates_BBH_75:\n",
        "    if len(waveform) > desired_length:\n",
        "        modified_waveform = waveform[len(waveform) - desired_length:]\n",
        "        modified_waveforms.append(modified_waveform)\n",
        "    else:\n",
        "        modified_waveforms.append(waveform)\n",
        "\n",
        "templates_BBH_75 = modified_waveforms"
      ],
      "metadata": {
        "id": "4lHNKKLjp_DA"
      },
      "execution_count": 142,
      "outputs": []
    },
    {
      "cell_type": "code",
      "source": [
        "output_dir = '/content/BBH_events'\n",
        "os.makedirs(output_dir, exist_ok=True)\n",
        "\n",
        "event_paths_75 = []\n",
        "event_targets_75 = []\n",
        "\n",
        "for waveform in templates_BBH_75:\n",
        "  event_name = f'BBH{i + 1}'\n",
        "\n",
        "  event_dir = os.path.join(output_dir, event_name)\n",
        "  os.makedirs(event_dir, exist_ok=True)\n",
        "\n",
        "  np.save(os.path.join(event_dir, f'strain{i + 1}.npy'), waveform)\n",
        "\n",
        "  event_paths_75.append(os.path.join(event_dir, f'strain{i + 1}.npy'))\n",
        "  event_targets_75.append('BBH')\n",
        "\n",
        "  i = i+1\n",
        "\n",
        "labels = np.array([event_paths_75, event_targets_75]).T\n",
        "np.save(os.path.join(output_dir, 'labels75.npy'), labels)"
      ],
      "metadata": {
        "id": "wIJXzX1ep_Fq"
      },
      "execution_count": 143,
      "outputs": []
    },
    {
      "cell_type": "code",
      "source": [
        "print(i)"
      ],
      "metadata": {
        "colab": {
          "base_uri": "https://localhost:8080/"
        },
        "id": "zw2e3wiLp_Il",
        "outputId": "bee35363-d9fa-4fbd-84ef-f3e4c2162af7"
      },
      "execution_count": 144,
      "outputs": [
        {
          "output_type": "stream",
          "name": "stdout",
          "text": [
            "4625\n"
          ]
        }
      ]
    },
    {
      "cell_type": "code",
      "source": [
        "i = 4625"
      ],
      "metadata": {
        "id": "53s1QVJaui5V"
      },
      "execution_count": 146,
      "outputs": []
    },
    {
      "cell_type": "code",
      "source": [
        "templates_BBH_80 = []"
      ],
      "metadata": {
        "id": "qPQdTlkjui7-"
      },
      "execution_count": 147,
      "outputs": []
    },
    {
      "cell_type": "code",
      "source": [
        "m1 = BH_masses_BBH[15] # m1=80\n",
        "for m2 in range(m1, 101, 5):\n",
        "  if m1 >= m2:\n",
        "    mass_ratio = m1/m2\n",
        "  else:\n",
        "    mass_ratio = m2/m1\n",
        "  if mass_ratio <= 10:\n",
        "    for spin1 in spins:\n",
        "      for spin2 in spins:\n",
        "        hp, hc = get_td_waveform(\n",
        "            approximant=\"SEOBNRv3\",\n",
        "            mass1=m1,\n",
        "            mass2=m2,\n",
        "            spin1x=0,\n",
        "            spin1y=0,\n",
        "            spin1z=spin1,\n",
        "            spin2x=0,\n",
        "            spin2y=0,\n",
        "            spin2z=spin2,\n",
        "            delta_t=1.0/2048,\n",
        "            f_lower=10.0\n",
        "            )\n",
        "        waveform = hp.numpy()\n",
        "        templates_BBH_80.append(waveform)"
      ],
      "metadata": {
        "id": "001JO4Gpui-r"
      },
      "execution_count": 148,
      "outputs": []
    },
    {
      "cell_type": "code",
      "source": [
        "print(len(templates_BBH_80))"
      ],
      "metadata": {
        "colab": {
          "base_uri": "https://localhost:8080/"
        },
        "id": "QXUnVYd-ujBN",
        "outputId": "3a3cead7-1868-49a4-a298-06b400efc3f8"
      },
      "execution_count": 149,
      "outputs": [
        {
          "output_type": "stream",
          "name": "stdout",
          "text": [
            "125\n"
          ]
        }
      ]
    },
    {
      "cell_type": "code",
      "source": [
        "desired_length = 2048\n",
        "\n",
        "modified_waveforms = []\n",
        "\n",
        "for waveform in templates_BBH_80:\n",
        "    if len(waveform) > desired_length:\n",
        "        modified_waveform = waveform[len(waveform) - desired_length:]\n",
        "        modified_waveforms.append(modified_waveform)\n",
        "    else:\n",
        "        modified_waveforms.append(waveform)\n",
        "\n",
        "templates_BBH_80 = modified_waveforms"
      ],
      "metadata": {
        "id": "0cQhC4-nu7Aq"
      },
      "execution_count": 150,
      "outputs": []
    },
    {
      "cell_type": "code",
      "source": [
        "output_dir = '/content/BBH_events'\n",
        "os.makedirs(output_dir, exist_ok=True)\n",
        "\n",
        "event_paths_80 = []\n",
        "event_targets_80 = []\n",
        "\n",
        "for waveform in templates_BBH_80:\n",
        "  event_name = f'BBH{i + 1}'\n",
        "\n",
        "  event_dir = os.path.join(output_dir, event_name)\n",
        "  os.makedirs(event_dir, exist_ok=True)\n",
        "\n",
        "  np.save(os.path.join(event_dir, f'strain{i + 1}.npy'), waveform)\n",
        "\n",
        "  event_paths_80.append(os.path.join(event_dir, f'strain{i + 1}.npy'))\n",
        "  event_targets_80.append('BBH')\n",
        "\n",
        "  i = i+1\n",
        "\n",
        "labels = np.array([event_paths_80, event_targets_80]).T\n",
        "np.save(os.path.join(output_dir, 'labels80.npy'), labels)"
      ],
      "metadata": {
        "id": "cdVSyFV2u7Ic"
      },
      "execution_count": 151,
      "outputs": []
    },
    {
      "cell_type": "code",
      "source": [
        "print(i)"
      ],
      "metadata": {
        "colab": {
          "base_uri": "https://localhost:8080/"
        },
        "id": "U3NqgtXcwWTW",
        "outputId": "6895d116-2ece-44f4-9e32-190812ff18b8"
      },
      "execution_count": 152,
      "outputs": [
        {
          "output_type": "stream",
          "name": "stdout",
          "text": [
            "4750\n"
          ]
        }
      ]
    },
    {
      "cell_type": "code",
      "source": [
        "i = 4750"
      ],
      "metadata": {
        "id": "jXVZehPtwWc_"
      },
      "execution_count": 154,
      "outputs": []
    },
    {
      "cell_type": "code",
      "source": [
        "templates_BBH_85 = []"
      ],
      "metadata": {
        "id": "izBvqvu0wWfz"
      },
      "execution_count": 155,
      "outputs": []
    },
    {
      "cell_type": "code",
      "source": [
        "m1 = BH_masses_BBH[16] # m1=85\n",
        "for m2 in range(m1, 101, 5):\n",
        "  if m1 >= m2:\n",
        "    mass_ratio = m1/m2\n",
        "  else:\n",
        "    mass_ratio = m2/m1\n",
        "  if mass_ratio <= 10:\n",
        "    for spin1 in spins:\n",
        "      for spin2 in spins:\n",
        "        hp, hc = get_td_waveform(\n",
        "            approximant=\"SEOBNRv3\",\n",
        "            mass1=m1,\n",
        "            mass2=m2,\n",
        "            spin1x=0,\n",
        "            spin1y=0,\n",
        "            spin1z=spin1,\n",
        "            spin2x=0,\n",
        "            spin2y=0,\n",
        "            spin2z=spin2,\n",
        "            delta_t=1.0/2048,\n",
        "            f_lower=10.0\n",
        "            )\n",
        "        waveform = hp.numpy()\n",
        "        templates_BBH_85.append(waveform)"
      ],
      "metadata": {
        "id": "VuwI8Jpeu7MN"
      },
      "execution_count": 156,
      "outputs": []
    },
    {
      "cell_type": "code",
      "source": [
        "print(len(templates_BBH_85))"
      ],
      "metadata": {
        "colab": {
          "base_uri": "https://localhost:8080/"
        },
        "id": "bSFXPT-Nu7QP",
        "outputId": "51cc5f5d-4700-4b7f-d8ac-42de6db0591b"
      },
      "execution_count": 157,
      "outputs": [
        {
          "output_type": "stream",
          "name": "stdout",
          "text": [
            "100\n"
          ]
        }
      ]
    },
    {
      "cell_type": "code",
      "source": [
        "desired_length = 2048\n",
        "\n",
        "modified_waveforms = []\n",
        "\n",
        "for waveform in templates_BBH_85:\n",
        "    if len(waveform) > desired_length:\n",
        "        modified_waveform = waveform[len(waveform) - desired_length:]\n",
        "        modified_waveforms.append(modified_waveform)\n",
        "    else:\n",
        "        modified_waveforms.append(waveform)\n",
        "\n",
        "templates_BBH_85 = modified_waveforms"
      ],
      "metadata": {
        "id": "i4sNB7fBu7S1"
      },
      "execution_count": 158,
      "outputs": []
    },
    {
      "cell_type": "code",
      "source": [
        "output_dir = '/content/BBH_events'\n",
        "os.makedirs(output_dir, exist_ok=True)\n",
        "\n",
        "event_paths_85 = []\n",
        "event_targets_85 = []\n",
        "\n",
        "for waveform in templates_BBH_85:\n",
        "  event_name = f'BBH{i + 1}'\n",
        "\n",
        "  event_dir = os.path.join(output_dir, event_name)\n",
        "  os.makedirs(event_dir, exist_ok=True)\n",
        "\n",
        "  np.save(os.path.join(event_dir, f'strain{i + 1}.npy'), waveform)\n",
        "\n",
        "  event_paths_85.append(os.path.join(event_dir, f'strain{i + 1}.npy'))\n",
        "  event_targets_85.append('BBH')\n",
        "\n",
        "  i = i+1\n",
        "\n",
        "labels = np.array([event_paths_85, event_targets_85]).T\n",
        "np.save(os.path.join(output_dir, 'labels85.npy'), labels)"
      ],
      "metadata": {
        "id": "N58zqWfowqIi"
      },
      "execution_count": 159,
      "outputs": []
    },
    {
      "cell_type": "code",
      "source": [
        "print(i)"
      ],
      "metadata": {
        "colab": {
          "base_uri": "https://localhost:8080/"
        },
        "id": "CfrgfRpexxXj",
        "outputId": "3b8be061-1a3f-4175-c414-ce47143f3bd2"
      },
      "execution_count": 160,
      "outputs": [
        {
          "output_type": "stream",
          "name": "stdout",
          "text": [
            "4850\n"
          ]
        }
      ]
    },
    {
      "cell_type": "code",
      "source": [
        "i = 4850"
      ],
      "metadata": {
        "id": "e9RHg8TQxxfu"
      },
      "execution_count": 162,
      "outputs": []
    },
    {
      "cell_type": "code",
      "source": [
        "templates_BBH_90 = []"
      ],
      "metadata": {
        "id": "zR39MD78xxoU"
      },
      "execution_count": 163,
      "outputs": []
    },
    {
      "cell_type": "code",
      "source": [
        "m1 = BH_masses_BBH[17] # m1=90\n",
        "for m2 in range(m1, 101, 5):\n",
        "  if m1 >= m2:\n",
        "    mass_ratio = m1/m2\n",
        "  else:\n",
        "    mass_ratio = m2/m1\n",
        "  if mass_ratio <= 10:\n",
        "    for spin1 in spins:\n",
        "      for spin2 in spins:\n",
        "        hp, hc = get_td_waveform(\n",
        "            approximant=\"SEOBNRv3\",\n",
        "            mass1=m1,\n",
        "            mass2=m2,\n",
        "            spin1x=0,\n",
        "            spin1y=0,\n",
        "            spin1z=spin1,\n",
        "            spin2x=0,\n",
        "            spin2y=0,\n",
        "            spin2z=spin2,\n",
        "            delta_t=1.0/2048,\n",
        "            f_lower=10.0\n",
        "            )\n",
        "        waveform = hp.numpy()\n",
        "        templates_BBH_90.append(waveform)"
      ],
      "metadata": {
        "id": "nPsQrHPmwqQq"
      },
      "execution_count": 164,
      "outputs": []
    },
    {
      "cell_type": "code",
      "source": [
        "print(len(templates_BBH_90))"
      ],
      "metadata": {
        "colab": {
          "base_uri": "https://localhost:8080/"
        },
        "id": "Z-q80jEvwqYT",
        "outputId": "20ab3506-daca-4d20-b2fa-d7dc72dda0b2"
      },
      "execution_count": 165,
      "outputs": [
        {
          "output_type": "stream",
          "name": "stdout",
          "text": [
            "75\n"
          ]
        }
      ]
    },
    {
      "cell_type": "code",
      "source": [
        "desired_length = 2048\n",
        "\n",
        "modified_waveforms = []\n",
        "\n",
        "for waveform in templates_BBH_90:\n",
        "    if len(waveform) > desired_length:\n",
        "        modified_waveform = waveform[len(waveform) - desired_length:]\n",
        "        modified_waveforms.append(modified_waveform)\n",
        "    else:\n",
        "        modified_waveforms.append(waveform)\n",
        "\n",
        "templates_BBH_90 = modified_waveforms"
      ],
      "metadata": {
        "id": "3NTTdMNIwqhO"
      },
      "execution_count": 166,
      "outputs": []
    },
    {
      "cell_type": "code",
      "source": [
        "output_dir = '/content/BBH_events'\n",
        "os.makedirs(output_dir, exist_ok=True)\n",
        "\n",
        "event_paths_90 = []\n",
        "event_targets_90 = []\n",
        "\n",
        "for waveform in templates_BBH_90:\n",
        "  event_name = f'BBH{i + 1}'\n",
        "\n",
        "  event_dir = os.path.join(output_dir, event_name)\n",
        "  os.makedirs(event_dir, exist_ok=True)\n",
        "\n",
        "  np.save(os.path.join(event_dir, f'strain{i + 1}.npy'), waveform)\n",
        "\n",
        "  event_paths_90.append(os.path.join(event_dir, f'strain{i + 1}.npy'))\n",
        "  event_targets_90.append('BBH')\n",
        "\n",
        "  i = i+1\n",
        "\n",
        "labels = np.array([event_paths_90, event_targets_90]).T\n",
        "np.save(os.path.join(output_dir, 'labels90.npy'), labels)"
      ],
      "metadata": {
        "id": "3lqbeAbHujDY"
      },
      "execution_count": 167,
      "outputs": []
    },
    {
      "cell_type": "code",
      "source": [
        "print(i)"
      ],
      "metadata": {
        "colab": {
          "base_uri": "https://localhost:8080/"
        },
        "id": "8ifwhlF5gPFo",
        "outputId": "db214829-2086-4c7e-b547-5347ee60b25c"
      },
      "execution_count": 168,
      "outputs": [
        {
          "output_type": "stream",
          "name": "stdout",
          "text": [
            "4925\n"
          ]
        }
      ]
    },
    {
      "cell_type": "code",
      "source": [
        "i = 4925"
      ],
      "metadata": {
        "id": "J9fV78dbyvZs"
      },
      "execution_count": 169,
      "outputs": []
    },
    {
      "cell_type": "code",
      "source": [
        "templates_BBH_95 = []"
      ],
      "metadata": {
        "id": "TMEQIQXzyvhJ"
      },
      "execution_count": 170,
      "outputs": []
    },
    {
      "cell_type": "code",
      "source": [
        "m1 = BH_masses_BBH[18] # m1=95\n",
        "for m2 in range(m1, 101, 5):\n",
        "  if m1 >= m2:\n",
        "    mass_ratio = m1/m2\n",
        "  else:\n",
        "    mass_ratio = m2/m1\n",
        "  if mass_ratio <= 10:\n",
        "    for spin1 in spins:\n",
        "      for spin2 in spins:\n",
        "        hp, hc = get_td_waveform(\n",
        "            approximant=\"SEOBNRv3\",\n",
        "            mass1=m1,\n",
        "            mass2=m2,\n",
        "            spin1x=0,\n",
        "            spin1y=0,\n",
        "            spin1z=spin1,\n",
        "            spin2x=0,\n",
        "            spin2y=0,\n",
        "            spin2z=spin2,\n",
        "            delta_t=1.0/2048,\n",
        "            f_lower=10.0\n",
        "            )\n",
        "        waveform = hp.numpy()\n",
        "        templates_BBH_95.append(waveform)"
      ],
      "metadata": {
        "id": "MrunJwBZzS45"
      },
      "execution_count": 171,
      "outputs": []
    },
    {
      "cell_type": "code",
      "source": [
        "print(len(templates_BBH_95))"
      ],
      "metadata": {
        "colab": {
          "base_uri": "https://localhost:8080/"
        },
        "id": "iIu6TufTzS-B",
        "outputId": "680c43b7-576d-4d93-ad26-eba39bd5fe93"
      },
      "execution_count": 172,
      "outputs": [
        {
          "output_type": "stream",
          "name": "stdout",
          "text": [
            "50\n"
          ]
        }
      ]
    },
    {
      "cell_type": "code",
      "source": [
        "desired_length = 2048\n",
        "\n",
        "modified_waveforms = []\n",
        "\n",
        "for waveform in templates_BBH_95:\n",
        "    if len(waveform) > desired_length:\n",
        "        modified_waveform = waveform[len(waveform) - desired_length:]\n",
        "        modified_waveforms.append(modified_waveform)\n",
        "    else:\n",
        "        modified_waveforms.append(waveform)\n",
        "\n",
        "templates_BBH_95 = modified_waveforms"
      ],
      "metadata": {
        "id": "Gt-xl8h1zTBL"
      },
      "execution_count": 173,
      "outputs": []
    },
    {
      "cell_type": "code",
      "source": [
        "output_dir = '/content/BBH_events'\n",
        "os.makedirs(output_dir, exist_ok=True)\n",
        "\n",
        "event_paths_95 = []\n",
        "event_targets_95 = []\n",
        "\n",
        "for waveform in templates_BBH_95:\n",
        "  event_name = f'BBH{i + 1}'\n",
        "\n",
        "  event_dir = os.path.join(output_dir, event_name)\n",
        "  os.makedirs(event_dir, exist_ok=True)\n",
        "\n",
        "  np.save(os.path.join(event_dir, f'strain{i + 1}.npy'), waveform)\n",
        "\n",
        "  event_paths_95.append(os.path.join(event_dir, f'strain{i + 1}.npy'))\n",
        "  event_targets_95.append('BBH')\n",
        "\n",
        "  i = i+1\n",
        "\n",
        "labels = np.array([event_paths_95, event_targets_95]).T\n",
        "np.save(os.path.join(output_dir, 'labels95.npy'), labels)"
      ],
      "metadata": {
        "id": "Wx7kanRHzTDU"
      },
      "execution_count": 174,
      "outputs": []
    },
    {
      "cell_type": "code",
      "source": [
        "print(i)"
      ],
      "metadata": {
        "colab": {
          "base_uri": "https://localhost:8080/"
        },
        "id": "vq7IZ6KGyvoj",
        "outputId": "8d902a63-2681-4321-c28e-b72afe52c2b3"
      },
      "execution_count": 175,
      "outputs": [
        {
          "output_type": "stream",
          "name": "stdout",
          "text": [
            "4975\n"
          ]
        }
      ]
    },
    {
      "cell_type": "code",
      "source": [
        "i = 4975"
      ],
      "metadata": {
        "id": "1b7J0Wh20PYG"
      },
      "execution_count": 176,
      "outputs": []
    },
    {
      "cell_type": "code",
      "source": [
        "templates_BBH_100 = []"
      ],
      "metadata": {
        "id": "JOSlgQdx0PnU"
      },
      "execution_count": 177,
      "outputs": []
    },
    {
      "cell_type": "code",
      "source": [
        "m1 = BH_masses_BBH[19] # m1=100\n",
        "for m2 in range(m1, 101, 5):\n",
        "  if m1 >= m2:\n",
        "    mass_ratio = m1/m2\n",
        "  else:\n",
        "    mass_ratio = m2/m1\n",
        "  if mass_ratio <= 10:\n",
        "    for spin1 in spins:\n",
        "      for spin2 in spins:\n",
        "        hp, hc = get_td_waveform(\n",
        "            approximant=\"SEOBNRv3\",\n",
        "            mass1=m1,\n",
        "            mass2=m2,\n",
        "            spin1x=0,\n",
        "            spin1y=0,\n",
        "            spin1z=spin1,\n",
        "            spin2x=0,\n",
        "            spin2y=0,\n",
        "            spin2z=spin2,\n",
        "            delta_t=1.0/2048,\n",
        "            f_lower=10.0\n",
        "            )\n",
        "        waveform = hp.numpy()\n",
        "        templates_BBH_100.append(waveform)"
      ],
      "metadata": {
        "id": "6zotfrz_yvyP"
      },
      "execution_count": 178,
      "outputs": []
    },
    {
      "cell_type": "code",
      "source": [
        "print(len(templates_BBH_100))"
      ],
      "metadata": {
        "colab": {
          "base_uri": "https://localhost:8080/"
        },
        "id": "9U_D9l640hlm",
        "outputId": "aca2901e-a891-4df9-d143-044e1bd3a93e"
      },
      "execution_count": 179,
      "outputs": [
        {
          "output_type": "stream",
          "name": "stdout",
          "text": [
            "25\n"
          ]
        }
      ]
    },
    {
      "cell_type": "code",
      "source": [
        "desired_length = 2048\n",
        "\n",
        "modified_waveforms = []\n",
        "\n",
        "for waveform in templates_BBH_100:\n",
        "    if len(waveform) > desired_length:\n",
        "        modified_waveform = waveform[len(waveform) - desired_length:]\n",
        "        modified_waveforms.append(modified_waveform)\n",
        "    else:\n",
        "        modified_waveforms.append(waveform)\n",
        "\n",
        "templates_BBH_100 = modified_waveforms"
      ],
      "metadata": {
        "id": "NpHUvU2U0hxX"
      },
      "execution_count": 180,
      "outputs": []
    },
    {
      "cell_type": "code",
      "source": [
        "output_dir = '/content/BBH_events'\n",
        "os.makedirs(output_dir, exist_ok=True)\n",
        "\n",
        "event_paths_100 = []\n",
        "event_targets_100 = []\n",
        "\n",
        "for waveform in templates_BBH_100:\n",
        "  event_name = f'BBH{i + 1}'\n",
        "\n",
        "  event_dir = os.path.join(output_dir, event_name)\n",
        "  os.makedirs(event_dir, exist_ok=True)\n",
        "\n",
        "  np.save(os.path.join(event_dir, f'strain{i + 1}.npy'), waveform)\n",
        "\n",
        "  event_paths_100.append(os.path.join(event_dir, f'strain{i + 1}.npy'))\n",
        "  event_targets_100.append('BBH')\n",
        "\n",
        "  i = i+1\n",
        "\n",
        "labels = np.array([event_paths_100, event_targets_100]).T\n",
        "np.save(os.path.join(output_dir, 'labels100.npy'), labels)"
      ],
      "metadata": {
        "id": "kTn9SHMJZpuL"
      },
      "execution_count": 181,
      "outputs": []
    },
    {
      "cell_type": "markdown",
      "source": [
        "Со овој код се креирани 5000 симулирани BBH настани, со по 2048 податочни точки --> 10240000 податочни точки вкупни односно вредности на strain."
      ],
      "metadata": {
        "id": "Zj2Ql6fU1Bec"
      }
    }
  ]
}