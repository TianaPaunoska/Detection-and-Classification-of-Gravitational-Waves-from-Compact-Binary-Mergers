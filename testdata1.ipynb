{
 "cells": [
  {
   "cell_type": "code",
   "execution_count": 1,
   "id": "9230111a",
   "metadata": {
    "execution": {
     "iopub.execute_input": "2023-10-07T22:48:51.409243Z",
     "iopub.status.busy": "2023-10-07T22:48:51.408463Z",
     "iopub.status.idle": "2023-10-07T22:49:03.597239Z",
     "shell.execute_reply": "2023-10-07T22:49:03.595956Z"
    },
    "papermill": {
     "duration": 12.201615,
     "end_time": "2023-10-07T22:49:03.600073",
     "exception": false,
     "start_time": "2023-10-07T22:48:51.398458",
     "status": "completed"
    },
    "tags": []
   },
   "outputs": [],
   "source": [
    "import numpy as np\n",
    "import tensorflow as tf\n",
    "from tensorflow import keras\n",
    "from tensorflow.keras import layers\n",
    "from tensorflow.keras.utils import to_categorical\n",
    "from sklearn.model_selection import train_test_split\n",
    "import os\n",
    "from tensorflow.keras.preprocessing.sequence import pad_sequences\n",
    "import matplotlib.pyplot as plt\n",
    "from sklearn.metrics import confusion_matrix, classification_report\n",
    "from tensorflow.keras.utils import plot_model\n",
    "from scipy.signal import welch, lfilter, butter"
   ]
  },
  {
   "cell_type": "code",
   "execution_count": 2,
   "id": "f7677174",
   "metadata": {
    "execution": {
     "iopub.execute_input": "2023-10-07T22:49:03.614348Z",
     "iopub.status.busy": "2023-10-07T22:49:03.613558Z",
     "iopub.status.idle": "2023-10-07T22:49:04.175773Z",
     "shell.execute_reply": "2023-10-07T22:49:04.174802Z"
    },
    "papermill": {
     "duration": 0.572558,
     "end_time": "2023-10-07T22:49:04.178725",
     "exception": false,
     "start_time": "2023-10-07T22:49:03.606167",
     "status": "completed"
    },
    "tags": []
   },
   "outputs": [],
   "source": [
    "X_test_ligo_events = np.load('/kaggle/input/ligotestset/X_test_ligo.npy', allow_pickle=True)\n",
    "y_test_ligo_events = np.load('/kaggle/input/ligotestset/y_test_ligo.npy', allow_pickle=True)"
   ]
  },
  {
   "cell_type": "code",
   "execution_count": 3,
   "id": "d4281129",
   "metadata": {
    "execution": {
     "iopub.execute_input": "2023-10-07T22:49:04.192335Z",
     "iopub.status.busy": "2023-10-07T22:49:04.191848Z",
     "iopub.status.idle": "2023-10-07T22:49:04.214595Z",
     "shell.execute_reply": "2023-10-07T22:49:04.213257Z"
    },
    "papermill": {
     "duration": 0.032577,
     "end_time": "2023-10-07T22:49:04.217360",
     "exception": false,
     "start_time": "2023-10-07T22:49:04.184783",
     "status": "completed"
    },
    "tags": []
   },
   "outputs": [],
   "source": [
    "noise_indices = np.where(y_test_ligo_events == 'Noise')\n",
    "noise_strain_values = X_test_ligo_events[noise_indices]"
   ]
  },
  {
   "cell_type": "code",
   "execution_count": 4,
   "id": "327a77e2",
   "metadata": {
    "execution": {
     "iopub.execute_input": "2023-10-07T22:49:04.230765Z",
     "iopub.status.busy": "2023-10-07T22:49:04.230366Z",
     "iopub.status.idle": "2023-10-07T22:49:05.923640Z",
     "shell.execute_reply": "2023-10-07T22:49:05.922554Z"
    },
    "papermill": {
     "duration": 1.703056,
     "end_time": "2023-10-07T22:49:05.926238",
     "exception": false,
     "start_time": "2023-10-07T22:49:04.223182",
     "status": "completed"
    },
    "tags": []
   },
   "outputs": [],
   "source": [
    "def whiten_data_segment(segment, fs):\n",
    "    f, Pxx = welch(segment, fs=fs, nperseg=len(segment)//2) \n",
    "\n",
    "    nyquist = 0.5 * fs\n",
    "    lowcut = 1.0 \n",
    "    highcut = 1000.0  \n",
    "    lowcut_normalized = lowcut / nyquist\n",
    "    highcut_normalized = highcut / nyquist\n",
    "\n",
    "    b, a = butter(4, [lowcut_normalized, highcut_normalized], btype='band')\n",
    "\n",
    "    whitened_segment = lfilter(b, a, segment)\n",
    "\n",
    "    return whitened_segment\n",
    "\n",
    "def lowpass_filter(data, fs, cutoff):\n",
    "    nyquist = 0.5 * fs\n",
    "    normal_cutoff = cutoff / nyquist\n",
    "    b, a = butter(4, normal_cutoff, btype='low', analog=False)\n",
    "    filtered_data = lfilter(b, a, data)\n",
    "    return filtered_data\n",
    "\n",
    "fs = 2048\n",
    "\n",
    "lowpass_cutoff = 100.0  \n",
    "\n",
    "filtered_data_segments = []\n",
    "for segment in noise_strain_values:\n",
    "    whitened_segment = whiten_data_segment(segment, fs)\n",
    "    \n",
    "    filtered_segment = lowpass_filter(whitened_segment, fs, lowpass_cutoff)\n",
    "    \n",
    "    filtered_data_segments.append(filtered_segment)\n",
    "\n",
    "filtered_data = np.array(filtered_data_segments)\n"
   ]
  },
  {
   "cell_type": "code",
   "execution_count": 5,
   "id": "afe511ae",
   "metadata": {
    "execution": {
     "iopub.execute_input": "2023-10-07T22:49:05.940037Z",
     "iopub.status.busy": "2023-10-07T22:49:05.939110Z",
     "iopub.status.idle": "2023-10-07T22:49:05.952284Z",
     "shell.execute_reply": "2023-10-07T22:49:05.951166Z"
    },
    "papermill": {
     "duration": 0.022907,
     "end_time": "2023-10-07T22:49:05.954912",
     "exception": false,
     "start_time": "2023-10-07T22:49:05.932005",
     "status": "completed"
    },
    "tags": []
   },
   "outputs": [],
   "source": [
    "X_test_ligo_events[noise_indices] = filtered_data"
   ]
  },
  {
   "cell_type": "code",
   "execution_count": 6,
   "id": "dfca9573",
   "metadata": {
    "execution": {
     "iopub.execute_input": "2023-10-07T22:49:05.968673Z",
     "iopub.status.busy": "2023-10-07T22:49:05.967957Z",
     "iopub.status.idle": "2023-10-07T22:49:05.993947Z",
     "shell.execute_reply": "2023-10-07T22:49:05.992887Z"
    },
    "papermill": {
     "duration": 0.035915,
     "end_time": "2023-10-07T22:49:05.996636",
     "exception": false,
     "start_time": "2023-10-07T22:49:05.960721",
     "status": "completed"
    },
    "tags": []
   },
   "outputs": [],
   "source": [
    "data_info = np.load('/kaggle/input/segmentlabels/segmentlabels.npy', allow_pickle=True)\n",
    "file_paths = [item[0] for item in data_info]\n",
    "labels = [item[1] for item in data_info]"
   ]
  },
  {
   "cell_type": "code",
   "execution_count": 7,
   "id": "da8495bc",
   "metadata": {
    "execution": {
     "iopub.execute_input": "2023-10-07T22:49:06.010483Z",
     "iopub.status.busy": "2023-10-07T22:49:06.010065Z",
     "iopub.status.idle": "2023-10-07T22:49:06.018245Z",
     "shell.execute_reply": "2023-10-07T22:49:06.017383Z"
    },
    "papermill": {
     "duration": 0.017505,
     "end_time": "2023-10-07T22:49:06.020336",
     "exception": false,
     "start_time": "2023-10-07T22:49:06.002831",
     "status": "completed"
    },
    "tags": []
   },
   "outputs": [],
   "source": [
    "label_to_index = {label: index for index, label in enumerate(np.unique(labels))}\n",
    "y_test_ligo_events_encoded = np.array([label_to_index[label] for label in y_test_ligo_events])\n",
    "\n",
    "num_classes = len(label_to_index)\n",
    "y_test_ligo_events_encoded = to_categorical(y_test_ligo_events_encoded, num_classes=num_classes)"
   ]
  },
  {
   "cell_type": "code",
   "execution_count": 8,
   "id": "371e7321",
   "metadata": {
    "execution": {
     "iopub.execute_input": "2023-10-07T22:49:06.033792Z",
     "iopub.status.busy": "2023-10-07T22:49:06.033364Z",
     "iopub.status.idle": "2023-10-07T22:49:06.062422Z",
     "shell.execute_reply": "2023-10-07T22:49:06.061112Z"
    },
    "papermill": {
     "duration": 0.03918,
     "end_time": "2023-10-07T22:49:06.065321",
     "exception": false,
     "start_time": "2023-10-07T22:49:06.026141",
     "status": "completed"
    },
    "tags": []
   },
   "outputs": [],
   "source": [
    "X_test_ligo_events = pad_sequences(X_test_ligo_events, dtype='float32', padding='post', value=0.0)"
   ]
  },
  {
   "cell_type": "code",
   "execution_count": 9,
   "id": "8d2bfc91",
   "metadata": {
    "execution": {
     "iopub.execute_input": "2023-10-07T22:49:06.079138Z",
     "iopub.status.busy": "2023-10-07T22:49:06.078679Z",
     "iopub.status.idle": "2023-10-07T22:49:06.095092Z",
     "shell.execute_reply": "2023-10-07T22:49:06.094006Z"
    },
    "papermill": {
     "duration": 0.026438,
     "end_time": "2023-10-07T22:49:06.097646",
     "exception": false,
     "start_time": "2023-10-07T22:49:06.071208",
     "status": "completed"
    },
    "tags": []
   },
   "outputs": [],
   "source": [
    "X_test_ligo_events = np.vstack(X_test_ligo_events)"
   ]
  },
  {
   "cell_type": "code",
   "execution_count": 10,
   "id": "67c71eab",
   "metadata": {
    "execution": {
     "iopub.execute_input": "2023-10-07T22:49:06.111645Z",
     "iopub.status.busy": "2023-10-07T22:49:06.110843Z",
     "iopub.status.idle": "2023-10-07T22:49:06.236421Z",
     "shell.execute_reply": "2023-10-07T22:49:06.235020Z"
    },
    "papermill": {
     "duration": 0.135258,
     "end_time": "2023-10-07T22:49:06.238797",
     "exception": false,
     "start_time": "2023-10-07T22:49:06.103539",
     "status": "completed"
    },
    "tags": []
   },
   "outputs": [],
   "source": [
    "X_test_ligo_events_tensor = tf.convert_to_tensor(X_test_ligo_events, dtype=tf.float32)\n",
    "y_test_ligo_events_encoded = tf.convert_to_tensor(y_test_ligo_events_encoded, dtype=tf.float32)"
   ]
  },
  {
   "cell_type": "code",
   "execution_count": 11,
   "id": "3ff5380f",
   "metadata": {
    "execution": {
     "iopub.execute_input": "2023-10-07T22:49:06.252762Z",
     "iopub.status.busy": "2023-10-07T22:49:06.251958Z",
     "iopub.status.idle": "2023-10-07T22:49:06.256830Z",
     "shell.execute_reply": "2023-10-07T22:49:06.255768Z"
    },
    "papermill": {
     "duration": 0.014624,
     "end_time": "2023-10-07T22:49:06.259460",
     "exception": false,
     "start_time": "2023-10-07T22:49:06.244836",
     "status": "completed"
    },
    "tags": []
   },
   "outputs": [],
   "source": [
    "signal_length = 2048"
   ]
  },
  {
   "cell_type": "code",
   "execution_count": 12,
   "id": "37372737",
   "metadata": {
    "execution": {
     "iopub.execute_input": "2023-10-07T22:49:06.273741Z",
     "iopub.status.busy": "2023-10-07T22:49:06.272350Z",
     "iopub.status.idle": "2023-10-07T22:49:06.278648Z",
     "shell.execute_reply": "2023-10-07T22:49:06.277702Z"
    },
    "papermill": {
     "duration": 0.015802,
     "end_time": "2023-10-07T22:49:06.281137",
     "exception": false,
     "start_time": "2023-10-07T22:49:06.265335",
     "status": "completed"
    },
    "tags": []
   },
   "outputs": [],
   "source": [
    "X_test_ligo_events_reshaped = X_test_ligo_events.reshape(-1, signal_length, 1)"
   ]
  },
  {
   "cell_type": "code",
   "execution_count": 13,
   "id": "dae7ae5f",
   "metadata": {
    "execution": {
     "iopub.execute_input": "2023-10-07T22:49:06.296003Z",
     "iopub.status.busy": "2023-10-07T22:49:06.295103Z",
     "iopub.status.idle": "2023-10-07T22:49:30.463869Z",
     "shell.execute_reply": "2023-10-07T22:49:30.462321Z"
    },
    "papermill": {
     "duration": 24.180169,
     "end_time": "2023-10-07T22:49:30.467487",
     "exception": false,
     "start_time": "2023-10-07T22:49:06.287318",
     "status": "completed"
    },
    "tags": []
   },
   "outputs": [],
   "source": [
    "X_train = np.load('/kaggle/input/trainvalidationtest/Train Val Test/X_train.npy', allow_pickle=True)\n",
    "y_train = np.load('/kaggle/input/trainvalidationtest/Train Val Test/y_train.npy', allow_pickle=True)\n",
    "X_val = np.load('/kaggle/input/trainvalidationtest/Train Val Test/X_val.npy', allow_pickle=True)\n",
    "y_val = np.load('/kaggle/input/trainvalidationtest/Train Val Test/y_val.npy', allow_pickle=True)\n",
    "X_test = np.load('/kaggle/input/trainvalidationtest/Train Val Test/X_test.npy', allow_pickle=True)\n",
    "y_test = np.load('/kaggle/input/trainvalidationtest/Train Val Test/y_test.npy', allow_pickle=True)"
   ]
  },
  {
   "cell_type": "code",
   "execution_count": 14,
   "id": "fe190cb5",
   "metadata": {
    "execution": {
     "iopub.execute_input": "2023-10-07T22:49:30.482644Z",
     "iopub.status.busy": "2023-10-07T22:49:30.482215Z",
     "iopub.status.idle": "2023-10-07T22:49:31.392851Z",
     "shell.execute_reply": "2023-10-07T22:49:31.391810Z"
    },
    "papermill": {
     "duration": 0.920797,
     "end_time": "2023-10-07T22:49:31.395828",
     "exception": false,
     "start_time": "2023-10-07T22:49:30.475031",
     "status": "completed"
    },
    "tags": []
   },
   "outputs": [],
   "source": [
    "data_info = np.load('/kaggle/input/alllabels/labels.npy', allow_pickle=True)\n",
    "file_paths = [item[0] for item in data_info]\n",
    "labels = [item[1] for item in data_info]"
   ]
  },
  {
   "cell_type": "code",
   "execution_count": 15,
   "id": "9f75ce8b",
   "metadata": {
    "execution": {
     "iopub.execute_input": "2023-10-07T22:49:31.411226Z",
     "iopub.status.busy": "2023-10-07T22:49:31.410771Z",
     "iopub.status.idle": "2023-10-07T22:49:31.612400Z",
     "shell.execute_reply": "2023-10-07T22:49:31.611031Z"
    },
    "papermill": {
     "duration": 0.212116,
     "end_time": "2023-10-07T22:49:31.615352",
     "exception": false,
     "start_time": "2023-10-07T22:49:31.403236",
     "status": "completed"
    },
    "tags": []
   },
   "outputs": [],
   "source": [
    "label_to_index = {label: index for index, label in enumerate(np.unique(labels))}\n",
    "y_train_encoded = np.array([label_to_index[label] for label in y_train])\n",
    "y_val_encoded = np.array([label_to_index[label] for label in y_val])\n",
    "y_test_encoded = np.array([label_to_index[label] for label in y_test])\n",
    "\n",
    "num_classes = len(label_to_index)\n",
    "y_train_encoded = to_categorical(y_train_encoded, num_classes=num_classes)\n",
    "y_val_encoded = to_categorical(y_val_encoded, num_classes=num_classes)\n",
    "y_test_encoded = to_categorical(y_test_encoded, num_classes=num_classes)"
   ]
  },
  {
   "cell_type": "code",
   "execution_count": 16,
   "id": "af921303",
   "metadata": {
    "execution": {
     "iopub.execute_input": "2023-10-07T22:49:31.628716Z",
     "iopub.status.busy": "2023-10-07T22:49:31.628266Z",
     "iopub.status.idle": "2023-10-07T22:49:33.917746Z",
     "shell.execute_reply": "2023-10-07T22:49:33.916276Z"
    },
    "papermill": {
     "duration": 2.299424,
     "end_time": "2023-10-07T22:49:33.920625",
     "exception": false,
     "start_time": "2023-10-07T22:49:31.621201",
     "status": "completed"
    },
    "tags": []
   },
   "outputs": [],
   "source": [
    "X_train = pad_sequences(X_train, dtype='float32', padding='post', value=0.0)\n",
    "X_val = pad_sequences(X_val, dtype='float32', padding='post', value=0.0)\n",
    "X_test = pad_sequences(X_test, dtype='float32', padding='post', value=0.0)"
   ]
  },
  {
   "cell_type": "code",
   "execution_count": 17,
   "id": "03ee8c42",
   "metadata": {
    "execution": {
     "iopub.execute_input": "2023-10-07T22:49:33.934695Z",
     "iopub.status.busy": "2023-10-07T22:49:33.934270Z",
     "iopub.status.idle": "2023-10-07T22:49:35.193310Z",
     "shell.execute_reply": "2023-10-07T22:49:35.192248Z"
    },
    "papermill": {
     "duration": 1.269246,
     "end_time": "2023-10-07T22:49:35.196137",
     "exception": false,
     "start_time": "2023-10-07T22:49:33.926891",
     "status": "completed"
    },
    "tags": []
   },
   "outputs": [],
   "source": [
    "X_train = np.vstack(X_train)\n",
    "X_val = np.vstack(X_val)\n",
    "X_test = np.vstack(X_test)"
   ]
  },
  {
   "cell_type": "code",
   "execution_count": 18,
   "id": "fd85026e",
   "metadata": {
    "execution": {
     "iopub.execute_input": "2023-10-07T22:49:35.209485Z",
     "iopub.status.busy": "2023-10-07T22:49:35.209094Z",
     "iopub.status.idle": "2023-10-07T22:49:36.802294Z",
     "shell.execute_reply": "2023-10-07T22:49:36.801351Z"
    },
    "papermill": {
     "duration": 1.603041,
     "end_time": "2023-10-07T22:49:36.805023",
     "exception": false,
     "start_time": "2023-10-07T22:49:35.201982",
     "status": "completed"
    },
    "tags": []
   },
   "outputs": [],
   "source": [
    "X_train_tensor = tf.convert_to_tensor(X_train, dtype=tf.float32)\n",
    "X_val_tensor = tf.convert_to_tensor(X_val, dtype=tf.float32)\n",
    "X_test_tensor = tf.convert_to_tensor(X_test, dtype=tf.float32)\n",
    "y_train_encoded_tensor = tf.convert_to_tensor(y_train_encoded, dtype=tf.float32)\n",
    "y_val_encoded_tensor = tf.convert_to_tensor(y_val_encoded, dtype=tf.float32)\n",
    "y_test_encoded_tensor = tf.convert_to_tensor(y_test_encoded, dtype=tf.float32)"
   ]
  },
  {
   "cell_type": "code",
   "execution_count": 19,
   "id": "db37550b",
   "metadata": {
    "execution": {
     "iopub.execute_input": "2023-10-07T22:49:36.825871Z",
     "iopub.status.busy": "2023-10-07T22:49:36.825186Z",
     "iopub.status.idle": "2023-10-07T22:49:36.829861Z",
     "shell.execute_reply": "2023-10-07T22:49:36.829077Z"
    },
    "papermill": {
     "duration": 0.014713,
     "end_time": "2023-10-07T22:49:36.832166",
     "exception": false,
     "start_time": "2023-10-07T22:49:36.817453",
     "status": "completed"
    },
    "tags": []
   },
   "outputs": [],
   "source": [
    "signal_length = 2048"
   ]
  },
  {
   "cell_type": "code",
   "execution_count": 20,
   "id": "fba77bd0",
   "metadata": {
    "execution": {
     "iopub.execute_input": "2023-10-07T22:49:36.845674Z",
     "iopub.status.busy": "2023-10-07T22:49:36.845234Z",
     "iopub.status.idle": "2023-10-07T22:49:36.850707Z",
     "shell.execute_reply": "2023-10-07T22:49:36.849455Z"
    },
    "papermill": {
     "duration": 0.015241,
     "end_time": "2023-10-07T22:49:36.853258",
     "exception": false,
     "start_time": "2023-10-07T22:49:36.838017",
     "status": "completed"
    },
    "tags": []
   },
   "outputs": [],
   "source": [
    "X_train_reshaped = X_train.reshape(-1, signal_length, 1)\n",
    "X_val_reshaped = X_val.reshape(-1, signal_length, 1)\n",
    "X_test_reshaped = X_test.reshape(-1, signal_length, 1)"
   ]
  },
  {
   "cell_type": "code",
   "execution_count": 21,
   "id": "fe2167f2",
   "metadata": {
    "execution": {
     "iopub.execute_input": "2023-10-07T22:49:36.867168Z",
     "iopub.status.busy": "2023-10-07T22:49:36.866468Z",
     "iopub.status.idle": "2023-10-07T22:49:40.087477Z",
     "shell.execute_reply": "2023-10-07T22:49:40.086301Z"
    },
    "papermill": {
     "duration": 3.231201,
     "end_time": "2023-10-07T22:49:40.090398",
     "exception": false,
     "start_time": "2023-10-07T22:49:36.859197",
     "status": "completed"
    },
    "tags": []
   },
   "outputs": [],
   "source": [
    "mean = np.mean(X_train_reshaped)\n",
    "std = np.std(X_train_reshaped)\n",
    "real_ligo_mean = np.mean(X_test_ligo_events_reshaped)\n",
    "real_ligo_std = np.std(X_test_ligo_events_reshaped)\n",
    "\n",
    "X_test_ligo_events_scaled = np.zeros_like(X_test_ligo_events_reshaped)\n",
    "\n",
    "positions_label_0 = np.where(y_test_ligo_events_encoded == 0)[0]\n",
    "\n",
    "for i in positions_label_0:\n",
    "    X_test_ligo_events_scaled[i] = X_test_ligo_events_reshaped[i]\n",
    "\n",
    "positions_label_1 = np.where(y_test_ligo_events_encoded == 1)[0]\n",
    "\n",
    "for i in positions_label_1:\n",
    "    scaled_sample = (X_test_ligo_events_reshaped[i] - mean) / std\n",
    "    X_test_ligo_events_scaled[i] = scaled_sample\n",
    "\n",
    "positions_label_2 = np.where(y_test_ligo_events_encoded == 2)[0]\n",
    "positions_label_3 = np.where(y_test_ligo_events_encoded == 3)[0]\n",
    "\n",
    "for i in positions_label_2:\n",
    "    scaled_sample = (X_test_ligo_events_reshaped[i] - mean) / std\n",
    "    X_test_ligo_events_scaled[i] = scaled_sample\n",
    "\n",
    "for i in positions_label_3:\n",
    "    scaled_sample = (X_test_ligo_events_reshaped[i] - mean) / std\n",
    "    X_test_ligo_events_scaled[i] = scaled_sample"
   ]
  },
  {
   "cell_type": "code",
   "execution_count": 22,
   "id": "cb103fd2",
   "metadata": {
    "execution": {
     "iopub.execute_input": "2023-10-07T22:49:40.104873Z",
     "iopub.status.busy": "2023-10-07T22:49:40.103612Z",
     "iopub.status.idle": "2023-10-07T22:49:40.110324Z",
     "shell.execute_reply": "2023-10-07T22:49:40.109083Z"
    },
    "papermill": {
     "duration": 0.016813,
     "end_time": "2023-10-07T22:49:40.113184",
     "exception": false,
     "start_time": "2023-10-07T22:49:40.096371",
     "status": "completed"
    },
    "tags": []
   },
   "outputs": [],
   "source": [
    "test_data = X_test_ligo_events_scaled"
   ]
  },
  {
   "cell_type": "code",
   "execution_count": 23,
   "id": "aac6dd9d",
   "metadata": {
    "execution": {
     "iopub.execute_input": "2023-10-07T22:49:40.126656Z",
     "iopub.status.busy": "2023-10-07T22:49:40.125872Z",
     "iopub.status.idle": "2023-10-07T22:49:40.132702Z",
     "shell.execute_reply": "2023-10-07T22:49:40.131386Z"
    },
    "papermill": {
     "duration": 0.016477,
     "end_time": "2023-10-07T22:49:40.135252",
     "exception": false,
     "start_time": "2023-10-07T22:49:40.118775",
     "status": "completed"
    },
    "tags": []
   },
   "outputs": [
    {
     "name": "stdout",
     "output_type": "stream",
     "text": [
      "-5.121349e-24\n",
      "1.7853791e-19\n",
      "-1.2127532e-23\n",
      "1.6037192e-20\n"
     ]
    }
   ],
   "source": [
    "print(mean)\n",
    "print(std)\n",
    "print(real_ligo_mean)\n",
    "print(real_ligo_std)"
   ]
  },
  {
   "cell_type": "code",
   "execution_count": 24,
   "id": "0e200b57",
   "metadata": {
    "execution": {
     "iopub.execute_input": "2023-10-07T22:49:40.149674Z",
     "iopub.status.busy": "2023-10-07T22:49:40.148976Z",
     "iopub.status.idle": "2023-10-07T22:49:40.153963Z",
     "shell.execute_reply": "2023-10-07T22:49:40.153015Z"
    },
    "papermill": {
     "duration": 0.014974,
     "end_time": "2023-10-07T22:49:40.156274",
     "exception": false,
     "start_time": "2023-10-07T22:49:40.141300",
     "status": "completed"
    },
    "tags": []
   },
   "outputs": [
    {
     "name": "stdout",
     "output_type": "stream",
     "text": [
      "1632\n"
     ]
    }
   ],
   "source": [
    "print(len(test_data))"
   ]
  },
  {
   "cell_type": "code",
   "execution_count": 25,
   "id": "e408aeaa",
   "metadata": {
    "execution": {
     "iopub.execute_input": "2023-10-07T22:49:40.170226Z",
     "iopub.status.busy": "2023-10-07T22:49:40.169764Z",
     "iopub.status.idle": "2023-10-07T22:49:40.193063Z",
     "shell.execute_reply": "2023-10-07T22:49:40.191360Z"
    },
    "papermill": {
     "duration": 0.03371,
     "end_time": "2023-10-07T22:49:40.195912",
     "exception": false,
     "start_time": "2023-10-07T22:49:40.162202",
     "status": "completed"
    },
    "tags": []
   },
   "outputs": [],
   "source": [
    "np.save('test_data1.npy', test_data)"
   ]
  },
  {
   "cell_type": "code",
   "execution_count": null,
   "id": "30af148f",
   "metadata": {
    "papermill": {
     "duration": 0.006185,
     "end_time": "2023-10-07T22:49:40.208290",
     "exception": false,
     "start_time": "2023-10-07T22:49:40.202105",
     "status": "completed"
    },
    "tags": []
   },
   "outputs": [],
   "source": []
  },
  {
   "cell_type": "code",
   "execution_count": null,
   "id": "fc8540a2",
   "metadata": {
    "papermill": {
     "duration": 0.005958,
     "end_time": "2023-10-07T22:49:40.220174",
     "exception": false,
     "start_time": "2023-10-07T22:49:40.214216",
     "status": "completed"
    },
    "tags": []
   },
   "outputs": [],
   "source": []
  }
 ],
 "metadata": {
  "kernelspec": {
   "display_name": "Python 3",
   "language": "python",
   "name": "python3"
  },
  "language_info": {
   "codemirror_mode": {
    "name": "ipython",
    "version": 3
   },
   "file_extension": ".py",
   "mimetype": "text/x-python",
   "name": "python",
   "nbconvert_exporter": "python",
   "pygments_lexer": "ipython3",
   "version": "3.10.12"
  },
  "papermill": {
   "default_parameters": {},
   "duration": 55.523242,
   "end_time": "2023-10-07T22:49:43.340527",
   "environment_variables": {},
   "exception": null,
   "input_path": "__notebook__.ipynb",
   "output_path": "__notebook__.ipynb",
   "parameters": {},
   "start_time": "2023-10-07T22:48:47.817285",
   "version": "2.4.0"
  }
 },
 "nbformat": 4,
 "nbformat_minor": 5
}
