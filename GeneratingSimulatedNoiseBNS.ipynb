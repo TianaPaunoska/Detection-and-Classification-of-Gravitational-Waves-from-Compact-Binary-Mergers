{
  "nbformat": 4,
  "nbformat_minor": 0,
  "metadata": {
    "colab": {
      "provenance": []
    },
    "kernelspec": {
      "name": "python3",
      "display_name": "Python 3"
    },
    "language_info": {
      "name": "python"
    }
  },
  "cells": [
    {
      "cell_type": "markdown",
      "source": [
        "Генерирање на 50000 Noise+BNS samples"
      ],
      "metadata": {
        "id": "clL7fjT9QQuK"
      }
    },
    {
      "cell_type": "code",
      "source": [
        "! pip install -q 'lalsuite==7.11' 'PyCBC==2.0.5'"
      ],
      "metadata": {
        "id": "N2oPoJ3zMp5n"
      },
      "execution_count": 1,
      "outputs": []
    },
    {
      "cell_type": "code",
      "source": [
        "import matplotlib.pyplot as pp\n",
        "import pycbc.noise\n",
        "import pycbc.psd\n",
        "import numpy as np\n",
        "import os\n",
        "import zipfile\n",
        "from google.colab import files\n",
        "import pandas as pd\n",
        "import random"
      ],
      "metadata": {
        "id": "5ADBMMcuQa2C"
      },
      "execution_count": 2,
      "outputs": []
    },
    {
      "cell_type": "code",
      "source": [
        "snr1 = [4,5,6,7,8,9,10,11]\n",
        "snr2 = [12,13,14,15,16,17,18,19]\n",
        "snr3 = [20,21,22,23,24,25,26,27]\n",
        "snr_values = np.arange(4, 31)\n",
        "flow_array = [10,15,20,25,30]"
      ],
      "metadata": {
        "id": "I5kVghL4Qa7t"
      },
      "execution_count": 3,
      "outputs": []
    },
    {
      "cell_type": "code",
      "source": [
        "output_dir = 'noise_bns_samples'\n",
        "os.makedirs(output_dir, exist_ok=True)"
      ],
      "metadata": {
        "id": "QZWdZ9xcQa-3"
      },
      "execution_count": 4,
      "outputs": []
    },
    {
      "cell_type": "code",
      "source": [
        "group1 = np.arange(1, 2001)\n",
        "group2 = np.arange(2001, 4001)\n",
        "group3 = np.arange(4001, 6001)\n",
        "files_total = np.arange(1, 6001)\n",
        "group4 = np.arange(1,2001)"
      ],
      "metadata": {
        "id": "bZPP__RyQbCo"
      },
      "execution_count": 5,
      "outputs": []
    },
    {
      "cell_type": "code",
      "source": [
        "noise_bns_samples = []"
      ],
      "metadata": {
        "id": "o6JhWT7xR-2M"
      },
      "execution_count": 6,
      "outputs": []
    },
    {
      "cell_type": "code",
      "source": [
        "for i in group1:\n",
        "  bns_waveform_file = f'/content/BNS/BNS/strain{i}.npy'\n",
        "  bns_waveform = np.load(bns_waveform_file)\n",
        "  for snr in snr1:\n",
        "    flow = random.choice(flow_array)\n",
        "    delta_f = 1.0 / 16\n",
        "    flen = int(2048 / delta_f) + 1\n",
        "    psd = pycbc.psd.aLIGOZeroDetHighPower(flen, delta_f, flow)\n",
        "\n",
        "    desired_std = np.max(np.abs(bns_waveform)) / snr\n",
        "\n",
        "    delta_t = 1.0 / 2048\n",
        "    tsamples = len(bns_waveform)\n",
        "    noise = pycbc.noise.noise_from_psd(tsamples, delta_t, psd, seed=np.random.randint(0, 2**32))\n",
        "    noise *= desired_std / np.std(noise)\n",
        "\n",
        "    mixed_signal = bns_waveform + noise\n",
        "\n",
        "    noise_bns_samples.append(mixed_signal)"
      ],
      "metadata": {
        "id": "p1AHWwi2R-86"
      },
      "execution_count": 7,
      "outputs": []
    },
    {
      "cell_type": "code",
      "source": [
        "for i in group2:\n",
        "  bns_waveform_file = f'/content/BNS/BNS/strain{i}.npy'\n",
        "  bns_waveform = np.load(bns_waveform_file)\n",
        "  for snr in snr2:\n",
        "    flow = random.choice(flow_array)\n",
        "    delta_f = 1.0 / 16\n",
        "    flen = int(2048 / delta_f) + 1\n",
        "    psd = pycbc.psd.aLIGOZeroDetHighPower(flen, delta_f, flow)\n",
        "\n",
        "    desired_std = np.max(np.abs(bns_waveform)) / snr\n",
        "\n",
        "    delta_t = 1.0 / 2048\n",
        "    tsamples = len(bns_waveform)\n",
        "    noise = pycbc.noise.noise_from_psd(tsamples, delta_t, psd, seed=np.random.randint(0, 2**32))\n",
        "    noise *= desired_std / np.std(noise)\n",
        "\n",
        "    mixed_signal = bns_waveform + noise\n",
        "\n",
        "    noise_bns_samples.append(mixed_signal)"
      ],
      "metadata": {
        "id": "1TU2Z2tXR_Ex"
      },
      "execution_count": 8,
      "outputs": []
    },
    {
      "cell_type": "code",
      "source": [
        "for i in group3:\n",
        "  bns_waveform_file = f'/content/BNS/BNS/strain{i}.npy'\n",
        "  bns_waveform = np.load(bns_waveform_file)\n",
        "  for snr in snr3:\n",
        "    flow = random.choice(flow_array)\n",
        "    delta_f = 1.0 / 16\n",
        "    flen = int(2048 / delta_f) + 1\n",
        "    psd = pycbc.psd.aLIGOZeroDetHighPower(flen, delta_f, flow)\n",
        "\n",
        "    desired_std = np.max(np.abs(bns_waveform)) / snr\n",
        "\n",
        "    delta_t = 1.0 / 2048\n",
        "    tsamples = len(bns_waveform)\n",
        "    noise = pycbc.noise.noise_from_psd(tsamples, delta_t, psd, seed=np.random.randint(0, 2**32))\n",
        "    noise *= desired_std / np.std(noise)\n",
        "\n",
        "    mixed_signal = bns_waveform + noise\n",
        "\n",
        "    noise_bns_samples.append(mixed_signal)"
      ],
      "metadata": {
        "id": "DG9AazqxTJPZ"
      },
      "execution_count": 9,
      "outputs": []
    },
    {
      "cell_type": "code",
      "source": [
        "for i in group4:\n",
        "  j = random.choice(files_total)\n",
        "  bns_waveform_file = f'/content/BNS/BNS/strain{j}.npy'\n",
        "  bns_waveform = np.load(bns_waveform_file)\n",
        "  snr = random.choice(snr_values)\n",
        "  flow = random.choice(flow_array)\n",
        "  delta_f = 1.0 / 16\n",
        "  flen = int(2048 / delta_f) + 1\n",
        "  psd = pycbc.psd.aLIGOZeroDetHighPower(flen, delta_f, flow)\n",
        "\n",
        "  desired_std = np.max(np.abs(bns_waveform)) / snr\n",
        "\n",
        "  delta_t = 1.0 / 2048\n",
        "  tsamples = len(bns_waveform)\n",
        "  noise = pycbc.noise.noise_from_psd(tsamples, delta_t, psd, seed=np.random.randint(0, 2**32))\n",
        "  noise *= desired_std / np.std(noise)\n",
        "\n",
        "  mixed_signal = bns_waveform + noise\n",
        "\n",
        "  noise_bns_samples.append(mixed_signal)"
      ],
      "metadata": {
        "id": "l-ikK4nUTJVJ"
      },
      "execution_count": 10,
      "outputs": []
    },
    {
      "cell_type": "code",
      "source": [
        "print(len(noise_bns_samples))"
      ],
      "metadata": {
        "colab": {
          "base_uri": "https://localhost:8080/"
        },
        "id": "HvR5_ynDTQkn",
        "outputId": "f284e818-d547-47ae-b5f1-c5171094f335"
      },
      "execution_count": 11,
      "outputs": [
        {
          "output_type": "stream",
          "name": "stdout",
          "text": [
            "50000\n"
          ]
        }
      ]
    },
    {
      "cell_type": "code",
      "source": [
        "pp.plot(noise_bns_samples[0].sample_times, noise_bns_samples[0])\n",
        "pp.ylabel('Strain')\n",
        "pp.xlabel('Time (s)')\n",
        "pp.show()"
      ],
      "metadata": {
        "colab": {
          "base_uri": "https://localhost:8080/",
          "height": 465
        },
        "id": "3x0cXVOOTJat",
        "outputId": "8f27e752-0e83-4b37-966b-750ed60e8c8d"
      },
      "execution_count": 12,
      "outputs": [
        {
          "output_type": "display_data",
          "data": {
            "text/plain": [
              "<Figure size 640x480 with 1 Axes>"
            ],
            "image/png": "[encoded data removed]"
          },
          "metadata": {}
        }
      ]
    },
    {
      "cell_type": "code",
      "source": [
        "pp.plot(noise_bns_samples[32008].sample_times, noise_bns_samples[32008])\n",
        "pp.ylabel('Strain')\n",
        "pp.xlabel('Time (s)')\n",
        "pp.show()"
      ],
      "metadata": {
        "colab": {
          "base_uri": "https://localhost:8080/",
          "height": 465
        },
        "id": "_87vJqwswJ_T",
        "outputId": "b15012c1-e876-4c26-dd11-dc627bf1f074"
      },
      "execution_count": 13,
      "outputs": [
        {
          "output_type": "display_data",
          "data": {
            "text/plain": [
              "<Figure size 640x480 with 1 Axes>"
            ],
            "image/png": "[encoded data removed]"
          },
          "metadata": {}
        }
      ]
    },
    {
      "cell_type": "code",
      "source": [
        "output_dir = 'noise_bns_samples'\n",
        "os.makedirs(output_dir, exist_ok=True)\n",
        "\n",
        "file_paths = []\n",
        "labels = []\n",
        "\n",
        "for i, noise_bns_sample in enumerate(noise_bns_samples):\n",
        "\n",
        "    folder_name = f'Noise_BNS{i + 1}'\n",
        "    folder_path = os.path.join(output_dir, folder_name)\n",
        "    os.makedirs(folder_path, exist_ok=True)\n",
        "\n",
        "    # zachuvuvanje na sekoj primerok kako npy file\n",
        "    file_path = os.path.join(folder_path, f'noise_bns{i + 1}.npy')\n",
        "    np.save(file_path, noise_bns_sample)\n",
        "\n",
        "    file_paths.append(file_path)\n",
        "    labels.append('Noise+BNS')\n",
        "\n",
        "label_array = np.column_stack((file_paths, labels))\n",
        "\n",
        "# zachuvuvanje na labelite za sekoj primerok kako npy file\n",
        "label_file_path = os.path.join(output_dir, 'labels_noise_bns.npy')\n",
        "np.save(label_file_path, label_array)"
      ],
      "metadata": {
        "id": "CGd4WOkowKF8"
      },
      "execution_count": 14,
      "outputs": []
    },
    {
      "cell_type": "code",
      "source": [
        "zip_file_path = 'noise_bns_samples.zip'\n",
        "with zipfile.ZipFile(zip_file_path, 'w', zipfile.ZIP_DEFLATED) as zipf:\n",
        "    for file_path in file_paths:\n",
        "        zipf.write(file_path)\n",
        "\n",
        "\n",
        "files.download(zip_file_path)"
      ],
      "metadata": {
        "colab": {
          "base_uri": "https://localhost:8080/",
          "height": 17
        },
        "id": "ns3pKqYEwsn_",
        "outputId": "64285456-674a-487f-dfd0-7c17ac2ecc92"
      },
      "execution_count": 15,
      "outputs": [
        {
          "output_type": "display_data",
          "data": {
            "text/plain": [
              "<IPython.core.display.Javascript object>"
            ],
            "application/javascript": [
              "\n",
              "    async function download(id, filename, size) {\n",
              "      if (!google.colab.kernel.accessAllowed) {\n",
              "        return;\n",
              "      }\n",
              "      const div = document.createElement('div');\n",
              "      const label = document.createElement('label');\n",
              "      label.textContent = `Downloading \"${filename}\": `;\n",
              "      div.appendChild(label);\n",
              "      const progress = document.createElement('progress');\n",
              "      progress.max = size;\n",
              "      div.appendChild(progress);\n",
              "      document.body.appendChild(div);\n",
              "\n",
              "      const buffers = [];\n",
              "      let downloaded = 0;\n",
              "\n",
              "      const channel = await google.colab.kernel.comms.open(id);\n",
              "      // Send a message to notify the kernel that we're ready.\n",
              "      channel.send({})\n",
              "\n",
              "      for await (const message of channel.messages) {\n",
              "        // Send a message to notify the kernel that we're ready.\n",
              "        channel.send({})\n",
              "        if (message.buffers) {\n",
              "          for (const buffer of message.buffers) {\n",
              "            buffers.push(buffer);\n",
              "            downloaded += buffer.byteLength;\n",
              "            progress.value = downloaded;\n",
              "          }\n",
              "        }\n",
              "      }\n",
              "      const blob = new Blob(buffers, {type: 'application/binary'});\n",
              "      const a = document.createElement('a');\n",
              "      a.href = window.URL.createObjectURL(blob);\n",
              "      a.download = filename;\n",
              "      div.appendChild(a);\n",
              "      a.click();\n",
              "      div.remove();\n",
              "    }\n",
              "  "
            ]
          },
          "metadata": {}
        },
        {
          "output_type": "display_data",
          "data": {
            "text/plain": [
              "<IPython.core.display.Javascript object>"
            ],
            "application/javascript": [
              "download(\"download_45a9e913-ebb8-41f3-964d-30dcab58abc9\", \"noise_bns_samples.zip\", 796487249)"
            ]
          },
          "metadata": {}
        }
      ]
    },
    {
      "cell_type": "code",
      "source": [],
      "metadata": {
        "id": "BIQ-ShoIwsra"
      },
      "execution_count": null,
      "outputs": []
    },
    {
      "cell_type": "code",
      "source": [],
      "metadata": {
        "id": "9TMgIAMjwsuD"
      },
      "execution_count": null,
      "outputs": []
    },
    {
      "cell_type": "code",
      "source": [],
      "metadata": {
        "id": "3QPHOEGMwswe"
      },
      "execution_count": null,
      "outputs": []
    },
    {
      "cell_type": "code",
      "source": [],
      "metadata": {
        "id": "Fy55XXx1Mp8i"
      },
      "execution_count": 11,
      "outputs": []
    },
    {
      "cell_type": "code",
      "source": [],
      "metadata": {
        "id": "xYoiaqv2Mp_h"
      },
      "execution_count": 11,
      "outputs": []
    }
  ]
}