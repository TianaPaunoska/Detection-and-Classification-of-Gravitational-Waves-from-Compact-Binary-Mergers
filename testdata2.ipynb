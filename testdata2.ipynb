{
 "cells": [
  {
   "cell_type": "code",
   "execution_count": 1,
   "id": "5c9c70de",
   "metadata": {
    "execution": {
     "iopub.execute_input": "2023-10-07T22:55:10.902768Z",
     "iopub.status.busy": "2023-10-07T22:55:10.902471Z",
     "iopub.status.idle": "2023-10-07T22:55:20.613612Z",
     "shell.execute_reply": "2023-10-07T22:55:20.612537Z"
    },
    "papermill": {
     "duration": 9.718979,
     "end_time": "2023-10-07T22:55:20.616123",
     "exception": false,
     "start_time": "2023-10-07T22:55:10.897144",
     "status": "completed"
    },
    "tags": []
   },
   "outputs": [],
   "source": [
    "import numpy as np\n",
    "import tensorflow as tf\n",
    "from tensorflow import keras\n",
    "from tensorflow.keras import layers\n",
    "from tensorflow.keras.utils import to_categorical\n",
    "from sklearn.model_selection import train_test_split\n",
    "import os\n",
    "from tensorflow.keras.preprocessing.sequence import pad_sequences\n",
    "import matplotlib.pyplot as plt\n",
    "from sklearn.metrics import confusion_matrix, classification_report\n",
    "from tensorflow.keras.utils import plot_model\n",
    "from scipy.signal import welch, lfilter, butter"
   ]
  },
  {
   "cell_type": "code",
   "execution_count": 2,
   "id": "69de0409",
   "metadata": {
    "execution": {
     "iopub.execute_input": "2023-10-07T22:55:20.625372Z",
     "iopub.status.busy": "2023-10-07T22:55:20.624845Z",
     "iopub.status.idle": "2023-10-07T22:55:20.939215Z",
     "shell.execute_reply": "2023-10-07T22:55:20.938024Z"
    },
    "papermill": {
     "duration": 0.321058,
     "end_time": "2023-10-07T22:55:20.941167",
     "exception": false,
     "start_time": "2023-10-07T22:55:20.620109",
     "status": "completed"
    },
    "tags": []
   },
   "outputs": [],
   "source": [
    "X_test_ligo_events = np.load('/kaggle/input/ligotestset/X_test_ligo.npy', allow_pickle=True)\n",
    "y_test_ligo_events = np.load('/kaggle/input/ligotestset/y_test_ligo.npy', allow_pickle=True)"
   ]
  },
  {
   "cell_type": "code",
   "execution_count": 3,
   "id": "4fa4271f",
   "metadata": {
    "execution": {
     "iopub.execute_input": "2023-10-07T22:55:20.950682Z",
     "iopub.status.busy": "2023-10-07T22:55:20.949612Z",
     "iopub.status.idle": "2023-10-07T22:55:20.959184Z",
     "shell.execute_reply": "2023-10-07T22:55:20.957952Z"
    },
    "papermill": {
     "duration": 0.016291,
     "end_time": "2023-10-07T22:55:20.961326",
     "exception": false,
     "start_time": "2023-10-07T22:55:20.945035",
     "status": "completed"
    },
    "tags": []
   },
   "outputs": [],
   "source": [
    "noise_indices = np.where(y_test_ligo_events == 'Noise')\n",
    "noise_strain_values = X_test_ligo_events[noise_indices]"
   ]
  },
  {
   "cell_type": "code",
   "execution_count": 4,
   "id": "1d684730",
   "metadata": {
    "execution": {
     "iopub.execute_input": "2023-10-07T22:55:20.970705Z",
     "iopub.status.busy": "2023-10-07T22:55:20.970358Z",
     "iopub.status.idle": "2023-10-07T22:55:22.071683Z",
     "shell.execute_reply": "2023-10-07T22:55:22.070652Z"
    },
    "papermill": {
     "duration": 1.108091,
     "end_time": "2023-10-07T22:55:22.073459",
     "exception": false,
     "start_time": "2023-10-07T22:55:20.965368",
     "status": "completed"
    },
    "tags": []
   },
   "outputs": [],
   "source": [
    "def whiten_data_segment(segment, fs):\n",
    "    f, Pxx = welch(segment, fs=fs, nperseg=len(segment)//2) \n",
    "\n",
    "    nyquist = 0.5 * fs\n",
    "    lowcut = 1.0 \n",
    "    highcut = 1000.0  \n",
    "    lowcut_normalized = lowcut / nyquist\n",
    "    highcut_normalized = highcut / nyquist\n",
    "\n",
    "    b, a = butter(4, [lowcut_normalized, highcut_normalized], btype='band')\n",
    "\n",
    "    whitened_segment = lfilter(b, a, segment)\n",
    "\n",
    "    return whitened_segment\n",
    "\n",
    "def lowpass_filter(data, fs, cutoff):\n",
    "    nyquist = 0.5 * fs\n",
    "    normal_cutoff = cutoff / nyquist\n",
    "    b, a = butter(4, normal_cutoff, btype='low', analog=False)\n",
    "    filtered_data = lfilter(b, a, data)\n",
    "    return filtered_data\n",
    "\n",
    "fs = 2048\n",
    "\n",
    "lowpass_cutoff = 100.0  \n",
    "\n",
    "filtered_data_segments = []\n",
    "for segment in noise_strain_values:\n",
    "    whitened_segment = whiten_data_segment(segment, fs)\n",
    "    \n",
    "    filtered_segment = lowpass_filter(whitened_segment, fs, lowpass_cutoff)\n",
    "    \n",
    "    filtered_data_segments.append(filtered_segment)\n",
    "\n",
    "filtered_data = np.array(filtered_data_segments)\n"
   ]
  },
  {
   "cell_type": "code",
   "execution_count": 5,
   "id": "f5f1652b",
   "metadata": {
    "execution": {
     "iopub.execute_input": "2023-10-07T22:55:22.082279Z",
     "iopub.status.busy": "2023-10-07T22:55:22.081958Z",
     "iopub.status.idle": "2023-10-07T22:55:22.087922Z",
     "shell.execute_reply": "2023-10-07T22:55:22.086952Z"
    },
    "papermill": {
     "duration": 0.012044,
     "end_time": "2023-10-07T22:55:22.089366",
     "exception": false,
     "start_time": "2023-10-07T22:55:22.077322",
     "status": "completed"
    },
    "tags": []
   },
   "outputs": [],
   "source": [
    "X_test_ligo_events[noise_indices] = filtered_data"
   ]
  },
  {
   "cell_type": "code",
   "execution_count": 6,
   "id": "dd726950",
   "metadata": {
    "execution": {
     "iopub.execute_input": "2023-10-07T22:55:22.097740Z",
     "iopub.status.busy": "2023-10-07T22:55:22.097347Z",
     "iopub.status.idle": "2023-10-07T22:55:22.113219Z",
     "shell.execute_reply": "2023-10-07T22:55:22.112161Z"
    },
    "papermill": {
     "duration": 0.022104,
     "end_time": "2023-10-07T22:55:22.115111",
     "exception": false,
     "start_time": "2023-10-07T22:55:22.093007",
     "status": "completed"
    },
    "tags": []
   },
   "outputs": [],
   "source": [
    "data_info = np.load('/kaggle/input/segmentlabels/segmentlabels.npy', allow_pickle=True)\n",
    "file_paths = [item[0] for item in data_info]\n",
    "labels = [item[1] for item in data_info]"
   ]
  },
  {
   "cell_type": "code",
   "execution_count": 7,
   "id": "a068640c",
   "metadata": {
    "execution": {
     "iopub.execute_input": "2023-10-07T22:55:22.124257Z",
     "iopub.status.busy": "2023-10-07T22:55:22.123944Z",
     "iopub.status.idle": "2023-10-07T22:55:22.130602Z",
     "shell.execute_reply": "2023-10-07T22:55:22.129195Z"
    },
    "papermill": {
     "duration": 0.013529,
     "end_time": "2023-10-07T22:55:22.132602",
     "exception": false,
     "start_time": "2023-10-07T22:55:22.119073",
     "status": "completed"
    },
    "tags": []
   },
   "outputs": [],
   "source": [
    "label_to_index = {label: index for index, label in enumerate(np.unique(labels))}\n",
    "y_test_ligo_events_encoded = np.array([label_to_index[label] for label in y_test_ligo_events])\n",
    "\n",
    "num_classes = len(label_to_index)\n",
    "y_test_ligo_events_encoded = to_categorical(y_test_ligo_events_encoded, num_classes=num_classes)"
   ]
  },
  {
   "cell_type": "code",
   "execution_count": 8,
   "id": "ba9fea83",
   "metadata": {
    "execution": {
     "iopub.execute_input": "2023-10-07T22:55:22.141819Z",
     "iopub.status.busy": "2023-10-07T22:55:22.141480Z",
     "iopub.status.idle": "2023-10-07T22:55:22.155081Z",
     "shell.execute_reply": "2023-10-07T22:55:22.154178Z"
    },
    "papermill": {
     "duration": 0.020316,
     "end_time": "2023-10-07T22:55:22.156986",
     "exception": false,
     "start_time": "2023-10-07T22:55:22.136670",
     "status": "completed"
    },
    "tags": []
   },
   "outputs": [],
   "source": [
    "X_test_ligo_events = pad_sequences(X_test_ligo_events, dtype='float32', padding='post', value=0.0)"
   ]
  },
  {
   "cell_type": "code",
   "execution_count": 9,
   "id": "72fc0d2f",
   "metadata": {
    "execution": {
     "iopub.execute_input": "2023-10-07T22:55:22.166143Z",
     "iopub.status.busy": "2023-10-07T22:55:22.165813Z",
     "iopub.status.idle": "2023-10-07T22:55:22.174814Z",
     "shell.execute_reply": "2023-10-07T22:55:22.173926Z"
    },
    "papermill": {
     "duration": 0.015808,
     "end_time": "2023-10-07T22:55:22.176798",
     "exception": false,
     "start_time": "2023-10-07T22:55:22.160990",
     "status": "completed"
    },
    "tags": []
   },
   "outputs": [],
   "source": [
    "X_test_ligo_events = np.vstack(X_test_ligo_events)"
   ]
  },
  {
   "cell_type": "code",
   "execution_count": 10,
   "id": "754705f6",
   "metadata": {
    "execution": {
     "iopub.execute_input": "2023-10-07T22:55:22.186834Z",
     "iopub.status.busy": "2023-10-07T22:55:22.185557Z",
     "iopub.status.idle": "2023-10-07T22:55:22.270951Z",
     "shell.execute_reply": "2023-10-07T22:55:22.269835Z"
    },
    "papermill": {
     "duration": 0.092168,
     "end_time": "2023-10-07T22:55:22.272970",
     "exception": false,
     "start_time": "2023-10-07T22:55:22.180802",
     "status": "completed"
    },
    "tags": []
   },
   "outputs": [],
   "source": [
    "X_test_ligo_events_tensor = tf.convert_to_tensor(X_test_ligo_events, dtype=tf.float32)\n",
    "y_test_ligo_events_encoded = tf.convert_to_tensor(y_test_ligo_events_encoded, dtype=tf.float32)"
   ]
  },
  {
   "cell_type": "code",
   "execution_count": 11,
   "id": "e9e9f117",
   "metadata": {
    "execution": {
     "iopub.execute_input": "2023-10-07T22:55:22.282078Z",
     "iopub.status.busy": "2023-10-07T22:55:22.281782Z",
     "iopub.status.idle": "2023-10-07T22:55:22.286188Z",
     "shell.execute_reply": "2023-10-07T22:55:22.284878Z"
    },
    "papermill": {
     "duration": 0.011212,
     "end_time": "2023-10-07T22:55:22.288159",
     "exception": false,
     "start_time": "2023-10-07T22:55:22.276947",
     "status": "completed"
    },
    "tags": []
   },
   "outputs": [],
   "source": [
    "signal_length = 2048"
   ]
  },
  {
   "cell_type": "code",
   "execution_count": 12,
   "id": "c234bfab",
   "metadata": {
    "execution": {
     "iopub.execute_input": "2023-10-07T22:55:22.297338Z",
     "iopub.status.busy": "2023-10-07T22:55:22.296923Z",
     "iopub.status.idle": "2023-10-07T22:55:22.299867Z",
     "shell.execute_reply": "2023-10-07T22:55:22.299361Z"
    },
    "papermill": {
     "duration": 0.008864,
     "end_time": "2023-10-07T22:55:22.301218",
     "exception": false,
     "start_time": "2023-10-07T22:55:22.292354",
     "status": "completed"
    },
    "tags": []
   },
   "outputs": [],
   "source": [
    "X_test_ligo_events_reshaped = X_test_ligo_events.reshape(-1, signal_length, 1)"
   ]
  },
  {
   "cell_type": "code",
   "execution_count": 13,
   "id": "024463d7",
   "metadata": {
    "execution": {
     "iopub.execute_input": "2023-10-07T22:55:22.310962Z",
     "iopub.status.busy": "2023-10-07T22:55:22.310596Z",
     "iopub.status.idle": "2023-10-07T22:55:51.549924Z",
     "shell.execute_reply": "2023-10-07T22:55:51.548983Z"
    },
    "papermill": {
     "duration": 29.246403,
     "end_time": "2023-10-07T22:55:51.551880",
     "exception": false,
     "start_time": "2023-10-07T22:55:22.305477",
     "status": "completed"
    },
    "tags": []
   },
   "outputs": [],
   "source": [
    "X_train = np.load('/kaggle/input/trainvalidationtest/Train Val Test/X_train.npy', allow_pickle=True)\n",
    "y_train = np.load('/kaggle/input/trainvalidationtest/Train Val Test/y_train.npy', allow_pickle=True)\n",
    "X_val = np.load('/kaggle/input/trainvalidationtest/Train Val Test/X_val.npy', allow_pickle=True)\n",
    "y_val = np.load('/kaggle/input/trainvalidationtest/Train Val Test/y_val.npy', allow_pickle=True)\n",
    "X_test = np.load('/kaggle/input/trainvalidationtest/Train Val Test/X_test.npy', allow_pickle=True)\n",
    "y_test = np.load('/kaggle/input/trainvalidationtest/Train Val Test/y_test.npy', allow_pickle=True)"
   ]
  },
  {
   "cell_type": "code",
   "execution_count": 14,
   "id": "dd8b6bbf",
   "metadata": {
    "execution": {
     "iopub.execute_input": "2023-10-07T22:55:51.561737Z",
     "iopub.status.busy": "2023-10-07T22:55:51.560746Z",
     "iopub.status.idle": "2023-10-07T22:55:52.215444Z",
     "shell.execute_reply": "2023-10-07T22:55:52.214573Z"
    },
    "papermill": {
     "duration": 0.661474,
     "end_time": "2023-10-07T22:55:52.217422",
     "exception": false,
     "start_time": "2023-10-07T22:55:51.555948",
     "status": "completed"
    },
    "tags": []
   },
   "outputs": [],
   "source": [
    "data_info = np.load('/kaggle/input/alllabels/labels.npy', allow_pickle=True)\n",
    "file_paths = [item[0] for item in data_info]\n",
    "labels = [item[1] for item in data_info]"
   ]
  },
  {
   "cell_type": "code",
   "execution_count": 15,
   "id": "3dc2a937",
   "metadata": {
    "execution": {
     "iopub.execute_input": "2023-10-07T22:55:52.226597Z",
     "iopub.status.busy": "2023-10-07T22:55:52.226118Z",
     "iopub.status.idle": "2023-10-07T22:55:52.351401Z",
     "shell.execute_reply": "2023-10-07T22:55:52.350127Z"
    },
    "papermill": {
     "duration": 0.132234,
     "end_time": "2023-10-07T22:55:52.353679",
     "exception": false,
     "start_time": "2023-10-07T22:55:52.221445",
     "status": "completed"
    },
    "tags": []
   },
   "outputs": [],
   "source": [
    "label_to_index = {label: index for index, label in enumerate(np.unique(labels))}\n",
    "y_train_encoded = np.array([label_to_index[label] for label in y_train])\n",
    "y_val_encoded = np.array([label_to_index[label] for label in y_val])\n",
    "y_test_encoded = np.array([label_to_index[label] for label in y_test])\n",
    "\n",
    "num_classes = len(label_to_index)\n",
    "y_train_encoded = to_categorical(y_train_encoded, num_classes=num_classes)\n",
    "y_val_encoded = to_categorical(y_val_encoded, num_classes=num_classes)\n",
    "y_test_encoded = to_categorical(y_test_encoded, num_classes=num_classes)"
   ]
  },
  {
   "cell_type": "code",
   "execution_count": 16,
   "id": "f488ba5a",
   "metadata": {
    "execution": {
     "iopub.execute_input": "2023-10-07T22:55:52.362865Z",
     "iopub.status.busy": "2023-10-07T22:55:52.362450Z",
     "iopub.status.idle": "2023-10-07T22:55:53.234140Z",
     "shell.execute_reply": "2023-10-07T22:55:53.233109Z"
    },
    "papermill": {
     "duration": 0.878433,
     "end_time": "2023-10-07T22:55:53.236237",
     "exception": false,
     "start_time": "2023-10-07T22:55:52.357804",
     "status": "completed"
    },
    "tags": []
   },
   "outputs": [],
   "source": [
    "X_train = pad_sequences(X_train, dtype='float32', padding='post', value=0.0)\n",
    "X_val = pad_sequences(X_val, dtype='float32', padding='post', value=0.0)\n",
    "X_test = pad_sequences(X_test, dtype='float32', padding='post', value=0.0)"
   ]
  },
  {
   "cell_type": "code",
   "execution_count": 17,
   "id": "550d246b",
   "metadata": {
    "execution": {
     "iopub.execute_input": "2023-10-07T22:55:53.244834Z",
     "iopub.status.busy": "2023-10-07T22:55:53.244458Z",
     "iopub.status.idle": "2023-10-07T22:55:53.593542Z",
     "shell.execute_reply": "2023-10-07T22:55:53.592582Z"
    },
    "papermill": {
     "duration": 0.355349,
     "end_time": "2023-10-07T22:55:53.595484",
     "exception": false,
     "start_time": "2023-10-07T22:55:53.240135",
     "status": "completed"
    },
    "tags": []
   },
   "outputs": [],
   "source": [
    "X_train = np.vstack(X_train)\n",
    "X_val = np.vstack(X_val)\n",
    "X_test = np.vstack(X_test)"
   ]
  },
  {
   "cell_type": "code",
   "execution_count": 18,
   "id": "5a1a0403",
   "metadata": {
    "execution": {
     "iopub.execute_input": "2023-10-07T22:55:53.604683Z",
     "iopub.status.busy": "2023-10-07T22:55:53.604366Z",
     "iopub.status.idle": "2023-10-07T22:55:54.072842Z",
     "shell.execute_reply": "2023-10-07T22:55:54.071870Z"
    },
    "papermill": {
     "duration": 0.475165,
     "end_time": "2023-10-07T22:55:54.074759",
     "exception": false,
     "start_time": "2023-10-07T22:55:53.599594",
     "status": "completed"
    },
    "tags": []
   },
   "outputs": [],
   "source": [
    "X_train_tensor = tf.convert_to_tensor(X_train, dtype=tf.float32)\n",
    "X_val_tensor = tf.convert_to_tensor(X_val, dtype=tf.float32)\n",
    "X_test_tensor = tf.convert_to_tensor(X_test, dtype=tf.float32)\n",
    "y_train_encoded_tensor = tf.convert_to_tensor(y_train_encoded, dtype=tf.float32)\n",
    "y_val_encoded_tensor = tf.convert_to_tensor(y_val_encoded, dtype=tf.float32)\n",
    "y_test_encoded_tensor = tf.convert_to_tensor(y_test_encoded, dtype=tf.float32)"
   ]
  },
  {
   "cell_type": "code",
   "execution_count": 19,
   "id": "f6e71a54",
   "metadata": {
    "execution": {
     "iopub.execute_input": "2023-10-07T22:55:54.084276Z",
     "iopub.status.busy": "2023-10-07T22:55:54.083094Z",
     "iopub.status.idle": "2023-10-07T22:55:54.087908Z",
     "shell.execute_reply": "2023-10-07T22:55:54.086797Z"
    },
    "papermill": {
     "duration": 0.011467,
     "end_time": "2023-10-07T22:55:54.090102",
     "exception": false,
     "start_time": "2023-10-07T22:55:54.078635",
     "status": "completed"
    },
    "tags": []
   },
   "outputs": [],
   "source": [
    "signal_length = 2048"
   ]
  },
  {
   "cell_type": "code",
   "execution_count": 20,
   "id": "d1ca869c",
   "metadata": {
    "execution": {
     "iopub.execute_input": "2023-10-07T22:55:54.099297Z",
     "iopub.status.busy": "2023-10-07T22:55:54.098945Z",
     "iopub.status.idle": "2023-10-07T22:55:54.103620Z",
     "shell.execute_reply": "2023-10-07T22:55:54.102575Z"
    },
    "papermill": {
     "duration": 0.011525,
     "end_time": "2023-10-07T22:55:54.105849",
     "exception": false,
     "start_time": "2023-10-07T22:55:54.094324",
     "status": "completed"
    },
    "tags": []
   },
   "outputs": [],
   "source": [
    "X_train_reshaped = X_train.reshape(-1, signal_length, 1)\n",
    "X_val_reshaped = X_val.reshape(-1, signal_length, 1)\n",
    "X_test_reshaped = X_test.reshape(-1, signal_length, 1)"
   ]
  },
  {
   "cell_type": "code",
   "execution_count": 21,
   "id": "0de2c791",
   "metadata": {
    "execution": {
     "iopub.execute_input": "2023-10-07T22:55:54.115387Z",
     "iopub.status.busy": "2023-10-07T22:55:54.115086Z",
     "iopub.status.idle": "2023-10-07T22:55:54.598965Z",
     "shell.execute_reply": "2023-10-07T22:55:54.597826Z"
    },
    "papermill": {
     "duration": 0.490734,
     "end_time": "2023-10-07T22:55:54.600954",
     "exception": false,
     "start_time": "2023-10-07T22:55:54.110220",
     "status": "completed"
    },
    "tags": []
   },
   "outputs": [],
   "source": [
    "mean = np.mean(X_train_reshaped)\n",
    "std = np.std(X_train_reshaped)\n",
    "real_ligo_mean = np.mean(X_test_ligo_events_reshaped)\n",
    "real_ligo_std = np.std(X_test_ligo_events_reshaped)\n",
    "\n",
    "X_test_ligo_events_scaled = np.zeros_like(X_test_ligo_events_reshaped)\n",
    "\n",
    "positions_label_0 = np.where(y_test_ligo_events_encoded == 0)[0]\n",
    "\n",
    "for i in positions_label_0:\n",
    "    X_test_ligo_events_scaled[i] = X_test_ligo_events_reshaped[i]\n",
    "\n",
    "positions_label_1 = np.where(y_test_ligo_events_encoded == 1)[0]\n",
    "\n",
    "for i in positions_label_1:\n",
    "    scaled_sample = (X_test_ligo_events_reshaped[i] - real_ligo_mean) / real_ligo_std\n",
    "    X_test_ligo_events_scaled[i] = scaled_sample\n",
    "\n",
    "positions_label_2 = np.where(y_test_ligo_events_encoded == 2)[0]\n",
    "positions_label_3 = np.where(y_test_ligo_events_encoded == 3)[0]\n",
    "\n",
    "for i in positions_label_2:\n",
    "    scaled_sample = (X_test_ligo_events_reshaped[i] - mean) / std\n",
    "    X_test_ligo_events_scaled[i] = scaled_sample\n",
    "\n",
    "for i in positions_label_3:\n",
    "    scaled_sample = (X_test_ligo_events_reshaped[i] - mean) / std\n",
    "    X_test_ligo_events_scaled[i] = scaled_sample"
   ]
  },
  {
   "cell_type": "code",
   "execution_count": 22,
   "id": "5fb1f462",
   "metadata": {
    "execution": {
     "iopub.execute_input": "2023-10-07T22:55:54.609319Z",
     "iopub.status.busy": "2023-10-07T22:55:54.609074Z",
     "iopub.status.idle": "2023-10-07T22:55:54.612904Z",
     "shell.execute_reply": "2023-10-07T22:55:54.612018Z"
    },
    "papermill": {
     "duration": 0.010239,
     "end_time": "2023-10-07T22:55:54.614981",
     "exception": false,
     "start_time": "2023-10-07T22:55:54.604742",
     "status": "completed"
    },
    "tags": []
   },
   "outputs": [],
   "source": [
    "test_data = X_test_ligo_events_scaled"
   ]
  },
  {
   "cell_type": "code",
   "execution_count": 23,
   "id": "78a96dca",
   "metadata": {
    "execution": {
     "iopub.execute_input": "2023-10-07T22:55:54.623892Z",
     "iopub.status.busy": "2023-10-07T22:55:54.623607Z",
     "iopub.status.idle": "2023-10-07T22:55:54.628487Z",
     "shell.execute_reply": "2023-10-07T22:55:54.627555Z"
    },
    "papermill": {
     "duration": 0.011153,
     "end_time": "2023-10-07T22:55:54.630181",
     "exception": false,
     "start_time": "2023-10-07T22:55:54.619028",
     "status": "completed"
    },
    "tags": []
   },
   "outputs": [
    {
     "name": "stdout",
     "output_type": "stream",
     "text": [
      "-5.121349e-24\n",
      "1.7853791e-19\n",
      "-1.2127532e-23\n",
      "1.6037192e-20\n"
     ]
    }
   ],
   "source": [
    "print(mean)\n",
    "print(std)\n",
    "print(real_ligo_mean)\n",
    "print(real_ligo_std)"
   ]
  },
  {
   "cell_type": "code",
   "execution_count": 24,
   "id": "508649f4",
   "metadata": {
    "execution": {
     "iopub.execute_input": "2023-10-07T22:55:54.640697Z",
     "iopub.status.busy": "2023-10-07T22:55:54.640319Z",
     "iopub.status.idle": "2023-10-07T22:55:54.646388Z",
     "shell.execute_reply": "2023-10-07T22:55:54.644933Z"
    },
    "papermill": {
     "duration": 0.013829,
     "end_time": "2023-10-07T22:55:54.648746",
     "exception": false,
     "start_time": "2023-10-07T22:55:54.634917",
     "status": "completed"
    },
    "tags": []
   },
   "outputs": [
    {
     "name": "stdout",
     "output_type": "stream",
     "text": [
      "1632\n"
     ]
    }
   ],
   "source": [
    "print(len(test_data))"
   ]
  },
  {
   "cell_type": "code",
   "execution_count": 25,
   "id": "90c68e29",
   "metadata": {
    "execution": {
     "iopub.execute_input": "2023-10-07T22:55:54.658080Z",
     "iopub.status.busy": "2023-10-07T22:55:54.657777Z",
     "iopub.status.idle": "2023-10-07T22:55:54.671928Z",
     "shell.execute_reply": "2023-10-07T22:55:54.670664Z"
    },
    "papermill": {
     "duration": 0.020925,
     "end_time": "2023-10-07T22:55:54.673883",
     "exception": false,
     "start_time": "2023-10-07T22:55:54.652958",
     "status": "completed"
    },
    "tags": []
   },
   "outputs": [],
   "source": [
    "np.save('test_data2.npy', test_data)"
   ]
  },
  {
   "cell_type": "code",
   "execution_count": null,
   "id": "8f76cdb1",
   "metadata": {
    "papermill": {
     "duration": 0.003376,
     "end_time": "2023-10-07T22:55:54.681357",
     "exception": false,
     "start_time": "2023-10-07T22:55:54.677981",
     "status": "completed"
    },
    "tags": []
   },
   "outputs": [],
   "source": []
  },
  {
   "cell_type": "code",
   "execution_count": null,
   "id": "56899c36",
   "metadata": {
    "papermill": {
     "duration": 0.003354,
     "end_time": "2023-10-07T22:55:54.688287",
     "exception": false,
     "start_time": "2023-10-07T22:55:54.684933",
     "status": "completed"
    },
    "tags": []
   },
   "outputs": [],
   "source": []
  }
 ],
 "metadata": {
  "kernelspec": {
   "display_name": "Python 3",
   "language": "python",
   "name": "python3"
  },
  "language_info": {
   "codemirror_mode": {
    "name": "ipython",
    "version": 3
   },
   "file_extension": ".py",
   "mimetype": "text/x-python",
   "name": "python",
   "nbconvert_exporter": "python",
   "pygments_lexer": "ipython3",
   "version": "3.10.12"
  },
  "papermill": {
   "default_parameters": {},
   "duration": 47.857388,
   "end_time": "2023-10-07T22:55:56.314404",
   "environment_variables": {},
   "exception": null,
   "input_path": "__notebook__.ipynb",
   "output_path": "__notebook__.ipynb",
   "parameters": {},
   "start_time": "2023-10-07T22:55:08.457016",
   "version": "2.4.0"
  }
 },
 "nbformat": 4,
 "nbformat_minor": 5
}
