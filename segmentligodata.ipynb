{
  "metadata": {
    "kernelspec": {
      "language": "python",
      "display_name": "Python 3",
      "name": "python3"
    },
    "language_info": {
      "name": "python",
      "version": "3.10.12",
      "mimetype": "text/x-python",
      "codemirror_mode": {
        "name": "ipython",
        "version": 3
      },
      "pygments_lexer": "ipython3",
      "nbconvert_exporter": "python",
      "file_extension": ".py"
    },
    "colab": {
      "provenance": []
    }
  },
  "nbformat_minor": 0,
  "nbformat": 4,
  "cells": [
    {
      "cell_type": "code",
      "source": [
        "import numpy as np"
      ],
      "metadata": {
        "execution": {
          "iopub.status.busy": "2023-09-29T23:26:08.467590Z",
          "iopub.execute_input": "2023-09-29T23:26:08.468266Z",
          "iopub.status.idle": "2023-09-29T23:26:08.502514Z",
          "shell.execute_reply.started": "2023-09-29T23:26:08.468235Z",
          "shell.execute_reply": "2023-09-29T23:26:08.501725Z"
        },
        "trusted": true,
        "id": "KD9KwC2EVtWM"
      },
      "execution_count": 2,
      "outputs": []
    },
    {
      "cell_type": "code",
      "source": [
        "import os\n",
        "\n",
        "directory_path = '/content/ligodata'\n",
        "\n",
        "if not os.path.exists(directory_path):\n",
        "    os.makedirs(directory_path)\n",
        "\n",
        "if os.path.exists(directory_path):\n",
        "    print(f\"Directory 'ligodata' has been created at '{directory_path}'\")\n"
      ],
      "metadata": {
        "colab": {
          "base_uri": "https://localhost:8080/"
        },
        "id": "BMnAe-D0u8Jk",
        "outputId": "da8dce70-b57e-4565-a390-f06879611b02"
      },
      "execution_count": 3,
      "outputs": [
        {
          "output_type": "stream",
          "name": "stdout",
          "text": [
            "Directory 'ligodata' has been created at '/content/ligodata'\n"
          ]
        }
      ]
    },
    {
      "cell_type": "code",
      "source": [
        "ligodata_directory = '/content/ligodata'"
      ],
      "metadata": {
        "id": "QB4yC5YavKFy"
      },
      "execution_count": 4,
      "outputs": []
    },
    {
      "cell_type": "code",
      "source": [
        "window_size = 2048"
      ],
      "metadata": {
        "execution": {
          "iopub.status.busy": "2023-09-29T23:26:08.507179Z",
          "iopub.execute_input": "2023-09-29T23:26:08.507718Z",
          "iopub.status.idle": "2023-09-29T23:26:08.511298Z",
          "shell.execute_reply.started": "2023-09-29T23:26:08.507690Z",
          "shell.execute_reply": "2023-09-29T23:26:08.510503Z"
        },
        "trusted": true,
        "id": "rev6C_hrVtWP"
      },
      "execution_count": 5,
      "outputs": []
    },
    {
      "cell_type": "code",
      "source": [
        "# GW150914\n",
        "data = np.load('/content/Real Ligo Virgo Data/Real Ligo Virgo Data/GW150914_H_data.npy')\n",
        "\n",
        "label_events1 = []\n",
        "segments1 = []\n",
        "for i in range(0, len(data) - window_size + 1, window_size):\n",
        "    window = data[i:i+window_size]\n",
        "    segments1.append(window)\n",
        "    if any(label == 'noise+BBH' for _, label in window):\n",
        "        label_events1.append('Noise+BBH')\n",
        "    elif any(label == 'noise+BNS' for _, label in window):\n",
        "        label_events1.append('Noise+BNS')\n",
        "    elif any(label == 'noise+NSBH' for _, label in window):\n",
        "        label_events1.append('Noise+NSBH')\n",
        "    else:\n",
        "        label_events1.append('Noise')\n",
        "\n",
        "for i, segment in enumerate(segments1):\n",
        "    file_path = os.path.join(ligodata_directory, f\"GW150914_H_segment_{i}.npy\")\n",
        "    segment_without_labels = np.array([item[0] for item in segment])\n",
        "    np.save(file_path, segment_without_labels)"
      ],
      "metadata": {
        "execution": {
          "iopub.status.busy": "2023-09-29T23:26:08.546925Z",
          "iopub.execute_input": "2023-09-29T23:26:08.547503Z",
          "iopub.status.idle": "2023-09-29T23:26:08.743582Z",
          "shell.execute_reply.started": "2023-09-29T23:26:08.547473Z",
          "shell.execute_reply": "2023-09-29T23:26:08.742358Z"
        },
        "trusted": true,
        "id": "VvdntLZCVtWQ"
      },
      "execution_count": 6,
      "outputs": []
    },
    {
      "cell_type": "code",
      "source": [
        "data = np.load('/content/Real Ligo Virgo Data/Real Ligo Virgo Data/GW150914_L_data.npy')\n",
        "\n",
        "label_events2 = []\n",
        "segments = []\n",
        "for i in range(0, len(data) - window_size + 1, window_size):\n",
        "    window = data[i:i+window_size]\n",
        "    segments.append(window)\n",
        "    if any(label == 'noise+BBH' for _, label in window):\n",
        "        label_events2.append('Noise+BBH')\n",
        "    elif any(label == 'noise+BNS' for _, label in window):\n",
        "        label_events2.append('Noise+BNS')\n",
        "    elif any(label == 'noise+NSBH' for _, label in window):\n",
        "        label_events2.append('Noise+NSBH')\n",
        "    else:\n",
        "        label_events2.append('Noise')\n",
        "\n",
        "for i, segment in enumerate(segments):\n",
        "    file_path = os.path.join(ligodata_directory, f\"GW150914_L_segment_{i}.npy\")\n",
        "    segment_without_labels = np.array([item[0] for item in segment])\n",
        "    np.save(file_path, segment_without_labels)"
      ],
      "metadata": {
        "execution": {
          "iopub.status.busy": "2023-09-29T23:26:08.755372Z",
          "iopub.execute_input": "2023-09-29T23:26:08.755955Z",
          "iopub.status.idle": "2023-09-29T23:26:08.950472Z",
          "shell.execute_reply.started": "2023-09-29T23:26:08.755928Z",
          "shell.execute_reply": "2023-09-29T23:26:08.949275Z"
        },
        "trusted": true,
        "id": "jIoH7S1TVtWT"
      },
      "execution_count": 7,
      "outputs": []
    },
    {
      "cell_type": "code",
      "source": [
        "#GW151226\n",
        "data = np.load('/content/Real Ligo Virgo Data/Real Ligo Virgo Data/GW151226_H_data.npy')\n",
        "\n",
        "label_events3 = []\n",
        "segments = []\n",
        "for i in range(0, len(data) - window_size + 1, window_size):\n",
        "    window = data[i:i+window_size]\n",
        "    segments.append(window)\n",
        "    if any(label == 'noise+BBH' for _, label in window):\n",
        "        label_events3.append('Noise+BBH')\n",
        "    elif any(label == 'noise+BNS' for _, label in window):\n",
        "        label_events3.append('Noise+BNS')\n",
        "    elif any(label == 'noise+NSBH' for _, label in window):\n",
        "        label_events3.append('Noise+NSBH')\n",
        "    else:\n",
        "        label_events3.append('Noise')\n",
        "\n",
        "for i, segment in enumerate(segments):\n",
        "    file_path = os.path.join(ligodata_directory, f\"GW151226_H_segment_{i}.npy\")\n",
        "    segment_without_labels = np.array([item[0] for item in segment])\n",
        "    np.save(file_path, segment_without_labels)"
      ],
      "metadata": {
        "execution": {
          "iopub.status.busy": "2023-09-29T23:26:08.961618Z",
          "iopub.execute_input": "2023-09-29T23:26:08.962028Z",
          "iopub.status.idle": "2023-09-29T23:26:09.159284Z",
          "shell.execute_reply.started": "2023-09-29T23:26:08.961990Z",
          "shell.execute_reply": "2023-09-29T23:26:09.157840Z"
        },
        "trusted": true,
        "id": "Go3lhvUYVtWT"
      },
      "execution_count": 8,
      "outputs": []
    },
    {
      "cell_type": "code",
      "source": [
        "data = np.load('/content/Real Ligo Virgo Data/Real Ligo Virgo Data/GW151226_L_data.npy')\n",
        "\n",
        "label_events4 = []\n",
        "segments = []\n",
        "for i in range(0, len(data) - window_size + 1, window_size):\n",
        "    window = data[i:i+window_size]\n",
        "    segments.append(window)\n",
        "    if any(label == 'noise+BBH' for _, label in window):\n",
        "        label_events4.append('Noise+BBH')\n",
        "    elif any(label == 'noise+BNS' for _, label in window):\n",
        "        label_events4.append('Noise+BNS')\n",
        "    elif any(label == 'noise+NSBH' for _, label in window):\n",
        "        label_events4.append('Noise+NSBH')\n",
        "    else:\n",
        "        label_events4.append('Noise')\n",
        "\n",
        "for i, segment in enumerate(segments):\n",
        "    file_path = os.path.join(ligodata_directory, f\"GW151226_L_segment_{i}.npy\")\n",
        "    segment_without_labels = np.array([item[0] for item in segment])\n",
        "    np.save(file_path, segment_without_labels)"
      ],
      "metadata": {
        "execution": {
          "iopub.status.busy": "2023-09-29T23:26:09.168747Z",
          "iopub.execute_input": "2023-09-29T23:26:09.168990Z",
          "iopub.status.idle": "2023-09-29T23:26:09.367099Z",
          "shell.execute_reply.started": "2023-09-29T23:26:09.168969Z",
          "shell.execute_reply": "2023-09-29T23:26:09.366000Z"
        },
        "trusted": true,
        "id": "e8GDA6OiVtWU"
      },
      "execution_count": 9,
      "outputs": []
    },
    {
      "cell_type": "code",
      "source": [
        "#GW170104\n",
        "data = np.load('/content/Real Ligo Virgo Data/Real Ligo Virgo Data/GW170104_H_data.npy')\n",
        "\n",
        "label_events5 = []\n",
        "segments = []\n",
        "for i in range(0, len(data) - window_size + 1, window_size):\n",
        "    window = data[i:i+window_size]\n",
        "    segments.append(window)\n",
        "    if any(label == 'noise+BBH' for _, label in window):\n",
        "        label_events5.append('Noise+BBH')\n",
        "    elif any(label == 'noise+BNS' for _, label in window):\n",
        "        label_events5.append('Noise+BNS')\n",
        "    elif any(label == 'noise+NSBH' for _, label in window):\n",
        "        label_events5.append('Noise+NSBH')\n",
        "    else:\n",
        "        label_events5.append('Noise')\n",
        "\n",
        "for i, segment in enumerate(segments):\n",
        "    file_path = os.path.join(ligodata_directory, f\"GW170104_H_segment_{i}.npy\")\n",
        "    segment_without_labels = np.array([item[0] for item in segment])\n",
        "    np.save(file_path, segment_without_labels)"
      ],
      "metadata": {
        "execution": {
          "iopub.status.busy": "2023-09-29T23:26:09.377178Z",
          "iopub.execute_input": "2023-09-29T23:26:09.377469Z",
          "iopub.status.idle": "2023-09-29T23:26:09.584315Z",
          "shell.execute_reply.started": "2023-09-29T23:26:09.377445Z",
          "shell.execute_reply": "2023-09-29T23:26:09.583264Z"
        },
        "trusted": true,
        "id": "5gQP47g5VtWV"
      },
      "execution_count": 10,
      "outputs": []
    },
    {
      "cell_type": "code",
      "source": [
        "data = np.load('/content/Real Ligo Virgo Data/Real Ligo Virgo Data/GW170104_L_data.npy')\n",
        "\n",
        "label_events6 = []\n",
        "segments = []\n",
        "for i in range(0, len(data) - window_size + 1, window_size):\n",
        "    window = data[i:i+window_size]\n",
        "    segments.append(window)\n",
        "    if any(label == 'noise+BBH' for _, label in window):\n",
        "        label_events6.append('Noise+BBH')\n",
        "    elif any(label == 'noise+BNS' for _, label in window):\n",
        "        label_events6.append('Noise+BNS')\n",
        "    elif any(label == 'noise+NSBH' for _, label in window):\n",
        "        label_events6.append('Noise+NSBH')\n",
        "    else:\n",
        "        label_events6.append('Noise')\n",
        "\n",
        "for i, segment in enumerate(segments):\n",
        "    file_path = os.path.join(ligodata_directory, f\"GW170104_L_segment_{i}.npy\")\n",
        "    segment_without_labels = np.array([item[0] for item in segment])\n",
        "    np.save(file_path, segment_without_labels)"
      ],
      "metadata": {
        "execution": {
          "iopub.status.busy": "2023-09-29T23:26:09.596147Z",
          "iopub.execute_input": "2023-09-29T23:26:09.596733Z",
          "iopub.status.idle": "2023-09-29T23:26:09.806035Z",
          "shell.execute_reply.started": "2023-09-29T23:26:09.596691Z",
          "shell.execute_reply": "2023-09-29T23:26:09.804931Z"
        },
        "trusted": true,
        "id": "SCeBvZKfVtWV"
      },
      "execution_count": 11,
      "outputs": []
    },
    {
      "cell_type": "code",
      "source": [
        "#GW170608\n",
        "data = np.load('/content/Real Ligo Virgo Data/Real Ligo Virgo Data/GW170608_H_data.npy')\n",
        "\n",
        "label_events7 = []\n",
        "segments = []\n",
        "for i in range(0, len(data) - window_size + 1, window_size):\n",
        "    window = data[i:i+window_size]\n",
        "    segments.append(window)\n",
        "    if any(label == 'noise+BBH' for _, label in window):\n",
        "        label_events7.append('Noise+BBH')\n",
        "    elif any(label == 'noise+BNS' for _, label in window):\n",
        "        label_events7.append('Noise+BNS')\n",
        "    elif any(label == 'noise+NSBH' for _, label in window):\n",
        "        label_events7.append('Noise+NSBH')\n",
        "    else:\n",
        "        label_events7.append('Noise')\n",
        "\n",
        "for i, segment in enumerate(segments):\n",
        "    file_path = os.path.join(ligodata_directory, f\"GW170608_H_segment_{i}.npy\")\n",
        "    segment_without_labels = np.array([item[0] for item in segment])\n",
        "    np.save(file_path, segment_without_labels)"
      ],
      "metadata": {
        "execution": {
          "iopub.status.busy": "2023-09-29T23:26:09.817096Z",
          "iopub.execute_input": "2023-09-29T23:26:09.817518Z",
          "iopub.status.idle": "2023-09-29T23:26:10.010496Z",
          "shell.execute_reply.started": "2023-09-29T23:26:09.817478Z",
          "shell.execute_reply": "2023-09-29T23:26:10.009729Z"
        },
        "trusted": true,
        "id": "WpW5iOJ5VtWW"
      },
      "execution_count": 12,
      "outputs": []
    },
    {
      "cell_type": "code",
      "source": [
        "data = np.load('/content/Real Ligo Virgo Data/Real Ligo Virgo Data/GW170608_L_data.npy')\n",
        "\n",
        "label_events8 = []\n",
        "segments = []\n",
        "for i in range(0, len(data) - window_size + 1, window_size):\n",
        "    window = data[i:i+window_size]\n",
        "    segments.append(window)\n",
        "    if any(label == 'noise+BBH' for _, label in window):\n",
        "        label_events8.append('Noise+BBH')\n",
        "    elif any(label == 'noise+BNS' for _, label in window):\n",
        "        label_events8.append('Noise+BNS')\n",
        "    elif any(label == 'noise+NSBH' for _, label in window):\n",
        "        label_events8.append('Noise+NSBH')\n",
        "    else:\n",
        "        label_events8.append('Noise')\n",
        "\n",
        "for i, segment in enumerate(segments):\n",
        "    file_path = os.path.join(ligodata_directory, f\"GW170608_L_segment_{i}.npy\")\n",
        "    segment_without_labels = np.array([item[0] for item in segment])\n",
        "    np.save(file_path, segment_without_labels)"
      ],
      "metadata": {
        "execution": {
          "iopub.status.busy": "2023-09-29T23:26:10.019844Z",
          "iopub.execute_input": "2023-09-29T23:26:10.020557Z",
          "iopub.status.idle": "2023-09-29T23:26:10.205179Z",
          "shell.execute_reply.started": "2023-09-29T23:26:10.020528Z",
          "shell.execute_reply": "2023-09-29T23:26:10.204067Z"
        },
        "trusted": true,
        "id": "mhLv4qDOVtWX"
      },
      "execution_count": 13,
      "outputs": []
    },
    {
      "cell_type": "code",
      "source": [
        "#GW170729\n",
        "data = np.load('/content/Real Ligo Virgo Data/Real Ligo Virgo Data/GW170729_H_data.npy')\n",
        "\n",
        "label_events9 = []\n",
        "segments = []\n",
        "for i in range(0, len(data) - window_size + 1, window_size):\n",
        "    window = data[i:i+window_size]\n",
        "    segments.append(window)\n",
        "    if any(label == 'noise+BBH' for _, label in window):\n",
        "        label_events9.append('Noise+BBH')\n",
        "    elif any(label == 'noise+BNS' for _, label in window):\n",
        "        label_events9.append('Noise+BNS')\n",
        "    elif any(label == 'noise+NSBH' for _, label in window):\n",
        "        label_events9.append('Noise+NSBH')\n",
        "    else:\n",
        "        label_events9.append('Noise')\n",
        "\n",
        "for i, segment in enumerate(segments):\n",
        "    file_path = os.path.join(ligodata_directory, f\"GW170729_H_segment_{i}.npy\")\n",
        "    segment_without_labels = np.array([item[0] for item in segment])\n",
        "    np.save(file_path, segment_without_labels)"
      ],
      "metadata": {
        "execution": {
          "iopub.status.busy": "2023-09-29T23:26:10.215259Z",
          "iopub.execute_input": "2023-09-29T23:26:10.215593Z",
          "iopub.status.idle": "2023-09-29T23:26:10.416559Z",
          "shell.execute_reply.started": "2023-09-29T23:26:10.215565Z",
          "shell.execute_reply": "2023-09-29T23:26:10.415568Z"
        },
        "trusted": true,
        "id": "X-245pJ7VtWX"
      },
      "execution_count": 14,
      "outputs": []
    },
    {
      "cell_type": "code",
      "source": [
        "data = np.load('/content/Real Ligo Virgo Data/Real Ligo Virgo Data/GW170729_L_data.npy')\n",
        "\n",
        "label_events10 = []\n",
        "segments = []\n",
        "for i in range(0, len(data) - window_size + 1, window_size):\n",
        "    window = data[i:i+window_size]\n",
        "    segments.append(window)\n",
        "    if any(label == 'noise+BBH' for _, label in window):\n",
        "        label_events10.append('Noise+BBH')\n",
        "    elif any(label == 'noise+BNS' for _, label in window):\n",
        "        label_events10.append('Noise+BNS')\n",
        "    elif any(label == 'noise+NSBH' for _, label in window):\n",
        "        label_events10.append('Noise+NSBH')\n",
        "    else:\n",
        "        label_events10.append('Noise')\n",
        "\n",
        "for i, segment in enumerate(segments):\n",
        "    file_path = os.path.join(ligodata_directory, f\"GW170729_L_segment_{i}.npy\")\n",
        "    segment_without_labels = np.array([item[0] for item in segment])\n",
        "    np.save(file_path, segment_without_labels)"
      ],
      "metadata": {
        "execution": {
          "iopub.status.busy": "2023-09-29T23:26:10.425214Z",
          "iopub.execute_input": "2023-09-29T23:26:10.425577Z",
          "iopub.status.idle": "2023-09-29T23:26:10.619124Z",
          "shell.execute_reply.started": "2023-09-29T23:26:10.425535Z",
          "shell.execute_reply": "2023-09-29T23:26:10.618006Z"
        },
        "trusted": true,
        "id": "duIsRdQGVtWY"
      },
      "execution_count": 15,
      "outputs": []
    },
    {
      "cell_type": "code",
      "source": [
        "data = np.load('/content/Real Ligo Virgo Data/Real Ligo Virgo Data/GW170729_V_data.npy')\n",
        "\n",
        "label_events11 = []\n",
        "segments = []\n",
        "for i in range(0, len(data) - window_size + 1, window_size):\n",
        "    window = data[i:i+window_size]\n",
        "    segments.append(window)\n",
        "    if any(label == 'noise+BBH' for _, label in window):\n",
        "        label_events11.append('Noise+BBH')\n",
        "    elif any(label == 'noise+BNS' for _, label in window):\n",
        "        label_events11.append('Noise+BNS')\n",
        "    elif any(label == 'noise+NSBH' for _, label in window):\n",
        "        label_events11.append('Noise+NSBH')\n",
        "    else:\n",
        "        label_events11.append('Noise')\n",
        "\n",
        "for i, segment in enumerate(segments):\n",
        "    file_path = os.path.join(ligodata_directory, f\"GW170729_V_segment_{i}.npy\")\n",
        "    segment_without_labels = np.array([item[0] for item in segment])\n",
        "    np.save(file_path, segment_without_labels)"
      ],
      "metadata": {
        "execution": {
          "iopub.status.busy": "2023-09-29T23:26:10.628967Z",
          "iopub.execute_input": "2023-09-29T23:26:10.629328Z",
          "iopub.status.idle": "2023-09-29T23:26:10.819674Z",
          "shell.execute_reply.started": "2023-09-29T23:26:10.629304Z",
          "shell.execute_reply": "2023-09-29T23:26:10.818323Z"
        },
        "trusted": true,
        "id": "gDnvne6SVtWY"
      },
      "execution_count": 16,
      "outputs": []
    },
    {
      "cell_type": "code",
      "source": [
        "#GW170809\n",
        "data = np.load('/content/Real Ligo Virgo Data/Real Ligo Virgo Data/GW170809_H_data.npy')\n",
        "\n",
        "label_events12 = []\n",
        "segments = []\n",
        "for i in range(0, len(data) - window_size + 1, window_size):\n",
        "    window = data[i:i+window_size]\n",
        "    segments.append(window)\n",
        "    if any(label == 'noise+BBH' for _, label in window):\n",
        "        label_events12.append('Noise+BBH')\n",
        "    elif any(label == 'noise+BNS' for _, label in window):\n",
        "        label_events12.append('Noise+BNS')\n",
        "    elif any(label == 'noise+NSBH' for _, label in window):\n",
        "        label_events12.append('Noise+NSBH')\n",
        "    else:\n",
        "        label_events12.append('Noise')\n",
        "\n",
        "for i, segment in enumerate(segments):\n",
        "    file_path = os.path.join(ligodata_directory, f\"GW170809_H_segment_{i}.npy\")\n",
        "    segment_without_labels = np.array([item[0] for item in segment])\n",
        "    np.save(file_path, segment_without_labels)"
      ],
      "metadata": {
        "execution": {
          "iopub.status.busy": "2023-09-29T23:26:10.827436Z",
          "iopub.execute_input": "2023-09-29T23:26:10.827888Z",
          "iopub.status.idle": "2023-09-29T23:26:11.020148Z",
          "shell.execute_reply.started": "2023-09-29T23:26:10.827862Z",
          "shell.execute_reply": "2023-09-29T23:26:11.019260Z"
        },
        "trusted": true,
        "id": "BU0l4xl6VtWZ"
      },
      "execution_count": 17,
      "outputs": []
    },
    {
      "cell_type": "code",
      "source": [
        "data = np.load('/content/Real Ligo Virgo Data/Real Ligo Virgo Data/GW170809_L_data.npy')\n",
        "\n",
        "label_events13 = []\n",
        "segments = []\n",
        "for i in range(0, len(data) - window_size + 1, window_size):\n",
        "    window = data[i:i+window_size]\n",
        "    segments.append(window)\n",
        "    if any(label == 'noise+BBH' for _, label in window):\n",
        "        label_events13.append('Noise+BBH')\n",
        "    elif any(label == 'noise+BNS' for _, label in window):\n",
        "        label_events13.append('Noise+BNS')\n",
        "    elif any(label == 'noise+NSBH' for _, label in window):\n",
        "        label_events13.append('Noise+NSBH')\n",
        "    else:\n",
        "        label_events13.append('Noise')\n",
        "\n",
        "for i, segment in enumerate(segments):\n",
        "    file_path = os.path.join(ligodata_directory, f\"GW170809_L_segment_{i}.npy\")\n",
        "    segment_without_labels = np.array([item[0] for item in segment])\n",
        "    np.save(file_path, segment_without_labels)"
      ],
      "metadata": {
        "execution": {
          "iopub.status.busy": "2023-09-29T23:26:11.029448Z",
          "iopub.execute_input": "2023-09-29T23:26:11.029778Z",
          "iopub.status.idle": "2023-09-29T23:26:11.236563Z",
          "shell.execute_reply.started": "2023-09-29T23:26:11.029752Z",
          "shell.execute_reply": "2023-09-29T23:26:11.235646Z"
        },
        "trusted": true,
        "id": "fd52_kxnVtWZ"
      },
      "execution_count": 18,
      "outputs": []
    },
    {
      "cell_type": "code",
      "source": [
        "#GW170814\n",
        "data = np.load('/content/Real Ligo Virgo Data/Real Ligo Virgo Data/GW170814_H_data.npy')\n",
        "\n",
        "label_events14 = []\n",
        "segments = []\n",
        "for i in range(0, len(data) - window_size + 1, window_size):\n",
        "    window = data[i:i+window_size]\n",
        "    segments.append(window)\n",
        "    if any(label == 'noise+BBH' for _, label in window):\n",
        "        label_events14.append('Noise+BBH')\n",
        "    elif any(label == 'noise+BNS' for _, label in window):\n",
        "        label_events14.append('Noise+BNS')\n",
        "    elif any(label == 'noise+NSBH' for _, label in window):\n",
        "        label_events14.append('Noise+NSBH')\n",
        "    else:\n",
        "        label_events14.append('Noise')\n",
        "\n",
        "for i, segment in enumerate(segments):\n",
        "    file_path = os.path.join(ligodata_directory, f\"GW170814_H_segment_{i}.npy\")\n",
        "    segment_without_labels = np.array([item[0] for item in segment])\n",
        "    np.save(file_path, segment_without_labels)"
      ],
      "metadata": {
        "execution": {
          "iopub.status.busy": "2023-09-29T23:26:11.246761Z",
          "iopub.execute_input": "2023-09-29T23:26:11.247081Z",
          "iopub.status.idle": "2023-09-29T23:26:11.442214Z",
          "shell.execute_reply.started": "2023-09-29T23:26:11.247057Z",
          "shell.execute_reply": "2023-09-29T23:26:11.441013Z"
        },
        "trusted": true,
        "id": "dWkdKZVqVtWa"
      },
      "execution_count": 19,
      "outputs": []
    },
    {
      "cell_type": "code",
      "source": [
        "data = np.load('/content/Real Ligo Virgo Data/Real Ligo Virgo Data/GW170814_L_data.npy')\n",
        "\n",
        "label_events15 = []\n",
        "segments = []\n",
        "for i in range(0, len(data) - window_size + 1, window_size):\n",
        "    window = data[i:i+window_size]\n",
        "    segments.append(window)\n",
        "    if any(label == 'noise+BBH' for _, label in window):\n",
        "        label_events15.append('Noise+BBH')\n",
        "    elif any(label == 'noise+BNS' for _, label in window):\n",
        "        label_events15.append('Noise+BNS')\n",
        "    elif any(label == 'noise+NSBH' for _, label in window):\n",
        "        label_events15.append('Noise+NSBH')\n",
        "    else:\n",
        "        label_events15.append('Noise')\n",
        "\n",
        "for i, segment in enumerate(segments):\n",
        "    file_path = os.path.join(ligodata_directory, f\"GW170814_L_segment_{i}.npy\")\n",
        "    segment_without_labels = np.array([item[0] for item in segment])\n",
        "    np.save(file_path, segment_without_labels)"
      ],
      "metadata": {
        "execution": {
          "iopub.status.busy": "2023-09-29T23:26:11.457136Z",
          "iopub.execute_input": "2023-09-29T23:26:11.457412Z",
          "iopub.status.idle": "2023-09-29T23:26:11.658330Z",
          "shell.execute_reply.started": "2023-09-29T23:26:11.457388Z",
          "shell.execute_reply": "2023-09-29T23:26:11.657457Z"
        },
        "trusted": true,
        "id": "OVTF_qztVtWa"
      },
      "execution_count": 20,
      "outputs": []
    },
    {
      "cell_type": "code",
      "source": [
        "#GW170817\n",
        "data = np.load('/content/Real Ligo Virgo Data/Real Ligo Virgo Data/GW170817_H_data.npy')\n",
        "\n",
        "label_events16 = []\n",
        "segments = []\n",
        "for i in range(0, len(data) - window_size + 1, window_size):\n",
        "    window = data[i:i+window_size]\n",
        "    segments.append(window)\n",
        "    if any(label == 'noise+BBH' for _, label in window):\n",
        "        label_events16.append('Noise+BBH')\n",
        "    elif any(label == 'noise+BNS' for _, label in window):\n",
        "        label_events16.append('Noise+BNS')\n",
        "    elif any(label == 'noise+NSBH' for _, label in window):\n",
        "        label_events16.append('Noise+NSBH')\n",
        "    else:\n",
        "        label_events16.append('Noise')\n",
        "\n",
        "for i, segment in enumerate(segments):\n",
        "    file_path = os.path.join(ligodata_directory, f\"GW170817_H_segment_{i}.npy\")\n",
        "    segment_without_labels = np.array([item[0] for item in segment])\n",
        "    np.save(file_path, segment_without_labels)"
      ],
      "metadata": {
        "execution": {
          "iopub.status.busy": "2023-09-29T23:26:11.668598Z",
          "iopub.execute_input": "2023-09-29T23:26:11.669240Z",
          "iopub.status.idle": "2023-09-29T23:26:11.881358Z",
          "shell.execute_reply.started": "2023-09-29T23:26:11.669202Z",
          "shell.execute_reply": "2023-09-29T23:26:11.880036Z"
        },
        "trusted": true,
        "id": "TcE4O6Y3VtWb"
      },
      "execution_count": 21,
      "outputs": []
    },
    {
      "cell_type": "code",
      "source": [
        "#GW170818\n",
        "data = np.load('/content/Real Ligo Virgo Data/Real Ligo Virgo Data/GW170818_L_data.npy')\n",
        "\n",
        "label_events17 = []\n",
        "segments = []\n",
        "for i in range(0, len(data) - window_size + 1, window_size):\n",
        "    window = data[i:i+window_size]\n",
        "    segments.append(window)\n",
        "    if any(label == 'noise+BBH' for _, label in window):\n",
        "        label_events17.append('Noise+BBH')\n",
        "    elif any(label == 'noise+BNS' for _, label in window):\n",
        "        label_events17.append('Noise+BNS')\n",
        "    elif any(label == 'noise+NSBH' for _, label in window):\n",
        "        label_events17.append('Noise+NSBH')\n",
        "    else:\n",
        "        label_events17.append('Noise')\n",
        "\n",
        "for i, segment in enumerate(segments):\n",
        "    file_path = os.path.join(ligodata_directory, f\"GW170818_L_segment_{i}.npy\")\n",
        "    segment_without_labels = np.array([item[0] for item in segment])\n",
        "    np.save(file_path, segment_without_labels)"
      ],
      "metadata": {
        "execution": {
          "iopub.status.busy": "2023-09-29T23:26:11.892841Z",
          "iopub.execute_input": "2023-09-29T23:26:11.893570Z",
          "iopub.status.idle": "2023-09-29T23:26:12.086179Z",
          "shell.execute_reply.started": "2023-09-29T23:26:11.893527Z",
          "shell.execute_reply": "2023-09-29T23:26:12.085275Z"
        },
        "trusted": true,
        "id": "Cu2EDg9rVtWb"
      },
      "execution_count": 22,
      "outputs": []
    },
    {
      "cell_type": "code",
      "source": [
        "#GW170823\n",
        "data = np.load('/content/Real Ligo Virgo Data/Real Ligo Virgo Data/GW170823_H_data.npy')\n",
        "\n",
        "label_events18 = []\n",
        "segments = []\n",
        "for i in range(0, len(data) - window_size + 1, window_size):\n",
        "    window = data[i:i+window_size]\n",
        "    segments.append(window)\n",
        "    if any(label == 'noise+BBH' for _, label in window):\n",
        "        label_events18.append('Noise+BBH')\n",
        "    elif any(label == 'noise+BNS' for _, label in window):\n",
        "        label_events18.append('Noise+BNS')\n",
        "    elif any(label == 'noise+NSBH' for _, label in window):\n",
        "        label_events18.append('Noise+NSBH')\n",
        "    else:\n",
        "        label_events18.append('Noise')\n",
        "\n",
        "for i, segment in enumerate(segments):\n",
        "    file_path = os.path.join(ligodata_directory, f\"GW170823_H_segment_{i}.npy\")\n",
        "    segment_without_labels = np.array([item[0] for item in segment])\n",
        "    np.save(file_path, segment_without_labels)"
      ],
      "metadata": {
        "execution": {
          "iopub.status.busy": "2023-09-29T23:26:12.096410Z",
          "iopub.execute_input": "2023-09-29T23:26:12.097378Z",
          "iopub.status.idle": "2023-09-29T23:26:12.293481Z",
          "shell.execute_reply.started": "2023-09-29T23:26:12.097345Z",
          "shell.execute_reply": "2023-09-29T23:26:12.292313Z"
        },
        "trusted": true,
        "id": "NmV8Qe9kVtWb"
      },
      "execution_count": 23,
      "outputs": []
    },
    {
      "cell_type": "code",
      "source": [
        "data = np.load('/content/Real Ligo Virgo Data/Real Ligo Virgo Data/GW170823_L_data.npy')\n",
        "\n",
        "label_events19 = []\n",
        "segments = []\n",
        "for i in range(0, len(data) - window_size + 1, window_size):\n",
        "    window = data[i:i+window_size]\n",
        "    segments.append(window)\n",
        "    if any(label == 'noise+BBH' for _, label in window):\n",
        "        label_events19.append('Noise+BBH')\n",
        "    elif any(label == 'noise+BNS' for _, label in window):\n",
        "        label_events19.append('Noise+BNS')\n",
        "    elif any(label == 'noise+NSBH' for _, label in window):\n",
        "        label_events19.append('Noise+NSBH')\n",
        "    else:\n",
        "        label_events19.append('Noise')\n",
        "\n",
        "for i, segment in enumerate(segments):\n",
        "    file_path = os.path.join(ligodata_directory, f\"GW170823_L_segment_{i}.npy\")\n",
        "    segment_without_labels = np.array([item[0] for item in segment])\n",
        "    np.save(file_path, segment_without_labels)"
      ],
      "metadata": {
        "execution": {
          "iopub.status.busy": "2023-09-29T23:26:12.303628Z",
          "iopub.execute_input": "2023-09-29T23:26:12.304194Z",
          "iopub.status.idle": "2023-09-29T23:26:12.504149Z",
          "shell.execute_reply.started": "2023-09-29T23:26:12.304163Z",
          "shell.execute_reply": "2023-09-29T23:26:12.503031Z"
        },
        "trusted": true,
        "id": "A3kvGIYjVtWc"
      },
      "execution_count": 24,
      "outputs": []
    },
    {
      "cell_type": "code",
      "source": [
        "#GW190408_181802\n",
        "data = np.load('/content/Real Ligo Virgo Data/Real Ligo Virgo Data/GW190408_181802_H_data.npy')\n",
        "\n",
        "label_events20 = []\n",
        "segments = []\n",
        "for i in range(0, len(data) - window_size + 1, window_size):\n",
        "    window = data[i:i+window_size]\n",
        "    segments.append(window)\n",
        "    if any(label == 'noise+BBH' for _, label in window):\n",
        "        label_events20.append('Noise+BBH')\n",
        "    elif any(label == 'noise+BNS' for _, label in window):\n",
        "        label_events20.append('Noise+BNS')\n",
        "    elif any(label == 'noise+NSBH' for _, label in window):\n",
        "        label_events20.append('Noise+NSBH')\n",
        "    else:\n",
        "        label_events20.append('Noise')\n",
        "\n",
        "for i, segment in enumerate(segments):\n",
        "    file_path = os.path.join(ligodata_directory, f\"GW190408_181802_H_segment_{i}.npy\")\n",
        "    segment_without_labels = np.array([item[0] for item in segment])\n",
        "    np.save(file_path, segment_without_labels)"
      ],
      "metadata": {
        "execution": {
          "iopub.status.busy": "2023-09-29T23:26:12.514978Z",
          "iopub.execute_input": "2023-09-29T23:26:12.515358Z",
          "iopub.status.idle": "2023-09-29T23:26:12.710141Z",
          "shell.execute_reply.started": "2023-09-29T23:26:12.515327Z",
          "shell.execute_reply": "2023-09-29T23:26:12.709093Z"
        },
        "trusted": true,
        "id": "XXAsSBP4VtWd"
      },
      "execution_count": 25,
      "outputs": []
    },
    {
      "cell_type": "code",
      "source": [
        "data = np.load('/content/Real Ligo Virgo Data/Real Ligo Virgo Data/GW190408_181802_L_data.npy')\n",
        "\n",
        "label_events21 = []\n",
        "segments = []\n",
        "for i in range(0, len(data) - window_size + 1, window_size):\n",
        "    window = data[i:i+window_size]\n",
        "    segments.append(window)\n",
        "    if any(label == 'noise+BBH' for _, label in window):\n",
        "        label_events21.append('Noise+BBH')\n",
        "    elif any(label == 'noise+BNS' for _, label in window):\n",
        "        label_events21.append('Noise+BNS')\n",
        "    elif any(label == 'noise+NSBH' for _, label in window):\n",
        "        label_events21.append('Noise+NSBH')\n",
        "    else:\n",
        "        label_events21.append('Noise')\n",
        "\n",
        "for i, segment in enumerate(segments):\n",
        "    file_path = os.path.join(ligodata_directory, f\"GW190408_181802_L_segment_{i}.npy\")\n",
        "    segment_without_labels = np.array([item[0] for item in segment])\n",
        "    np.save(file_path, segment_without_labels)"
      ],
      "metadata": {
        "execution": {
          "iopub.status.busy": "2023-09-29T23:26:12.720761Z",
          "iopub.execute_input": "2023-09-29T23:26:12.721116Z",
          "iopub.status.idle": "2023-09-29T23:26:12.915118Z",
          "shell.execute_reply.started": "2023-09-29T23:26:12.721087Z",
          "shell.execute_reply": "2023-09-29T23:26:12.914096Z"
        },
        "trusted": true,
        "id": "D6YCfSp9VtWe"
      },
      "execution_count": 26,
      "outputs": []
    },
    {
      "cell_type": "code",
      "source": [
        "#GW190412\n",
        "data = np.load('/content/Real Ligo Virgo Data/Real Ligo Virgo Data/GW190412_H_data.npy')\n",
        "\n",
        "label_events22 = []\n",
        "segments = []\n",
        "for i in range(0, len(data) - window_size + 1, window_size):\n",
        "    window = data[i:i+window_size]\n",
        "    segments.append(window)\n",
        "    if any(label == 'noise+BBH' for _, label in window):\n",
        "        label_events22.append('Noise+BBH')\n",
        "    elif any(label == 'noise+BNS' for _, label in window):\n",
        "        label_events22.append('Noise+BNS')\n",
        "    elif any(label == 'noise+NSBH' for _, label in window):\n",
        "        label_events22.append('Noise+NSBH')\n",
        "    else:\n",
        "        label_events22.append('Noise')\n",
        "\n",
        "for i, segment in enumerate(segments):\n",
        "    file_path = os.path.join(ligodata_directory, f\"GW190412_H_segment_{i}.npy\")\n",
        "    segment_without_labels = np.array([item[0] for item in segment])\n",
        "    np.save(file_path, segment_without_labels)"
      ],
      "metadata": {
        "execution": {
          "iopub.status.busy": "2023-09-29T23:26:12.925404Z",
          "iopub.execute_input": "2023-09-29T23:26:12.925746Z",
          "iopub.status.idle": "2023-09-29T23:26:13.119165Z",
          "shell.execute_reply.started": "2023-09-29T23:26:12.925706Z",
          "shell.execute_reply": "2023-09-29T23:26:13.118016Z"
        },
        "trusted": true,
        "id": "UUaOaMYSVtWe"
      },
      "execution_count": 27,
      "outputs": []
    },
    {
      "cell_type": "code",
      "source": [
        "data = np.load('/content/Real Ligo Virgo Data/Real Ligo Virgo Data/GW190412_L_data.npy')\n",
        "\n",
        "label_events23 = []\n",
        "segments = []\n",
        "for i in range(0, len(data) - window_size + 1, window_size):\n",
        "    window = data[i:i+window_size]\n",
        "    segments.append(window)\n",
        "    if any(label == 'noise+BBH' for _, label in window):\n",
        "        label_events23.append('Noise+BBH')\n",
        "    elif any(label == 'noise+BNS' for _, label in window):\n",
        "        label_events23.append('Noise+BNS')\n",
        "    elif any(label == 'noise+NSBH' for _, label in window):\n",
        "        label_events23.append('Noise+NSBH')\n",
        "    else:\n",
        "        label_events23.append('Noise')\n",
        "\n",
        "for i, segment in enumerate(segments):\n",
        "    file_path = os.path.join(ligodata_directory, f\"GW190412_L_segment_{i}.npy\")\n",
        "    segment_without_labels = np.array([item[0] for item in segment])\n",
        "    np.save(file_path, segment_without_labels)"
      ],
      "metadata": {
        "execution": {
          "iopub.status.busy": "2023-09-29T23:26:13.131038Z",
          "iopub.execute_input": "2023-09-29T23:26:13.131457Z",
          "iopub.status.idle": "2023-09-29T23:26:13.324911Z",
          "shell.execute_reply.started": "2023-09-29T23:26:13.131419Z",
          "shell.execute_reply": "2023-09-29T23:26:13.323741Z"
        },
        "trusted": true,
        "id": "-78NUATiVtWf"
      },
      "execution_count": 28,
      "outputs": []
    },
    {
      "cell_type": "code",
      "source": [
        "#GW190413_052954\n",
        "data = np.load('/content/Real Ligo Virgo Data/Real Ligo Virgo Data/GW190413_052954_H_data.npy')\n",
        "\n",
        "label_events24 = []\n",
        "segments = []\n",
        "for i in range(0, len(data) - window_size + 1, window_size):\n",
        "    window = data[i:i+window_size]\n",
        "    segments.append(window)\n",
        "    if any(label == 'noise+BBH' for _, label in window):\n",
        "        label_events24.append('Noise+BBH')\n",
        "    elif any(label == 'noise+BNS' for _, label in window):\n",
        "        label_events24.append('Noise+BNS')\n",
        "    elif any(label == 'noise+NSBH' for _, label in window):\n",
        "        label_events24.append('Noise+NSBH')\n",
        "    else:\n",
        "        label_events24.append('Noise')\n",
        "\n",
        "for i, segment in enumerate(segments):\n",
        "    file_path = os.path.join(ligodata_directory, f\"GW190413_052954_H_segment_{i}.npy\")\n",
        "    segment_without_labels = np.array([item[0] for item in segment])\n",
        "    np.save(file_path, segment_without_labels)"
      ],
      "metadata": {
        "execution": {
          "iopub.status.busy": "2023-09-29T23:26:13.334403Z",
          "iopub.execute_input": "2023-09-29T23:26:13.334736Z",
          "iopub.status.idle": "2023-09-29T23:26:13.532807Z",
          "shell.execute_reply.started": "2023-09-29T23:26:13.334687Z",
          "shell.execute_reply": "2023-09-29T23:26:13.531779Z"
        },
        "trusted": true,
        "id": "6HqB7HTkVtWf"
      },
      "execution_count": 29,
      "outputs": []
    },
    {
      "cell_type": "code",
      "source": [
        "#GW190413_134308\n",
        "data = np.load('/content/Real Ligo Virgo Data/Real Ligo Virgo Data/GW190413_134308_L_data.npy')\n",
        "\n",
        "label_events25 = []\n",
        "segments = []\n",
        "for i in range(0, len(data) - window_size + 1, window_size):\n",
        "    window = data[i:i+window_size]\n",
        "    segments.append(window)\n",
        "    if any(label == 'noise+BBH' for _, label in window):\n",
        "        label_events25.append('Noise+BBH')\n",
        "    elif any(label == 'noise+BNS' for _, label in window):\n",
        "        label_events25.append('Noise+BNS')\n",
        "    elif any(label == 'noise+NSBH' for _, label in window):\n",
        "        label_events25.append('Noise+NSBH')\n",
        "    else:\n",
        "        label_events25.append('Noise')\n",
        "\n",
        "for i, segment in enumerate(segments):\n",
        "    file_path = os.path.join(ligodata_directory, f\"GW190413_134308_L_segment_{i}.npy\")\n",
        "    segment_without_labels = np.array([item[0] for item in segment])\n",
        "    np.save(file_path, segment_without_labels)"
      ],
      "metadata": {
        "execution": {
          "iopub.status.busy": "2023-09-29T23:26:13.542399Z",
          "iopub.execute_input": "2023-09-29T23:26:13.542671Z",
          "iopub.status.idle": "2023-09-29T23:26:13.741215Z",
          "shell.execute_reply.started": "2023-09-29T23:26:13.542626Z",
          "shell.execute_reply": "2023-09-29T23:26:13.740144Z"
        },
        "trusted": true,
        "id": "UVqgb7-jVtWg"
      },
      "execution_count": 30,
      "outputs": []
    },
    {
      "cell_type": "code",
      "source": [
        "#GW190421_213856\n",
        "data = np.load('/content/Real Ligo Virgo Data/Real Ligo Virgo Data/GW190421_213856_H_data.npy')\n",
        "\n",
        "label_events26 = []\n",
        "segments = []\n",
        "for i in range(0, len(data) - window_size + 1, window_size):\n",
        "    window = data[i:i+window_size]\n",
        "    segments.append(window)\n",
        "    if any(label == 'noise+BBH' for _, label in window):\n",
        "        label_events26.append('Noise+BBH')\n",
        "    elif any(label == 'noise+BNS' for _, label in window):\n",
        "        label_events26.append('Noise+BNS')\n",
        "    elif any(label == 'noise+NSBH' for _, label in window):\n",
        "        label_events26.append('Noise+NSBH')\n",
        "    else:\n",
        "        label_events26.append('Noise')\n",
        "\n",
        "for i, segment in enumerate(segments):\n",
        "    file_path = os.path.join(ligodata_directory, f\"GW190421_213856_H_segment_{i}.npy\")\n",
        "    segment_without_labels = np.array([item[0] for item in segment])\n",
        "    np.save(file_path, segment_without_labels)"
      ],
      "metadata": {
        "execution": {
          "iopub.status.busy": "2023-09-29T23:26:13.752094Z",
          "iopub.execute_input": "2023-09-29T23:26:13.752432Z",
          "iopub.status.idle": "2023-09-29T23:26:13.958343Z",
          "shell.execute_reply.started": "2023-09-29T23:26:13.752405Z",
          "shell.execute_reply": "2023-09-29T23:26:13.957248Z"
        },
        "trusted": true,
        "id": "UuXYwzllVtWg"
      },
      "execution_count": 31,
      "outputs": []
    },
    {
      "cell_type": "code",
      "source": [
        "#GW190425\n",
        "data = np.load('/content/Real Ligo Virgo Data/Real Ligo Virgo Data/GW190425_L_data.npy')\n",
        "\n",
        "label_events27 = []\n",
        "segments = []\n",
        "for i in range(0, len(data) - window_size + 1, window_size):\n",
        "    window = data[i:i+window_size]\n",
        "    segments.append(window)\n",
        "    if any(label == 'noise+BBH' for _, label in window):\n",
        "        label_events27.append('Noise+BBH')\n",
        "    elif any(label == 'noise+BNS' for _, label in window):\n",
        "        label_events27.append('Noise+BNS')\n",
        "    elif any(label == 'noise+NSBH' for _, label in window):\n",
        "        label_events27.append('Noise+NSBH')\n",
        "    else:\n",
        "        label_events27.append('Noise')\n",
        "\n",
        "for i, segment in enumerate(segments):\n",
        "    file_path = os.path.join(ligodata_directory, f\"GW190425_L_segment_{i}.npy\")\n",
        "    segment_without_labels = np.array([item[0] for item in segment])\n",
        "    np.save(file_path, segment_without_labels)"
      ],
      "metadata": {
        "execution": {
          "iopub.status.busy": "2023-09-29T23:26:13.968263Z",
          "iopub.execute_input": "2023-09-29T23:26:13.968578Z",
          "iopub.status.idle": "2023-09-29T23:26:14.185178Z",
          "shell.execute_reply.started": "2023-09-29T23:26:13.968549Z",
          "shell.execute_reply": "2023-09-29T23:26:14.184158Z"
        },
        "trusted": true,
        "id": "3W5HYequVtWh"
      },
      "execution_count": 32,
      "outputs": []
    },
    {
      "cell_type": "code",
      "source": [
        "data = np.load('/content/Real Ligo Virgo Data/Real Ligo Virgo Data/GW190425_V_data.npy')\n",
        "\n",
        "label_events28 = []\n",
        "segments = []\n",
        "for i in range(0, len(data) - window_size + 1, window_size):\n",
        "    window = data[i:i+window_size]\n",
        "    segments.append(window)\n",
        "    if any(label == 'noise+BBH' for _, label in window):\n",
        "        label_events28.append('Noise+BBH')\n",
        "    elif any(label == 'noise+BNS' for _, label in window):\n",
        "        label_events28.append('Noise+BNS')\n",
        "    elif any(label == 'noise+NSBH' for _, label in window):\n",
        "        label_events28.append('Noise+NSBH')\n",
        "    else:\n",
        "        label_events28.append('Noise')\n",
        "\n",
        "for i, segment in enumerate(segments):\n",
        "    file_path = os.path.join(ligodata_directory, f\"GW190425_V_segment_{i}.npy\")\n",
        "    segment_without_labels = np.array([item[0] for item in segment])\n",
        "    np.save(file_path, segment_without_labels)"
      ],
      "metadata": {
        "execution": {
          "iopub.status.busy": "2023-09-29T23:26:14.193387Z",
          "iopub.execute_input": "2023-09-29T23:26:14.193686Z",
          "iopub.status.idle": "2023-09-29T23:26:14.486335Z",
          "shell.execute_reply.started": "2023-09-29T23:26:14.193662Z",
          "shell.execute_reply": "2023-09-29T23:26:14.485540Z"
        },
        "trusted": true,
        "id": "m70ksi6HVtWi"
      },
      "execution_count": 33,
      "outputs": []
    },
    {
      "cell_type": "code",
      "source": [
        "#GW190426_190642\n",
        "data = np.load('/content/Real Ligo Virgo Data/Real Ligo Virgo Data/GW190426_190642_L_data.npy')\n",
        "\n",
        "label_events29 = []\n",
        "segments = []\n",
        "for i in range(0, len(data) - window_size + 1, window_size):\n",
        "    window = data[i:i+window_size]\n",
        "    segments.append(window)\n",
        "    if any(label == 'noise+BBH' for _, label in window):\n",
        "        label_events29.append('Noise+BBH')\n",
        "    elif any(label == 'noise+BNS' for _, label in window):\n",
        "        label_events29.append('Noise+BNS')\n",
        "    elif any(label == 'noise+NSBH' for _, label in window):\n",
        "        label_events29.append('Noise+NSBH')\n",
        "    else:\n",
        "        label_events29.append('Noise')\n",
        "\n",
        "for i, segment in enumerate(segments):\n",
        "    file_path = os.path.join(ligodata_directory, f\"GW190426_190642_L_segment_{i}.npy\")\n",
        "    segment_without_labels = np.array([item[0] for item in segment])\n",
        "    np.save(file_path, segment_without_labels)"
      ],
      "metadata": {
        "execution": {
          "iopub.status.busy": "2023-09-29T23:26:14.494136Z",
          "iopub.execute_input": "2023-09-29T23:26:14.494747Z",
          "iopub.status.idle": "2023-09-29T23:26:14.708924Z",
          "shell.execute_reply.started": "2023-09-29T23:26:14.494719Z",
          "shell.execute_reply": "2023-09-29T23:26:14.708124Z"
        },
        "trusted": true,
        "id": "55hJ4wyKVtWi"
      },
      "execution_count": 34,
      "outputs": []
    },
    {
      "cell_type": "code",
      "source": [
        "#GW190503_185404\n",
        "data = np.load('/content/Real Ligo Virgo Data/Real Ligo Virgo Data/GW190503_185404_H_data.npy')\n",
        "\n",
        "label_events30 = []\n",
        "segments = []\n",
        "for i in range(0, len(data) - window_size + 1, window_size):\n",
        "    window = data[i:i+window_size]\n",
        "    segments.append(window)\n",
        "    if any(label == 'noise+BBH' for _, label in window):\n",
        "        label_events30.append('Noise+BBH')\n",
        "    elif any(label == 'noise+BNS' for _, label in window):\n",
        "        label_events30.append('Noise+BNS')\n",
        "    elif any(label == 'noise+NSBH' for _, label in window):\n",
        "        label_events30.append('Noise+NSBH')\n",
        "    else:\n",
        "        label_events30.append('Noise')\n",
        "\n",
        "for i, segment in enumerate(segments):\n",
        "    file_path = os.path.join(ligodata_directory, f\"GW190503_185404_H_segment_{i}.npy\")\n",
        "    segment_without_labels = np.array([item[0] for item in segment])\n",
        "    np.save(file_path, segment_without_labels)"
      ],
      "metadata": {
        "id": "9edABLqQVtWj"
      },
      "execution_count": 35,
      "outputs": []
    },
    {
      "cell_type": "code",
      "source": [
        "data = np.load('/content/Real Ligo Virgo Data/Real Ligo Virgo Data/GW190503_185404_L_data.npy')\n",
        "\n",
        "label_events31 = []\n",
        "segments = []\n",
        "for i in range(0, len(data) - window_size + 1, window_size):\n",
        "    window = data[i:i+window_size]\n",
        "    segments.append(window)\n",
        "    if any(label == 'noise+BBH' for _, label in window):\n",
        "        label_events31.append('Noise+BBH')\n",
        "    elif any(label == 'noise+BNS' for _, label in window):\n",
        "        label_events31.append('Noise+BNS')\n",
        "    elif any(label == 'noise+NSBH' for _, label in window):\n",
        "        label_events31.append('Noise+NSBH')\n",
        "    else:\n",
        "        label_events31.append('Noise')\n",
        "\n",
        "for i, segment in enumerate(segments):\n",
        "    file_path = os.path.join(ligodata_directory, f\"GW190503_185404_L_segment_{i}.npy\")\n",
        "    segment_without_labels = np.array([item[0] for item in segment])\n",
        "    np.save(file_path, segment_without_labels)"
      ],
      "metadata": {
        "id": "GQ1IlFQqVtWk"
      },
      "execution_count": 36,
      "outputs": []
    },
    {
      "cell_type": "code",
      "source": [
        "#GW190513_205428\n",
        "data = np.load('/content/Real Ligo Virgo Data/Real Ligo Virgo Data/GW190513_205428_H_data.npy')\n",
        "\n",
        "label_events32 = []\n",
        "segments = []\n",
        "for i in range(0, len(data) - window_size + 1, window_size):\n",
        "    window = data[i:i+window_size]\n",
        "    segments.append(window)\n",
        "    if any(label == 'noise+BBH' for _, label in window):\n",
        "        label_events32.append('Noise+BBH')\n",
        "    elif any(label == 'noise+BNS' for _, label in window):\n",
        "        label_events32.append('Noise+BNS')\n",
        "    elif any(label == 'noise+NSBH' for _, label in window):\n",
        "        label_events32.append('Noise+NSBH')\n",
        "    else:\n",
        "        label_events32.append('Noise')\n",
        "\n",
        "for i, segment in enumerate(segments):\n",
        "    file_path = os.path.join(ligodata_directory, f\"GW190513_205428_H_segment_{i}.npy\")\n",
        "    segment_without_labels = np.array([item[0] for item in segment])\n",
        "    np.save(file_path, segment_without_labels)"
      ],
      "metadata": {
        "id": "mzKSj28CVtWk"
      },
      "execution_count": 37,
      "outputs": []
    },
    {
      "cell_type": "code",
      "source": [
        "#GW190514_065416\n",
        "data = np.load('/content/Real Ligo Virgo Data/Real Ligo Virgo Data/GW190514_065416_L_data.npy')\n",
        "\n",
        "label_events33 = []\n",
        "segments = []\n",
        "for i in range(0, len(data) - window_size + 1, window_size):\n",
        "    window = data[i:i+window_size]\n",
        "    segments.append(window)\n",
        "    if any(label == 'noise+BBH' for _, label in window):\n",
        "        label_events33.append('Noise+BBH')\n",
        "    elif any(label == 'noise+BNS' for _, label in window):\n",
        "        label_events33.append('Noise+BNS')\n",
        "    elif any(label == 'noise+NSBH' for _, label in window):\n",
        "        label_events33.append('Noise+NSBH')\n",
        "    else:\n",
        "        label_events33.append('Noise')\n",
        "\n",
        "for i, segment in enumerate(segments):\n",
        "    file_path = os.path.join(ligodata_directory, f\"GW190514_065416_L_segment_{i}.npy\")\n",
        "    segment_without_labels = np.array([item[0] for item in segment])\n",
        "    np.save(file_path, segment_without_labels)"
      ],
      "metadata": {
        "id": "n0IiQbD7VtWk"
      },
      "execution_count": 38,
      "outputs": []
    },
    {
      "cell_type": "code",
      "source": [
        "#GW190517_055101\n",
        "data = np.load('/content/Real Ligo Virgo Data/Real Ligo Virgo Data/GW190517_055101_H_data.npy')\n",
        "\n",
        "label_events34 = []\n",
        "segments = []\n",
        "for i in range(0, len(data) - window_size + 1, window_size):\n",
        "    window = data[i:i+window_size]\n",
        "    segments.append(window)\n",
        "    if any(label == 'noise+BBH' for _, label in window):\n",
        "        label_events34.append('Noise+BBH')\n",
        "    elif any(label == 'noise+BNS' for _, label in window):\n",
        "        label_events34.append('Noise+BNS')\n",
        "    elif any(label == 'noise+NSBH' for _, label in window):\n",
        "        label_events34.append('Noise+NSBH')\n",
        "    else:\n",
        "        label_events34.append('Noise')\n",
        "\n",
        "for i, segment in enumerate(segments):\n",
        "    file_path = os.path.join(ligodata_directory, f\"GW190517_055101_H_segment_{i}.npy\")\n",
        "    segment_without_labels = np.array([item[0] for item in segment])\n",
        "    np.save(file_path, segment_without_labels)"
      ],
      "metadata": {
        "id": "JlsnvG6mVtWl"
      },
      "execution_count": 39,
      "outputs": []
    },
    {
      "cell_type": "code",
      "source": [
        "data = np.load('/content/Real Ligo Virgo Data/Real Ligo Virgo Data/GW190517_055101_L_data.npy')\n",
        "\n",
        "label_events35 = []\n",
        "segments = []\n",
        "for i in range(0, len(data) - window_size + 1, window_size):\n",
        "    window = data[i:i+window_size]\n",
        "    segments.append(window)\n",
        "    if any(label == 'noise+BBH' for _, label in window):\n",
        "        label_events35.append('Noise+BBH')\n",
        "    elif any(label == 'noise+BNS' for _, label in window):\n",
        "        label_events35.append('Noise+BNS')\n",
        "    elif any(label == 'noise+NSBH' for _, label in window):\n",
        "        label_events35.append('Noise+NSBH')\n",
        "    else:\n",
        "        label_events35.append('Noise')\n",
        "\n",
        "for i, segment in enumerate(segments):\n",
        "    file_path = os.path.join(ligodata_directory, f\"GW190517_055101_L_segment_{i}.npy\")\n",
        "    segment_without_labels = np.array([item[0] for item in segment])\n",
        "    np.save(file_path, segment_without_labels)"
      ],
      "metadata": {
        "id": "YtnzCCQNVtWl"
      },
      "execution_count": 40,
      "outputs": []
    },
    {
      "cell_type": "code",
      "source": [
        "#GW190519_153544\n",
        "data = np.load('/content/Real Ligo Virgo Data/Real Ligo Virgo Data/GW190519_153544_H_data.npy')\n",
        "\n",
        "label_events36 = []\n",
        "segments = []\n",
        "for i in range(0, len(data) - window_size + 1, window_size):\n",
        "    window = data[i:i+window_size]\n",
        "    segments.append(window)\n",
        "    if any(label == 'noise+BBH' for _, label in window):\n",
        "        label_events36.append('Noise+BBH')\n",
        "    elif any(label == 'noise+BNS' for _, label in window):\n",
        "        label_events36.append('Noise+BNS')\n",
        "    elif any(label == 'noise+NSBH' for _, label in window):\n",
        "        label_events36.append('Noise+NSBH')\n",
        "    else:\n",
        "        label_events36.append('Noise')\n",
        "\n",
        "for i, segment in enumerate(segments):\n",
        "    file_path = os.path.join(ligodata_directory, f\"GW190519_153544_H_segment_{i}.npy\")\n",
        "    segment_without_labels = np.array([item[0] for item in segment])\n",
        "    np.save(file_path, segment_without_labels)"
      ],
      "metadata": {
        "id": "VYYZFfGhaz3f"
      },
      "execution_count": 41,
      "outputs": []
    },
    {
      "cell_type": "code",
      "source": [
        "data = np.load('/content/Real Ligo Virgo Data/Real Ligo Virgo Data/GW190519_153544_L_data.npy')\n",
        "\n",
        "label_events37 = []\n",
        "segments = []\n",
        "for i in range(0, len(data) - window_size + 1, window_size):\n",
        "    window = data[i:i+window_size]\n",
        "    segments.append(window)\n",
        "    if any(label == 'noise+BBH' for _, label in window):\n",
        "        label_events37.append('Noise+BBH')\n",
        "    elif any(label == 'noise+BNS' for _, label in window):\n",
        "        label_events37.append('Noise+BNS')\n",
        "    elif any(label == 'noise+NSBH' for _, label in window):\n",
        "        label_events37.append('Noise+NSBH')\n",
        "    else:\n",
        "        label_events37.append('Noise')\n",
        "\n",
        "for i, segment in enumerate(segments):\n",
        "    file_path = os.path.join(ligodata_directory, f\"GW190519_153544_L_segment_{i}.npy\")\n",
        "    segment_without_labels = np.array([item[0] for item in segment])\n",
        "    np.save(file_path, segment_without_labels)"
      ],
      "metadata": {
        "id": "j_hhPLm4VtWl"
      },
      "execution_count": 42,
      "outputs": []
    },
    {
      "cell_type": "code",
      "source": [
        "#GW190521_074359\n",
        "data = np.load('/content/Real Ligo Virgo Data/Real Ligo Virgo Data/GW190521_074359_H_data.npy')\n",
        "\n",
        "label_events38 = []\n",
        "segments = []\n",
        "for i in range(0, len(data) - window_size + 1, window_size):\n",
        "    window = data[i:i+window_size]\n",
        "    segments.append(window)\n",
        "    if any(label == 'noise+BBH' for _, label in window):\n",
        "        label_events38.append('Noise+BBH')\n",
        "    elif any(label == 'noise+BNS' for _, label in window):\n",
        "        label_events38.append('Noise+BNS')\n",
        "    elif any(label == 'noise+NSBH' for _, label in window):\n",
        "        label_events38.append('Noise+NSBH')\n",
        "    else:\n",
        "        label_events38.append('Noise')\n",
        "\n",
        "for i, segment in enumerate(segments):\n",
        "    file_path = os.path.join(ligodata_directory, f\"GW190521_074359_H_segment_{i}.npy\")\n",
        "    segment_without_labels = np.array([item[0] for item in segment])\n",
        "    np.save(file_path, segment_without_labels)"
      ],
      "metadata": {
        "id": "Ai92Ag7VVtWl"
      },
      "execution_count": 43,
      "outputs": []
    },
    {
      "cell_type": "code",
      "source": [
        "data = np.load('/content/Real Ligo Virgo Data/Real Ligo Virgo Data/GW190521_074359_L_data.npy')\n",
        "\n",
        "label_events39 = []\n",
        "segments = []\n",
        "for i in range(0, len(data) - window_size + 1, window_size):\n",
        "    window = data[i:i+window_size]\n",
        "    segments.append(window)\n",
        "    if any(label == 'noise+BBH' for _, label in window):\n",
        "        label_events39.append('Noise+BBH')\n",
        "    elif any(label == 'noise+BNS' for _, label in window):\n",
        "        label_events39.append('Noise+BNS')\n",
        "    elif any(label == 'noise+NSBH' for _, label in window):\n",
        "        label_events39.append('Noise+NSBH')\n",
        "    else:\n",
        "        label_events39.append('Noise')\n",
        "\n",
        "for i, segment in enumerate(segments):\n",
        "    file_path = os.path.join(ligodata_directory, f\"GW190521_074359_L_segment_{i}.npy\")\n",
        "    segment_without_labels = np.array([item[0] for item in segment])\n",
        "    np.save(file_path, segment_without_labels)"
      ],
      "metadata": {
        "id": "QMCzFG5WVtWm"
      },
      "execution_count": 44,
      "outputs": []
    },
    {
      "cell_type": "code",
      "source": [
        "#GW190521\n",
        "data = np.load('/content/Real Ligo Virgo Data/Real Ligo Virgo Data/GW190521_H_data.npy')\n",
        "\n",
        "label_events40 = []\n",
        "segments = []\n",
        "for i in range(0, len(data) - window_size + 1, window_size):\n",
        "    window = data[i:i+window_size]\n",
        "    segments.append(window)\n",
        "    if any(label == 'noise+BBH' for _, label in window):\n",
        "        label_events40.append('Noise+BBH')\n",
        "    elif any(label == 'noise+BNS' for _, label in window):\n",
        "        label_events40.append('Noise+BNS')\n",
        "    elif any(label == 'noise+NSBH' for _, label in window):\n",
        "        label_events40.append('Noise+NSBH')\n",
        "    else:\n",
        "        label_events40.append('Noise')\n",
        "\n",
        "for i, segment in enumerate(segments):\n",
        "    file_path = os.path.join(ligodata_directory, f\"GW190521_H_segment_{i}.npy\")\n",
        "    segment_without_labels = np.array([item[0] for item in segment])\n",
        "    np.save(file_path, segment_without_labels)"
      ],
      "metadata": {
        "id": "rqkPQqkaVtWm"
      },
      "execution_count": 45,
      "outputs": []
    },
    {
      "cell_type": "code",
      "source": [
        "data = np.load('/content/Real Ligo Virgo Data/Real Ligo Virgo Data/GW190521_L_data.npy')\n",
        "\n",
        "label_events41 = []\n",
        "segments = []\n",
        "for i in range(0, len(data) - window_size + 1, window_size):\n",
        "    window = data[i:i+window_size]\n",
        "    segments.append(window)\n",
        "    if any(label == 'noise+BBH' for _, label in window):\n",
        "        label_events41.append('Noise+BBH')\n",
        "    elif any(label == 'noise+BNS' for _, label in window):\n",
        "        label_events41.append('Noise+BNS')\n",
        "    elif any(label == 'noise+NSBH' for _, label in window):\n",
        "        label_events41.append('Noise+NSBH')\n",
        "    else:\n",
        "        label_events41.append('Noise')\n",
        "\n",
        "for i, segment in enumerate(segments):\n",
        "    file_path = os.path.join(ligodata_directory, f\"GW190521_L_segment_{i}.npy\")\n",
        "    segment_without_labels = np.array([item[0] for item in segment])\n",
        "    np.save(file_path, segment_without_labels)"
      ],
      "metadata": {
        "id": "nXCvRYWnVtWm"
      },
      "execution_count": 46,
      "outputs": []
    },
    {
      "cell_type": "code",
      "source": [
        "data = np.load('/content/Real Ligo Virgo Data/Real Ligo Virgo Data/GW190521_V_data.npy')\n",
        "\n",
        "label_events42 = []\n",
        "segments = []\n",
        "for i in range(0, len(data) - window_size + 1, window_size):\n",
        "    window = data[i:i+window_size]\n",
        "    segments.append(window)\n",
        "    if any(label == 'noise+BBH' for _, label in window):\n",
        "        label_events42.append('Noise+BBH')\n",
        "    elif any(label == 'noise+BNS' for _, label in window):\n",
        "        label_events42.append('Noise+BNS')\n",
        "    elif any(label == 'noise+NSBH' for _, label in window):\n",
        "        label_events42.append('Noise+NSBH')\n",
        "    else:\n",
        "        label_events42.append('Noise')\n",
        "\n",
        "for i, segment in enumerate(segments):\n",
        "    file_path = os.path.join(ligodata_directory, f\"GW190521_V_segment_{i}.npy\")\n",
        "    segment_without_labels = np.array([item[0] for item in segment])\n",
        "    np.save(file_path, segment_without_labels)"
      ],
      "metadata": {
        "id": "itmR58HXVtWm"
      },
      "execution_count": 47,
      "outputs": []
    },
    {
      "cell_type": "code",
      "source": [
        "#GW190527_092055\n",
        "data = np.load('/content/Real Ligo Virgo Data/Real Ligo Virgo Data/GW190527_092055_L_data.npy')\n",
        "\n",
        "label_events43 = []\n",
        "segments = []\n",
        "for i in range(0, len(data) - window_size + 1, window_size):\n",
        "    window = data[i:i+window_size]\n",
        "    segments.append(window)\n",
        "    if any(label == 'noise+BBH' for _, label in window):\n",
        "        label_events43.append('Noise+BBH')\n",
        "    elif any(label == 'noise+BNS' for _, label in window):\n",
        "        label_events43.append('Noise+BNS')\n",
        "    elif any(label == 'noise+NSBH' for _, label in window):\n",
        "        label_events43.append('Noise+NSBH')\n",
        "    else:\n",
        "        label_events43.append('Noise')\n",
        "\n",
        "for i, segment in enumerate(segments):\n",
        "    file_path = os.path.join(ligodata_directory, f\"GW190527_092055_L_segment_{i}.npy\")\n",
        "    segment_without_labels = np.array([item[0] for item in segment])\n",
        "    np.save(file_path, segment_without_labels)"
      ],
      "metadata": {
        "id": "cipBOk4SVtWn"
      },
      "execution_count": 48,
      "outputs": []
    },
    {
      "cell_type": "code",
      "source": [
        "#GW190602_175927\n",
        "data = np.load('/content/Real Ligo Virgo Data/Real Ligo Virgo Data/GW190602_175927_L_data.npy')\n",
        "\n",
        "label_events44 = []\n",
        "segments = []\n",
        "for i in range(0, len(data) - window_size + 1, window_size):\n",
        "    window = data[i:i+window_size]\n",
        "    segments.append(window)\n",
        "    if any(label == 'noise+BBH' for _, label in window):\n",
        "        label_events44.append('Noise+BBH')\n",
        "    elif any(label == 'noise+BNS' for _, label in window):\n",
        "        label_events44.append('Noise+BNS')\n",
        "    elif any(label == 'noise+NSBH' for _, label in window):\n",
        "        label_events44.append('Noise+NSBH')\n",
        "    else:\n",
        "        label_events44.append('Noise')\n",
        "\n",
        "for i, segment in enumerate(segments):\n",
        "    file_path = os.path.join(ligodata_directory, f\"GW190602_175927_L_segment_{i}.npy\")\n",
        "    segment_without_labels = np.array([item[0] for item in segment])\n",
        "    np.save(file_path, segment_without_labels)"
      ],
      "metadata": {
        "id": "oS2H2LnEVtWn"
      },
      "execution_count": 49,
      "outputs": []
    },
    {
      "cell_type": "code",
      "source": [
        "#GW190620_030421\n",
        "data = np.load('/content/Real Ligo Virgo Data/Real Ligo Virgo Data/GW190620_030421_L_data.npy')\n",
        "\n",
        "label_events45 = []\n",
        "segments = []\n",
        "for i in range(0, len(data) - window_size + 1, window_size):\n",
        "    window = data[i:i+window_size]\n",
        "    segments.append(window)\n",
        "    if any(label == 'noise+BBH' for _, label in window):\n",
        "        label_events45.append('Noise+BBH')\n",
        "    elif any(label == 'noise+BNS' for _, label in window):\n",
        "        label_events45.append('Noise+BNS')\n",
        "    elif any(label == 'noise+NSBH' for _, label in window):\n",
        "        label_events45.append('Noise+NSBH')\n",
        "    else:\n",
        "        label_events45.append('Noise')\n",
        "\n",
        "for i, segment in enumerate(segments):\n",
        "    file_path = os.path.join(ligodata_directory, f\"GW190620_030421_L_segment_{i}.npy\")\n",
        "    segment_without_labels = np.array([item[0] for item in segment])\n",
        "    np.save(file_path, segment_without_labels)"
      ],
      "metadata": {
        "id": "bJDyCUbLVtWn"
      },
      "execution_count": 50,
      "outputs": []
    },
    {
      "cell_type": "code",
      "source": [
        "#GW190630_185205\n",
        "data = np.load('/content/Real Ligo Virgo Data/Real Ligo Virgo Data/GW190630_185205_L_data.npy')\n",
        "\n",
        "label_events46 = []\n",
        "segments = []\n",
        "for i in range(0, len(data) - window_size + 1, window_size):\n",
        "    window = data[i:i+window_size]\n",
        "    segments.append(window)\n",
        "    if any(label == 'noise+BBH' for _, label in window):\n",
        "        label_events46.append('Noise+BBH')\n",
        "    elif any(label == 'noise+BNS' for _, label in window):\n",
        "        label_events46.append('Noise+BNS')\n",
        "    elif any(label == 'noise+NSBH' for _, label in window):\n",
        "        label_events46.append('Noise+NSBH')\n",
        "    else:\n",
        "        label_events46.append('Noise')\n",
        "\n",
        "for i, segment in enumerate(segments):\n",
        "    file_path = os.path.join(ligodata_directory, f\"GW190630_185205_L_segment_{i}.npy\")\n",
        "    segment_without_labels = np.array([item[0] for item in segment])\n",
        "    np.save(file_path, segment_without_labels)"
      ],
      "metadata": {
        "id": "FDc9JUfIdg13"
      },
      "execution_count": 51,
      "outputs": []
    },
    {
      "cell_type": "code",
      "source": [
        "#GW190701_203306\n",
        "data = np.load('/content/Real Ligo Virgo Data/Real Ligo Virgo Data/GW190701_203306_H_data.npy')\n",
        "\n",
        "label_events47 = []\n",
        "segments = []\n",
        "for i in range(0, len(data) - window_size + 1, window_size):\n",
        "    window = data[i:i+window_size]\n",
        "    segments.append(window)\n",
        "    if any(label == 'noise+BBH' for _, label in window):\n",
        "        label_events47.append('Noise+BBH')\n",
        "    elif any(label == 'noise+BNS' for _, label in window):\n",
        "        label_events47.append('Noise+BNS')\n",
        "    elif any(label == 'noise+NSBH' for _, label in window):\n",
        "        label_events47.append('Noise+NSBH')\n",
        "    else:\n",
        "        label_events47.append('Noise')\n",
        "\n",
        "for i, segment in enumerate(segments):\n",
        "    file_path = os.path.join(ligodata_directory, f\"GW190701_203306_H_segment_{i}.npy\")\n",
        "    segment_without_labels = np.array([item[0] for item in segment])\n",
        "    np.save(file_path, segment_without_labels)"
      ],
      "metadata": {
        "id": "qzTKbC5odg63"
      },
      "execution_count": 52,
      "outputs": []
    },
    {
      "cell_type": "code",
      "source": [
        "data = np.load('/content/Real Ligo Virgo Data/Real Ligo Virgo Data/GW190701_203306_L_data.npy')\n",
        "\n",
        "label_events48 = []\n",
        "segments = []\n",
        "for i in range(0, len(data) - window_size + 1, window_size):\n",
        "    window = data[i:i+window_size]\n",
        "    segments.append(window)\n",
        "    if any(label == 'noise+BBH' for _, label in window):\n",
        "        label_events48.append('Noise+BBH')\n",
        "    elif any(label == 'noise+BNS' for _, label in window):\n",
        "        label_events48.append('Noise+BNS')\n",
        "    elif any(label == 'noise+NSBH' for _, label in window):\n",
        "        label_events48.append('Noise+NSBH')\n",
        "    else:\n",
        "        label_events48.append('Noise')\n",
        "\n",
        "for i, segment in enumerate(segments):\n",
        "    file_path = os.path.join(ligodata_directory, f\"GW190701_203306_L_segment_{i}.npy\")\n",
        "    segment_without_labels = np.array([item[0] for item in segment])\n",
        "    np.save(file_path, segment_without_labels)"
      ],
      "metadata": {
        "id": "07ZiCOOidhAW"
      },
      "execution_count": 53,
      "outputs": []
    },
    {
      "cell_type": "code",
      "source": [
        "#GW190706_222641\n",
        "data = np.load('/content/Real Ligo Virgo Data/Real Ligo Virgo Data/GW190706_222641_H_data.npy')\n",
        "\n",
        "label_events49 = []\n",
        "segments = []\n",
        "for i in range(0, len(data) - window_size + 1, window_size):\n",
        "    window = data[i:i+window_size]\n",
        "    segments.append(window)\n",
        "    if any(label == 'noise+BBH' for _, label in window):\n",
        "        label_events49.append('Noise+BBH')\n",
        "    elif any(label == 'noise+BNS' for _, label in window):\n",
        "        label_events49.append('Noise+BNS')\n",
        "    elif any(label == 'noise+NSBH' for _, label in window):\n",
        "        label_events49.append('Noise+NSBH')\n",
        "    else:\n",
        "        label_events49.append('Noise')\n",
        "\n",
        "for i, segment in enumerate(segments):\n",
        "    file_path = os.path.join(ligodata_directory, f\"GW190706_222641_H_segment_{i}.npy\")\n",
        "    segment_without_labels = np.array([item[0] for item in segment])\n",
        "    np.save(file_path, segment_without_labels)"
      ],
      "metadata": {
        "id": "DUsPEnbYdhEv"
      },
      "execution_count": 54,
      "outputs": []
    },
    {
      "cell_type": "code",
      "source": [
        "data = np.load('/content/Real Ligo Virgo Data/Real Ligo Virgo Data/GW190706_222641_L_data.npy')\n",
        "\n",
        "label_events50 = []\n",
        "segments = []\n",
        "for i in range(0, len(data) - window_size + 1, window_size):\n",
        "    window = data[i:i+window_size]\n",
        "    segments.append(window)\n",
        "    if any(label == 'noise+BBH' for _, label in window):\n",
        "        label_events50.append('Noise+BBH')\n",
        "    elif any(label == 'noise+BNS' for _, label in window):\n",
        "        label_events50.append('Noise+BNS')\n",
        "    elif any(label == 'noise+NSBH' for _, label in window):\n",
        "        label_events50.append('Noise+NSBH')\n",
        "    else:\n",
        "        label_events50.append('Noise')\n",
        "\n",
        "for i, segment in enumerate(segments):\n",
        "    file_path = os.path.join(ligodata_directory, f\"GW190706_222641_L_segment_{i}.npy\")\n",
        "    segment_without_labels = np.array([item[0] for item in segment])\n",
        "    np.save(file_path, segment_without_labels)"
      ],
      "metadata": {
        "id": "5LEjTNn8esve"
      },
      "execution_count": 55,
      "outputs": []
    },
    {
      "cell_type": "code",
      "source": [
        "#GW190708_232457\n",
        "data = np.load('/content/Real Ligo Virgo Data/Real Ligo Virgo Data/GW190708_232457_L_data.npy')\n",
        "\n",
        "label_events51 = []\n",
        "segments = []\n",
        "for i in range(0, len(data) - window_size + 1, window_size):\n",
        "    window = data[i:i+window_size]\n",
        "    segments.append(window)\n",
        "    if any(label == 'noise+BBH' for _, label in window):\n",
        "        label_events51.append('Noise+BBH')\n",
        "    elif any(label == 'noise+BNS' for _, label in window):\n",
        "        label_events51.append('Noise+BNS')\n",
        "    elif any(label == 'noise+NSBH' for _, label in window):\n",
        "        label_events51.append('Noise+NSBH')\n",
        "    else:\n",
        "        label_events51.append('Noise')\n",
        "\n",
        "for i, segment in enumerate(segments):\n",
        "    file_path = os.path.join(ligodata_directory, f\"GW190708_232457_L_segment_{i}.npy\")\n",
        "    segment_without_labels = np.array([item[0] for item in segment])\n",
        "    np.save(file_path, segment_without_labels)"
      ],
      "metadata": {
        "id": "YYBIwSlpes0g"
      },
      "execution_count": 56,
      "outputs": []
    },
    {
      "cell_type": "code",
      "source": [
        "#GW190719_215514\n",
        "data = np.load('/content/Real Ligo Virgo Data/Real Ligo Virgo Data/GW190719_215514_L_data.npy')\n",
        "\n",
        "label_events52 = []\n",
        "segments = []\n",
        "for i in range(0, len(data) - window_size + 1, window_size):\n",
        "    window = data[i:i+window_size]\n",
        "    segments.append(window)\n",
        "    if any(label == 'noise+BBH' for _, label in window):\n",
        "        label_events52.append('Noise+BBH')\n",
        "    elif any(label == 'noise+BNS' for _, label in window):\n",
        "        label_events52.append('Noise+BNS')\n",
        "    elif any(label == 'noise+NSBH' for _, label in window):\n",
        "        label_events52.append('Noise+NSBH')\n",
        "    else:\n",
        "        label_events52.append('Noise')\n",
        "\n",
        "for i, segment in enumerate(segments):\n",
        "    file_path = os.path.join(ligodata_directory, f\"GW190719_215514_L_segment_{i}.npy\")\n",
        "    segment_without_labels = np.array([item[0] for item in segment])\n",
        "    np.save(file_path, segment_without_labels)"
      ],
      "metadata": {
        "id": "1qGEq3p3fdYB"
      },
      "execution_count": 57,
      "outputs": []
    },
    {
      "cell_type": "code",
      "source": [
        "#GW190725_174728\n",
        "data = np.load('/content/Real Ligo Virgo Data/Real Ligo Virgo Data/GW190725_174728_H_data.npy')\n",
        "\n",
        "label_events53 = []\n",
        "segments = []\n",
        "for i in range(0, len(data) - window_size + 1, window_size):\n",
        "    window = data[i:i+window_size]\n",
        "    segments.append(window)\n",
        "    if any(label == 'noise+BBH' for _, label in window):\n",
        "        label_events53.append('Noise+BBH')\n",
        "    elif any(label == 'noise+BNS' for _, label in window):\n",
        "        label_events53.append('Noise+BNS')\n",
        "    elif any(label == 'noise+NSBH' for _, label in window):\n",
        "        label_events53.append('Noise+NSBH')\n",
        "    else:\n",
        "        label_events53.append('Noise')\n",
        "\n",
        "for i, segment in enumerate(segments):\n",
        "    file_path = os.path.join(ligodata_directory, f\"GW190725_174728_H_segment_{i}.npy\")\n",
        "    segment_without_labels = np.array([item[0] for item in segment])\n",
        "    np.save(file_path, segment_without_labels)"
      ],
      "metadata": {
        "id": "pzOvS_0PfdpB"
      },
      "execution_count": 58,
      "outputs": []
    },
    {
      "cell_type": "code",
      "source": [
        "#GW190727_060333\n",
        "data = np.load('/content/Real Ligo Virgo Data/Real Ligo Virgo Data/GW190727_060333_H_data.npy')\n",
        "\n",
        "label_events54 = []\n",
        "segments = []\n",
        "for i in range(0, len(data) - window_size + 1, window_size):\n",
        "    window = data[i:i+window_size]\n",
        "    segments.append(window)\n",
        "    if any(label == 'noise+BBH' for _, label in window):\n",
        "        label_events54.append('Noise+BBH')\n",
        "    elif any(label == 'noise+BNS' for _, label in window):\n",
        "        label_events54.append('Noise+BNS')\n",
        "    elif any(label == 'noise+NSBH' for _, label in window):\n",
        "        label_events54.append('Noise+NSBH')\n",
        "    else:\n",
        "        label_events54.append('Noise')\n",
        "\n",
        "for i, segment in enumerate(segments):\n",
        "    file_path = os.path.join(ligodata_directory, f\"GW190727_060333_H_segment_{i}.npy\")\n",
        "    segment_without_labels = np.array([item[0] for item in segment])\n",
        "    np.save(file_path, segment_without_labels)"
      ],
      "metadata": {
        "id": "A33otDdqf93P"
      },
      "execution_count": 59,
      "outputs": []
    },
    {
      "cell_type": "code",
      "source": [
        "#GW190731_140936\n",
        "data = np.load('/content/Real Ligo Virgo Data/Real Ligo Virgo Data/GW190731_140936_L_data.npy')\n",
        "\n",
        "label_events55 = []\n",
        "segments = []\n",
        "for i in range(0, len(data) - window_size + 1, window_size):\n",
        "    window = data[i:i+window_size]\n",
        "    segments.append(window)\n",
        "    if any(label == 'noise+BBH' for _, label in window):\n",
        "        label_events55.append('Noise+BBH')\n",
        "    elif any(label == 'noise+BNS' for _, label in window):\n",
        "        label_events55.append('Noise+BNS')\n",
        "    elif any(label == 'noise+NSBH' for _, label in window):\n",
        "        label_events55.append('Noise+NSBH')\n",
        "    else:\n",
        "        label_events55.append('Noise')\n",
        "\n",
        "for i, segment in enumerate(segments):\n",
        "    file_path = os.path.join(ligodata_directory, f\"GW190731_140936_L_segment_{i}.npy\")\n",
        "    segment_without_labels = np.array([item[0] for item in segment])\n",
        "    np.save(file_path, segment_without_labels)"
      ],
      "metadata": {
        "id": "DywbW9rXes22"
      },
      "execution_count": 60,
      "outputs": []
    },
    {
      "cell_type": "code",
      "source": [
        "#GW190803_022701\n",
        "data = np.load('/content/Real Ligo Virgo Data/Real Ligo Virgo Data/GW190803_022701_L_data.npy')\n",
        "\n",
        "label_events56 = []\n",
        "segments = []\n",
        "for i in range(0, len(data) - window_size + 1, window_size):\n",
        "    window = data[i:i+window_size]\n",
        "    segments.append(window)\n",
        "    if any(label == 'noise+BBH' for _, label in window):\n",
        "        label_events56.append('Noise+BBH')\n",
        "    elif any(label == 'noise+BNS' for _, label in window):\n",
        "        label_events56.append('Noise+BNS')\n",
        "    elif any(label == 'noise+NSBH' for _, label in window):\n",
        "        label_events56.append('Noise+NSBH')\n",
        "    else:\n",
        "        label_events56.append('Noise')\n",
        "\n",
        "for i, segment in enumerate(segments):\n",
        "    file_path = os.path.join(ligodata_directory, f\"GW190803_022701_L_segment_{i}.npy\")\n",
        "    segment_without_labels = np.array([item[0] for item in segment])\n",
        "    np.save(file_path, segment_without_labels)"
      ],
      "metadata": {
        "id": "V0KxUlF0VtWn"
      },
      "execution_count": 61,
      "outputs": []
    },
    {
      "cell_type": "code",
      "source": [
        "#GW190805_211137\n",
        "data = np.load('/content/Real Ligo Virgo Data/Real Ligo Virgo Data/GW190805_211137_L_data.npy')\n",
        "\n",
        "label_events57 = []\n",
        "segments = []\n",
        "for i in range(0, len(data) - window_size + 1, window_size):\n",
        "    window = data[i:i+window_size]\n",
        "    segments.append(window)\n",
        "    if any(label == 'noise+BBH' for _, label in window):\n",
        "        label_events57.append('Noise+BBH')\n",
        "    elif any(label == 'noise+BNS' for _, label in window):\n",
        "        label_events57.append('Noise+BNS')\n",
        "    elif any(label == 'noise+NSBH' for _, label in window):\n",
        "        label_events57.append('Noise+NSBH')\n",
        "    else:\n",
        "        label_events57.append('Noise')\n",
        "\n",
        "for i, segment in enumerate(segments):\n",
        "    file_path = os.path.join(ligodata_directory, f\"GW190805_211137_L_segment_{i}.npy\")\n",
        "    segment_without_labels = np.array([item[0] for item in segment])\n",
        "    np.save(file_path, segment_without_labels)"
      ],
      "metadata": {
        "id": "NyQqxdBvgr12"
      },
      "execution_count": 62,
      "outputs": []
    },
    {
      "cell_type": "code",
      "source": [
        "#GW190814\n",
        "data = np.load('/content/Real Ligo Virgo Data/Real Ligo Virgo Data/GW190814_H_data.npy')\n",
        "\n",
        "label_events58 = []\n",
        "segments = []\n",
        "for i in range(0, len(data) - window_size + 1, window_size):\n",
        "    window = data[i:i+window_size]\n",
        "    segments.append(window)\n",
        "    if any(label == 'noise+BBH' for _, label in window):\n",
        "        label_events58.append('Noise+BBH')\n",
        "    elif any(label == 'noise+BNS' for _, label in window):\n",
        "        label_events58.append('Noise+BNS')\n",
        "    elif any(label == 'noise+NSBH' for _, label in window):\n",
        "        label_events58.append('Noise+NSBH')\n",
        "    else:\n",
        "        label_events58.append('Noise')\n",
        "\n",
        "for i, segment in enumerate(segments):\n",
        "    file_path = os.path.join(ligodata_directory, f\"GW190814_H_segment_{i}.npy\")\n",
        "    segment_without_labels = np.array([item[0] for item in segment])\n",
        "    np.save(file_path, segment_without_labels)"
      ],
      "metadata": {
        "id": "XdFVWieDgr70"
      },
      "execution_count": 63,
      "outputs": []
    },
    {
      "cell_type": "code",
      "source": [
        "#GW190828_063405\n",
        "data = np.load('/content/Real Ligo Virgo Data/Real Ligo Virgo Data/GW190828_063405_H_data.npy')\n",
        "\n",
        "label_events59 = []\n",
        "segments = []\n",
        "for i in range(0, len(data) - window_size + 1, window_size):\n",
        "    window = data[i:i+window_size]\n",
        "    segments.append(window)\n",
        "    if any(label == 'noise+BBH' for _, label in window):\n",
        "        label_events59.append('Noise+BBH')\n",
        "    elif any(label == 'noise+BNS' for _, label in window):\n",
        "        label_events59.append('Noise+BNS')\n",
        "    elif any(label == 'noise+NSBH' for _, label in window):\n",
        "        label_events59.append('Noise+NSBH')\n",
        "    else:\n",
        "        label_events59.append('Noise')\n",
        "\n",
        "for i, segment in enumerate(segments):\n",
        "    file_path = os.path.join(ligodata_directory, f\"GW190828_063405_H_segment_{i}.npy\")\n",
        "    segment_without_labels = np.array([item[0] for item in segment])\n",
        "    np.save(file_path, segment_without_labels)"
      ],
      "metadata": {
        "id": "Rht46iklgsEv"
      },
      "execution_count": 64,
      "outputs": []
    },
    {
      "cell_type": "code",
      "source": [
        "data = np.load('/content/Real Ligo Virgo Data/Real Ligo Virgo Data/GW190828_063405_L_data.npy')\n",
        "\n",
        "label_events60 = []\n",
        "segments = []\n",
        "for i in range(0, len(data) - window_size + 1, window_size):\n",
        "    window = data[i:i+window_size]\n",
        "    segments.append(window)\n",
        "    if any(label == 'noise+BBH' for _, label in window):\n",
        "        label_events60.append('Noise+BBH')\n",
        "    elif any(label == 'noise+BNS' for _, label in window):\n",
        "        label_events60.append('Noise+BNS')\n",
        "    elif any(label == 'noise+NSBH' for _, label in window):\n",
        "        label_events60.append('Noise+NSBH')\n",
        "    else:\n",
        "        label_events60.append('Noise')\n",
        "\n",
        "for i, segment in enumerate(segments):\n",
        "    file_path = os.path.join(ligodata_directory, f\"GW190828_063405_L_segment_{i}.npy\")\n",
        "    segment_without_labels = np.array([item[0] for item in segment])\n",
        "    np.save(file_path, segment_without_labels)"
      ],
      "metadata": {
        "id": "azyU9CQsgsK0"
      },
      "execution_count": 65,
      "outputs": []
    },
    {
      "cell_type": "code",
      "source": [
        "#GW190910_112807\n",
        "data = np.load('/content/Real Ligo Virgo Data/Real Ligo Virgo Data/GW190910_112807_L_data.npy')\n",
        "\n",
        "label_events61 = []\n",
        "segments = []\n",
        "for i in range(0, len(data) - window_size + 1, window_size):\n",
        "    window = data[i:i+window_size]\n",
        "    segments.append(window)\n",
        "    if any(label == 'noise+BBH' for _, label in window):\n",
        "        label_events61.append('Noise+BBH')\n",
        "    elif any(label == 'noise+BNS' for _, label in window):\n",
        "        label_events61.append('Noise+BNS')\n",
        "    elif any(label == 'noise+NSBH' for _, label in window):\n",
        "        label_events61.append('Noise+NSBH')\n",
        "    else:\n",
        "        label_events61.append('Noise')\n",
        "\n",
        "for i, segment in enumerate(segments):\n",
        "    file_path = os.path.join(ligodata_directory, f\"GW190910_112807_L_segment_{i}.npy\")\n",
        "    segment_without_labels = np.array([item[0] for item in segment])\n",
        "    np.save(file_path, segment_without_labels)"
      ],
      "metadata": {
        "id": "xujfLyIXgsSs"
      },
      "execution_count": 66,
      "outputs": []
    },
    {
      "cell_type": "code",
      "source": [
        "#GW190915_235702\n",
        "data = np.load('/content/Real Ligo Virgo Data/Real Ligo Virgo Data/GW190915_235702_H_data.npy')\n",
        "\n",
        "label_events62 = []\n",
        "segments = []\n",
        "for i in range(0, len(data) - window_size + 1, window_size):\n",
        "    window = data[i:i+window_size]\n",
        "    segments.append(window)\n",
        "    if any(label == 'noise+BBH' for _, label in window):\n",
        "        label_events62.append('Noise+BBH')\n",
        "    elif any(label == 'noise+BNS' for _, label in window):\n",
        "        label_events62.append('Noise+BNS')\n",
        "    elif any(label == 'noise+NSBH' for _, label in window):\n",
        "        label_events62.append('Noise+NSBH')\n",
        "    else:\n",
        "        label_events62.append('Noise')\n",
        "\n",
        "for i, segment in enumerate(segments):\n",
        "    file_path = os.path.join(ligodata_directory, f\"GW190915_235702_H_segment_{i}.npy\")\n",
        "    segment_without_labels = np.array([item[0] for item in segment])\n",
        "    np.save(file_path, segment_without_labels)"
      ],
      "metadata": {
        "id": "pjIfLPsMhz3g"
      },
      "execution_count": 67,
      "outputs": []
    },
    {
      "cell_type": "code",
      "source": [
        "data = np.load('/content/Real Ligo Virgo Data/Real Ligo Virgo Data/GW190915_235702_L_data.npy')\n",
        "\n",
        "label_events63 = []\n",
        "segments = []\n",
        "for i in range(0, len(data) - window_size + 1, window_size):\n",
        "    window = data[i:i+window_size]\n",
        "    segments.append(window)\n",
        "    if any(label == 'noise+BBH' for _, label in window):\n",
        "        label_events63.append('Noise+BBH')\n",
        "    elif any(label == 'noise+BNS' for _, label in window):\n",
        "        label_events63.append('Noise+BNS')\n",
        "    elif any(label == 'noise+NSBH' for _, label in window):\n",
        "        label_events63.append('Noise+NSBH')\n",
        "    else:\n",
        "        label_events63.append('Noise')\n",
        "\n",
        "for i, segment in enumerate(segments):\n",
        "    file_path = os.path.join(ligodata_directory, f\"GW190915_235702_L_segment_{i}.npy\")\n",
        "    segment_without_labels = np.array([item[0] for item in segment])\n",
        "    np.save(file_path, segment_without_labels)"
      ],
      "metadata": {
        "id": "IDy3V32Mhz-i"
      },
      "execution_count": 68,
      "outputs": []
    },
    {
      "cell_type": "code",
      "source": [
        "#GW190916_200658\n",
        "data = np.load('/content/Real Ligo Virgo Data/Real Ligo Virgo Data/GW190916_200658_L_data.npy')\n",
        "\n",
        "label_events64 = []\n",
        "segments = []\n",
        "for i in range(0, len(data) - window_size + 1, window_size):\n",
        "    window = data[i:i+window_size]\n",
        "    segments.append(window)\n",
        "    if any(label == 'noise+BBH' for _, label in window):\n",
        "        label_events64.append('Noise+BBH')\n",
        "    elif any(label == 'noise+BNS' for _, label in window):\n",
        "        label_events64.append('Noise+BNS')\n",
        "    elif any(label == 'noise+NSBH' for _, label in window):\n",
        "        label_events64.append('Noise+NSBH')\n",
        "    else:\n",
        "        label_events64.append('Noise')\n",
        "\n",
        "for i, segment in enumerate(segments):\n",
        "    file_path = os.path.join(ligodata_directory, f\"GW190916_200658_L_segment_{i}.npy\")\n",
        "    segment_without_labels = np.array([item[0] for item in segment])\n",
        "    np.save(file_path, segment_without_labels)"
      ],
      "metadata": {
        "id": "mVzbNAM7iTFI"
      },
      "execution_count": 69,
      "outputs": []
    },
    {
      "cell_type": "code",
      "source": [
        "#GW190917_114630\n",
        "data = np.load('/content/Real Ligo Virgo Data/Real Ligo Virgo Data/GW190917_114630_H_data.npy')\n",
        "\n",
        "label_events65 = []\n",
        "segments = []\n",
        "for i in range(0, len(data) - window_size + 1, window_size):\n",
        "    window = data[i:i+window_size]\n",
        "    segments.append(window)\n",
        "    if any(label == 'noise+BBH' for _, label in window):\n",
        "        label_events65.append('Noise+BBH')\n",
        "    elif any(label == 'noise+BNS' for _, label in window):\n",
        "        label_events65.append('Noise+BNS')\n",
        "    elif any(label == 'noise+NSBH' for _, label in window):\n",
        "        label_events65.append('Noise+NSBH')\n",
        "    else:\n",
        "        label_events65.append('Noise')\n",
        "\n",
        "for i, segment in enumerate(segments):\n",
        "    file_path = os.path.join(ligodata_directory, f\"GW190917_114630_H_segment_{i}.npy\")\n",
        "    segment_without_labels = np.array([item[0] for item in segment])\n",
        "    np.save(file_path, segment_without_labels)"
      ],
      "metadata": {
        "id": "B9TJoDLdh0El"
      },
      "execution_count": 70,
      "outputs": []
    },
    {
      "cell_type": "code",
      "source": [
        "data = np.load('/content/Real Ligo Virgo Data/Real Ligo Virgo Data/GW190917_114630_L_data.npy')\n",
        "\n",
        "label_events66 = []\n",
        "segments = []\n",
        "for i in range(0, len(data) - window_size + 1, window_size):\n",
        "    window = data[i:i+window_size]\n",
        "    segments.append(window)\n",
        "    if any(label == 'noise+BBH' for _, label in window):\n",
        "        label_events66.append('Noise+BBH')\n",
        "    elif any(label == 'noise+BNS' for _, label in window):\n",
        "        label_events66.append('Noise+BNS')\n",
        "    elif any(label == 'noise+NSBH' for _, label in window):\n",
        "        label_events66.append('Noise+NSBH')\n",
        "    else:\n",
        "        label_events66.append('Noise')\n",
        "\n",
        "for i, segment in enumerate(segments):\n",
        "    file_path = os.path.join(ligodata_directory, f\"GW190917_114630_L_segment_{i}.npy\")\n",
        "    segment_without_labels = np.array([item[0] for item in segment])\n",
        "    np.save(file_path, segment_without_labels)"
      ],
      "metadata": {
        "id": "F7XEokhhittu"
      },
      "execution_count": 71,
      "outputs": []
    },
    {
      "cell_type": "code",
      "source": [
        "data = np.load('/content/Real Ligo Virgo Data/Real Ligo Virgo Data/GW190917_114630_V_data.npy')\n",
        "\n",
        "label_events67 = []\n",
        "segments = []\n",
        "for i in range(0, len(data) - window_size + 1, window_size):\n",
        "    window = data[i:i+window_size]\n",
        "    segments.append(window)\n",
        "    if any(label == 'noise+BBH' for _, label in window):\n",
        "        label_events67.append('Noise+BBH')\n",
        "    elif any(label == 'noise+BNS' for _, label in window):\n",
        "        label_events67.append('Noise+BNS')\n",
        "    elif any(label == 'noise+NSBH' for _, label in window):\n",
        "        label_events67.append('Noise+NSBH')\n",
        "    else:\n",
        "        label_events67.append('Noise')\n",
        "\n",
        "for i, segment in enumerate(segments):\n",
        "    file_path = os.path.join(ligodata_directory, f\"GW190917_114630_V_segment_{i}.npy\")\n",
        "    segment_without_labels = np.array([item[0] for item in segment])\n",
        "    np.save(file_path, segment_without_labels)"
      ],
      "metadata": {
        "id": "gzo_JIIDit9R"
      },
      "execution_count": 72,
      "outputs": []
    },
    {
      "cell_type": "code",
      "source": [
        "#GW190924_021846\n",
        "data = np.load('/content/Real Ligo Virgo Data/Real Ligo Virgo Data/GW190924_021846_L_data.npy')\n",
        "\n",
        "label_events68 = []\n",
        "segments = []\n",
        "for i in range(0, len(data) - window_size + 1, window_size):\n",
        "    window = data[i:i+window_size]\n",
        "    segments.append(window)\n",
        "    if any(label == 'noise+BBH' for _, label in window):\n",
        "        label_events68.append('Noise+BBH')\n",
        "    elif any(label == 'noise+BNS' for _, label in window):\n",
        "        label_events68.append('Noise+BNS')\n",
        "    elif any(label == 'noise+NSBH' for _, label in window):\n",
        "        label_events68.append('Noise+NSBH')\n",
        "    else:\n",
        "        label_events68.append('Noise')\n",
        "\n",
        "for i, segment in enumerate(segments):\n",
        "    file_path = os.path.join(ligodata_directory, f\"GW190924_021846_L_segment_{i}.npy\")\n",
        "    segment_without_labels = np.array([item[0] for item in segment])\n",
        "    np.save(file_path, segment_without_labels)"
      ],
      "metadata": {
        "id": "cBkTti00h0VM"
      },
      "execution_count": 73,
      "outputs": []
    },
    {
      "cell_type": "code",
      "source": [
        "#GW190925_232845\n",
        "data = np.load('/content/Real Ligo Virgo Data/Real Ligo Virgo Data/GW190925_232845_H_data.npy')\n",
        "\n",
        "label_events69 = []\n",
        "segments = []\n",
        "for i in range(0, len(data) - window_size + 1, window_size):\n",
        "    window = data[i:i+window_size]\n",
        "    segments.append(window)\n",
        "    if any(label == 'noise+BBH' for _, label in window):\n",
        "        label_events69.append('Noise+BBH')\n",
        "    elif any(label == 'noise+BNS' for _, label in window):\n",
        "        label_events69.append('Noise+BNS')\n",
        "    elif any(label == 'noise+NSBH' for _, label in window):\n",
        "        label_events69.append('Noise+NSBH')\n",
        "    else:\n",
        "        label_events69.append('Noise')\n",
        "\n",
        "for i, segment in enumerate(segments):\n",
        "    file_path = os.path.join(ligodata_directory, f\"GW190925_232845_H_segment_{i}.npy\")\n",
        "    segment_without_labels = np.array([item[0] for item in segment])\n",
        "    np.save(file_path, segment_without_labels)"
      ],
      "metadata": {
        "id": "gC5xVX6_jIiE"
      },
      "execution_count": 74,
      "outputs": []
    },
    {
      "cell_type": "code",
      "source": [
        "data = np.load('/content/Real Ligo Virgo Data/Real Ligo Virgo Data/GW190925_232845_V_data.npy')\n",
        "\n",
        "label_events70 = []\n",
        "segments = []\n",
        "for i in range(0, len(data) - window_size + 1, window_size):\n",
        "    window = data[i:i+window_size]\n",
        "    segments.append(window)\n",
        "    if any(label == 'noise+BBH' for _, label in window):\n",
        "        label_events70.append('Noise+BBH')\n",
        "    elif any(label == 'noise+BNS' for _, label in window):\n",
        "        label_events70.append('Noise+BNS')\n",
        "    elif any(label == 'noise+NSBH' for _, label in window):\n",
        "        label_events70.append('Noise+NSBH')\n",
        "    else:\n",
        "        label_events70.append('Noise')\n",
        "\n",
        "for i, segment in enumerate(segments):\n",
        "    file_path = os.path.join(ligodata_directory, f\"GW190925_232845_V_segment_{i}.npy\")\n",
        "    segment_without_labels = np.array([item[0] for item in segment])\n",
        "    np.save(file_path, segment_without_labels)"
      ],
      "metadata": {
        "id": "X7FdsNs6jItS"
      },
      "execution_count": 75,
      "outputs": []
    },
    {
      "cell_type": "code",
      "source": [
        "#GW190929_012149\n",
        "data = np.load('/content/Real Ligo Virgo Data/Real Ligo Virgo Data/GW190929_012149_H_data.npy')\n",
        "\n",
        "label_events71 = []\n",
        "segments = []\n",
        "for i in range(0, len(data) - window_size + 1, window_size):\n",
        "    window = data[i:i+window_size]\n",
        "    segments.append(window)\n",
        "    if any(label == 'noise+BBH' for _, label in window):\n",
        "        label_events71.append('Noise+BBH')\n",
        "    elif any(label == 'noise+BNS' for _, label in window):\n",
        "        label_events71.append('Noise+BNS')\n",
        "    elif any(label == 'noise+NSBH' for _, label in window):\n",
        "        label_events71.append('Noise+NSBH')\n",
        "    else:\n",
        "        label_events71.append('Noise')\n",
        "\n",
        "for i, segment in enumerate(segments):\n",
        "    file_path = os.path.join(ligodata_directory, f\"GW190929_012149_H_segment_{i}.npy\")\n",
        "    segment_without_labels = np.array([item[0] for item in segment])\n",
        "    np.save(file_path, segment_without_labels)"
      ],
      "metadata": {
        "id": "S8p0mCunjwWS"
      },
      "execution_count": 76,
      "outputs": []
    },
    {
      "cell_type": "code",
      "source": [
        "#GW191109_010717\n",
        "data = np.load('/content/Real Ligo Virgo Data/Real Ligo Virgo Data/GW191109_010717_H_data.npy')\n",
        "\n",
        "label_events72 = []\n",
        "segments = []\n",
        "for i in range(0, len(data) - window_size + 1, window_size):\n",
        "    window = data[i:i+window_size]\n",
        "    segments.append(window)\n",
        "    if any(label == 'noise+BBH' for _, label in window):\n",
        "        label_events72.append('Noise+BBH')\n",
        "    elif any(label == 'noise+BNS' for _, label in window):\n",
        "        label_events72.append('Noise+BNS')\n",
        "    elif any(label == 'noise+NSBH' for _, label in window):\n",
        "        label_events72.append('Noise+NSBH')\n",
        "    else:\n",
        "        label_events72.append('Noise')\n",
        "\n",
        "for i, segment in enumerate(segments):\n",
        "    file_path = os.path.join(ligodata_directory, f\"GW191109_010717_H_segment_{i}.npy\")\n",
        "    segment_without_labels = np.array([item[0] for item in segment])\n",
        "    np.save(file_path, segment_without_labels)"
      ],
      "metadata": {
        "id": "74E28yqGjweS"
      },
      "execution_count": 77,
      "outputs": []
    },
    {
      "cell_type": "code",
      "source": [
        "data = np.load('/content/Real Ligo Virgo Data/Real Ligo Virgo Data/GW191109_010717_L_data.npy')\n",
        "\n",
        "label_events73 = []\n",
        "segments = []\n",
        "for i in range(0, len(data) - window_size + 1, window_size):\n",
        "    window = data[i:i+window_size]\n",
        "    segments.append(window)\n",
        "    if any(label == 'noise+BBH' for _, label in window):\n",
        "        label_events73.append('Noise+BBH')\n",
        "    elif any(label == 'noise+BNS' for _, label in window):\n",
        "        label_events73.append('Noise+BNS')\n",
        "    elif any(label == 'noise+NSBH' for _, label in window):\n",
        "        label_events73.append('Noise+NSBH')\n",
        "    else:\n",
        "        label_events73.append('Noise')\n",
        "\n",
        "for i, segment in enumerate(segments):\n",
        "    file_path = os.path.join(ligodata_directory, f\"GW191109_010717_L_segment_{i}.npy\")\n",
        "    segment_without_labels = np.array([item[0] for item in segment])\n",
        "    np.save(file_path, segment_without_labels)"
      ],
      "metadata": {
        "id": "JV8pY6vojI9g"
      },
      "execution_count": 78,
      "outputs": []
    },
    {
      "cell_type": "code",
      "source": [
        "#GW191127_050227\n",
        "data = np.load('/content/Real Ligo Virgo Data/Real Ligo Virgo Data/GW191127_050227_H_data.npy')\n",
        "\n",
        "label_events74 = []\n",
        "segments = []\n",
        "for i in range(0, len(data) - window_size + 1, window_size):\n",
        "    window = data[i:i+window_size]\n",
        "    segments.append(window)\n",
        "    if any(label == 'noise+BBH' for _, label in window):\n",
        "        label_events74.append('Noise+BBH')\n",
        "    elif any(label == 'noise+BNS' for _, label in window):\n",
        "        label_events74.append('Noise+BNS')\n",
        "    elif any(label == 'noise+NSBH' for _, label in window):\n",
        "        label_events74.append('Noise+NSBH')\n",
        "    else:\n",
        "        label_events74.append('Noise')\n",
        "\n",
        "for i, segment in enumerate(segments):\n",
        "    file_path = os.path.join(ligodata_directory, f\"GW191127_050227_H_segment_{i}.npy\")\n",
        "    segment_without_labels = np.array([item[0] for item in segment])\n",
        "    np.save(file_path, segment_without_labels)"
      ],
      "metadata": {
        "id": "rcN-WXg7kVdO"
      },
      "execution_count": 79,
      "outputs": []
    },
    {
      "cell_type": "code",
      "source": [
        "data = np.load('/content/Real Ligo Virgo Data/Real Ligo Virgo Data/GW191127_050227_L_data.npy')\n",
        "\n",
        "label_events75 = []\n",
        "segments = []\n",
        "for i in range(0, len(data) - window_size + 1, window_size):\n",
        "    window = data[i:i+window_size]\n",
        "    segments.append(window)\n",
        "    if any(label == 'noise+BBH' for _, label in window):\n",
        "        label_events75.append('Noise+BBH')\n",
        "    elif any(label == 'noise+BNS' for _, label in window):\n",
        "        label_events75.append('Noise+BNS')\n",
        "    elif any(label == 'noise+NSBH' for _, label in window):\n",
        "        label_events75.append('Noise+NSBH')\n",
        "    else:\n",
        "        label_events75.append('Noise')\n",
        "\n",
        "for i, segment in enumerate(segments):\n",
        "    file_path = os.path.join(ligodata_directory, f\"GW191127_050227_L_segment_{i}.npy\")\n",
        "    segment_without_labels = np.array([item[0] for item in segment])\n",
        "    np.save(file_path, segment_without_labels)"
      ],
      "metadata": {
        "id": "LCw3GCMUkVtc"
      },
      "execution_count": 80,
      "outputs": []
    },
    {
      "cell_type": "code",
      "source": [
        "#GW191204_171526\n",
        "data = np.load('/content/Real Ligo Virgo Data/Real Ligo Virgo Data/GW191204_171526_L_data.npy')\n",
        "\n",
        "label_events76 = []\n",
        "segments = []\n",
        "for i in range(0, len(data) - window_size + 1, window_size):\n",
        "    window = data[i:i+window_size]\n",
        "    segments.append(window)\n",
        "    if any(label == 'noise+BBH' for _, label in window):\n",
        "        label_events76.append('Noise+BBH')\n",
        "    elif any(label == 'noise+BNS' for _, label in window):\n",
        "        label_events76.append('Noise+BNS')\n",
        "    elif any(label == 'noise+NSBH' for _, label in window):\n",
        "        label_events76.append('Noise+NSBH')\n",
        "    else:\n",
        "        label_events76.append('Noise')\n",
        "\n",
        "for i, segment in enumerate(segments):\n",
        "    file_path = os.path.join(ligodata_directory, f\"GW191204_171526_L_segment_{i}.npy\")\n",
        "    segment_without_labels = np.array([item[0] for item in segment])\n",
        "    np.save(file_path, segment_without_labels)"
      ],
      "metadata": {
        "id": "FbkehMmPkV8a"
      },
      "execution_count": 81,
      "outputs": []
    },
    {
      "cell_type": "code",
      "source": [
        "#GW191216_213338\n",
        "data = np.load('/content/Real Ligo Virgo Data/Real Ligo Virgo Data/GW191216_213338_H_data.npy')\n",
        "\n",
        "label_events77 = []\n",
        "segments = []\n",
        "for i in range(0, len(data) - window_size + 1, window_size):\n",
        "    window = data[i:i+window_size]\n",
        "    segments.append(window)\n",
        "    if any(label == 'noise+BBH' for _, label in window):\n",
        "        label_events77.append('Noise+BBH')\n",
        "    elif any(label == 'noise+BNS' for _, label in window):\n",
        "        label_events77.append('Noise+BNS')\n",
        "    elif any(label == 'noise+NSBH' for _, label in window):\n",
        "        label_events77.append('Noise+NSBH')\n",
        "    else:\n",
        "        label_events77.append('Noise')\n",
        "\n",
        "for i, segment in enumerate(segments):\n",
        "    file_path = os.path.join(ligodata_directory, f\"GW191216_213338_H_segment_{i}.npy\")\n",
        "    segment_without_labels = np.array([item[0] for item in segment])\n",
        "    np.save(file_path, segment_without_labels)"
      ],
      "metadata": {
        "id": "txSDSDF3k4gT"
      },
      "execution_count": 82,
      "outputs": []
    },
    {
      "cell_type": "code",
      "source": [
        "#GW191219_163120\n",
        "data = np.load('/content/Real Ligo Virgo Data/Real Ligo Virgo Data/GW191219_163120_H_data.npy')\n",
        "\n",
        "label_events78 = []\n",
        "segments = []\n",
        "for i in range(0, len(data) - window_size + 1, window_size):\n",
        "    window = data[i:i+window_size]\n",
        "    segments.append(window)\n",
        "    if any(label == 'noise+BBH' for _, label in window):\n",
        "        label_events78.append('Noise+BBH')\n",
        "    elif any(label == 'noise+BNS' for _, label in window):\n",
        "        label_events78.append('Noise+BNS')\n",
        "    elif any(label == 'noise+NSBH' for _, label in window):\n",
        "        label_events78.append('Noise+NSBH')\n",
        "    else:\n",
        "        label_events78.append('Noise')\n",
        "\n",
        "for i, segment in enumerate(segments):\n",
        "    file_path = os.path.join(ligodata_directory, f\"GW191219_163120_H_segment_{i}.npy\")\n",
        "    segment_without_labels = np.array([item[0] for item in segment])\n",
        "    np.save(file_path, segment_without_labels)"
      ],
      "metadata": {
        "id": "87moDmgSk4wU"
      },
      "execution_count": 83,
      "outputs": []
    },
    {
      "cell_type": "code",
      "source": [
        "data = np.load('/content/Real Ligo Virgo Data/Real Ligo Virgo Data/GW191219_163120_L_data.npy')\n",
        "\n",
        "label_events79 = []\n",
        "segments = []\n",
        "for i in range(0, len(data) - window_size + 1, window_size):\n",
        "    window = data[i:i+window_size]\n",
        "    segments.append(window)\n",
        "    if any(label == 'noise+BBH' for _, label in window):\n",
        "        label_events79.append('Noise+BBH')\n",
        "    elif any(label == 'noise+BNS' for _, label in window):\n",
        "        label_events79.append('Noise+BNS')\n",
        "    elif any(label == 'noise+NSBH' for _, label in window):\n",
        "        label_events79.append('Noise+NSBH')\n",
        "    else:\n",
        "        label_events79.append('Noise')\n",
        "\n",
        "for i, segment in enumerate(segments):\n",
        "    file_path = os.path.join(ligodata_directory, f\"GW191219_163120_L_segment_{i}.npy\")\n",
        "    segment_without_labels = np.array([item[0] for item in segment])\n",
        "    np.save(file_path, segment_without_labels)"
      ],
      "metadata": {
        "id": "QYVHX7kzk4__"
      },
      "execution_count": 84,
      "outputs": []
    },
    {
      "cell_type": "code",
      "source": [
        "#GW191222_033537\n",
        "data = np.load('/content/Real Ligo Virgo Data/Real Ligo Virgo Data/GW191222_033537_H_data.npy')\n",
        "\n",
        "label_events80 = []\n",
        "segments = []\n",
        "for i in range(0, len(data) - window_size + 1, window_size):\n",
        "    window = data[i:i+window_size]\n",
        "    segments.append(window)\n",
        "    if any(label == 'noise+BBH' for _, label in window):\n",
        "        label_events80.append('Noise+BBH')\n",
        "    elif any(label == 'noise+BNS' for _, label in window):\n",
        "        label_events80.append('Noise+BNS')\n",
        "    elif any(label == 'noise+NSBH' for _, label in window):\n",
        "        label_events80.append('Noise+NSBH')\n",
        "    else:\n",
        "        label_events80.append('Noise')\n",
        "\n",
        "for i, segment in enumerate(segments):\n",
        "    file_path = os.path.join(ligodata_directory, f\"GW191222_033537_H_segment_{i}.npy\")\n",
        "    segment_without_labels = np.array([item[0] for item in segment])\n",
        "    np.save(file_path, segment_without_labels)"
      ],
      "metadata": {
        "id": "-t0kUdvrlr8d"
      },
      "execution_count": 85,
      "outputs": []
    },
    {
      "cell_type": "code",
      "source": [
        "data = np.load('/content/Real Ligo Virgo Data/Real Ligo Virgo Data/GW191222_033537_L_data.npy')\n",
        "\n",
        "label_events81 = []\n",
        "segments = []\n",
        "for i in range(0, len(data) - window_size + 1, window_size):\n",
        "    window = data[i:i+window_size]\n",
        "    segments.append(window)\n",
        "    if any(label == 'noise+BBH' for _, label in window):\n",
        "        label_events81.append('Noise+BBH')\n",
        "    elif any(label == 'noise+BNS' for _, label in window):\n",
        "        label_events81.append('Noise+BNS')\n",
        "    elif any(label == 'noise+NSBH' for _, label in window):\n",
        "        label_events81.append('Noise+NSBH')\n",
        "    else:\n",
        "        label_events81.append('Noise')\n",
        "\n",
        "for i, segment in enumerate(segments):\n",
        "    file_path = os.path.join(ligodata_directory, f\"GW191222_033537_L_segment_{i}.npy\")\n",
        "    segment_without_labels = np.array([item[0] for item in segment])\n",
        "    np.save(file_path, segment_without_labels)"
      ],
      "metadata": {
        "id": "UoFj89cnlsJ9"
      },
      "execution_count": 86,
      "outputs": []
    },
    {
      "cell_type": "code",
      "source": [
        "#GW191230_180458\n",
        "data = np.load('/content/Real Ligo Virgo Data/Real Ligo Virgo Data/GW191230_180458_H_data.npy')\n",
        "\n",
        "label_events82 = []\n",
        "segments = []\n",
        "for i in range(0, len(data) - window_size + 1, window_size):\n",
        "    window = data[i:i+window_size]\n",
        "    segments.append(window)\n",
        "    if any(label == 'noise+BBH' for _, label in window):\n",
        "        label_events82.append('Noise+BBH')\n",
        "    elif any(label == 'noise+BNS' for _, label in window):\n",
        "        label_events82.append('Noise+BNS')\n",
        "    elif any(label == 'noise+NSBH' for _, label in window):\n",
        "        label_events82.append('Noise+NSBH')\n",
        "    else:\n",
        "        label_events82.append('Noise')\n",
        "\n",
        "for i, segment in enumerate(segments):\n",
        "    file_path = os.path.join(ligodata_directory, f\"GW191230_180458_H_segment_{i}.npy\")\n",
        "    segment_without_labels = np.array([item[0] for item in segment])\n",
        "    np.save(file_path, segment_without_labels)"
      ],
      "metadata": {
        "id": "7BKqxhz-mH7k"
      },
      "execution_count": 87,
      "outputs": []
    },
    {
      "cell_type": "code",
      "source": [
        "data = np.load('/content/Real Ligo Virgo Data/Real Ligo Virgo Data/GW191230_180458_L_data.npy')\n",
        "\n",
        "label_events83 = []\n",
        "segments = []\n",
        "for i in range(0, len(data) - window_size + 1, window_size):\n",
        "    window = data[i:i+window_size]\n",
        "    segments.append(window)\n",
        "    if any(label == 'noise+BBH' for _, label in window):\n",
        "        label_events83.append('Noise+BBH')\n",
        "    elif any(label == 'noise+BNS' for _, label in window):\n",
        "        label_events83.append('Noise+BNS')\n",
        "    elif any(label == 'noise+NSBH' for _, label in window):\n",
        "        label_events83.append('Noise+NSBH')\n",
        "    else:\n",
        "        label_events83.append('Noise')\n",
        "\n",
        "for i, segment in enumerate(segments):\n",
        "    file_path = os.path.join(ligodata_directory, f\"GW191230_180458_L_segment_{i}.npy\")\n",
        "    segment_without_labels = np.array([item[0] for item in segment])\n",
        "    np.save(file_path, segment_without_labels)"
      ],
      "metadata": {
        "id": "6sF1hFJBmkqL"
      },
      "execution_count": 88,
      "outputs": []
    },
    {
      "cell_type": "code",
      "source": [
        "#GW200112_155838\n",
        "data = np.load('/content/Real Ligo Virgo Data/Real Ligo Virgo Data/GW200112_155838_L_data.npy')\n",
        "\n",
        "label_events84 = []\n",
        "segments = []\n",
        "for i in range(0, len(data) - window_size + 1, window_size):\n",
        "    window = data[i:i+window_size]\n",
        "    segments.append(window)\n",
        "    if any(label == 'noise+BBH' for _, label in window):\n",
        "        label_events84.append('Noise+BBH')\n",
        "    elif any(label == 'noise+BNS' for _, label in window):\n",
        "        label_events84.append('Noise+BNS')\n",
        "    elif any(label == 'noise+NSBH' for _, label in window):\n",
        "        label_events84.append('Noise+NSBH')\n",
        "    else:\n",
        "        label_events84.append('Noise')\n",
        "\n",
        "for i, segment in enumerate(segments):\n",
        "    file_path = os.path.join(ligodata_directory, f\"GW200112_155838_L_segment_{i}.npy\")\n",
        "    segment_without_labels = np.array([item[0] for item in segment])\n",
        "    np.save(file_path, segment_without_labels)"
      ],
      "metadata": {
        "id": "ltn25Blmmk1A"
      },
      "execution_count": 89,
      "outputs": []
    },
    {
      "cell_type": "code",
      "source": [
        "#GW200115_042309\n",
        "data = np.load('/content/Real Ligo Virgo Data/Real Ligo Virgo Data/GW200115_042309_H_data.npy')\n",
        "\n",
        "label_events85 = []\n",
        "segments = []\n",
        "for i in range(0, len(data) - window_size + 1, window_size):\n",
        "    window = data[i:i+window_size]\n",
        "    segments.append(window)\n",
        "    if any(label == 'noise+BBH' for _, label in window):\n",
        "        label_events85.append('Noise+BBH')\n",
        "    elif any(label == 'noise+BNS' for _, label in window):\n",
        "        label_events85.append('Noise+BNS')\n",
        "    elif any(label == 'noise+NSBH' for _, label in window):\n",
        "        label_events85.append('Noise+NSBH')\n",
        "    else:\n",
        "        label_events85.append('Noise')\n",
        "\n",
        "for i, segment in enumerate(segments):\n",
        "    file_path = os.path.join(ligodata_directory, f\"GW200115_042309_H_segment_{i}.npy\")\n",
        "    segment_without_labels = np.array([item[0] for item in segment])\n",
        "    np.save(file_path, segment_without_labels)"
      ],
      "metadata": {
        "id": "U2mjz-FCk5H6"
      },
      "execution_count": 90,
      "outputs": []
    },
    {
      "cell_type": "code",
      "source": [
        "data = np.load('/content/Real Ligo Virgo Data/Real Ligo Virgo Data/GW200115_042309_L_data.npy')\n",
        "\n",
        "label_events86 = []\n",
        "segments = []\n",
        "for i in range(0, len(data) - window_size + 1, window_size):\n",
        "    window = data[i:i+window_size]\n",
        "    segments.append(window)\n",
        "    if any(label == 'noise+BBH' for _, label in window):\n",
        "        label_events86.append('Noise+BBH')\n",
        "    elif any(label == 'noise+BNS' for _, label in window):\n",
        "        label_events86.append('Noise+BNS')\n",
        "    elif any(label == 'noise+NSBH' for _, label in window):\n",
        "        label_events86.append('Noise+NSBH')\n",
        "    else:\n",
        "        label_events86.append('Noise')\n",
        "\n",
        "for i, segment in enumerate(segments):\n",
        "    file_path = os.path.join(ligodata_directory, f\"GW200115_042309_L_segment_{i}.npy\")\n",
        "    segment_without_labels = np.array([item[0] for item in segment])\n",
        "    np.save(file_path, segment_without_labels)"
      ],
      "metadata": {
        "id": "YAP4YochnYa7"
      },
      "execution_count": 91,
      "outputs": []
    },
    {
      "cell_type": "code",
      "source": [
        "#GW200128_022011\n",
        "data = np.load('/content/Real Ligo Virgo Data/Real Ligo Virgo Data/GW200128_022011_H_data.npy')\n",
        "\n",
        "label_events87 = []\n",
        "segments = []\n",
        "for i in range(0, len(data) - window_size + 1, window_size):\n",
        "    window = data[i:i+window_size]\n",
        "    segments.append(window)\n",
        "    if any(label == 'noise+BBH' for _, label in window):\n",
        "        label_events87.append('Noise+BBH')\n",
        "    elif any(label == 'noise+BNS' for _, label in window):\n",
        "        label_events87.append('Noise+BNS')\n",
        "    elif any(label == 'noise+NSBH' for _, label in window):\n",
        "        label_events87.append('Noise+NSBH')\n",
        "    else:\n",
        "        label_events87.append('Noise')\n",
        "\n",
        "for i, segment in enumerate(segments):\n",
        "    file_path = os.path.join(ligodata_directory, f\"GW200128_022011_H_segment_{i}.npy\")\n",
        "    segment_without_labels = np.array([item[0] for item in segment])\n",
        "    np.save(file_path, segment_without_labels)"
      ],
      "metadata": {
        "id": "_z4VPqi6nYlu"
      },
      "execution_count": 92,
      "outputs": []
    },
    {
      "cell_type": "code",
      "source": [
        "#GW200129_065458\n",
        "data = np.load('/content/Real Ligo Virgo Data/Real Ligo Virgo Data/GW200129_065458_H_data.npy')\n",
        "\n",
        "label_events88 = []\n",
        "segments = []\n",
        "for i in range(0, len(data) - window_size + 1, window_size):\n",
        "    window = data[i:i+window_size]\n",
        "    segments.append(window)\n",
        "    if any(label == 'noise+BBH' for _, label in window):\n",
        "        label_events88.append('Noise+BBH')\n",
        "    elif any(label == 'noise+BNS' for _, label in window):\n",
        "        label_events88.append('Noise+BNS')\n",
        "    elif any(label == 'noise+NSBH' for _, label in window):\n",
        "        label_events88.append('Noise+NSBH')\n",
        "    else:\n",
        "        label_events88.append('Noise')\n",
        "\n",
        "for i, segment in enumerate(segments):\n",
        "    file_path = os.path.join(ligodata_directory, f\"GW200129_065458_H_segment_{i}.npy\")\n",
        "    segment_without_labels = np.array([item[0] for item in segment])\n",
        "    np.save(file_path, segment_without_labels)"
      ],
      "metadata": {
        "id": "-woJItX9nz1-"
      },
      "execution_count": 93,
      "outputs": []
    },
    {
      "cell_type": "code",
      "source": [
        "data = np.load('/content/Real Ligo Virgo Data/Real Ligo Virgo Data/GW200129_065458_L_data.npy')\n",
        "\n",
        "label_events89 = []\n",
        "segments = []\n",
        "for i in range(0, len(data) - window_size + 1, window_size):\n",
        "    window = data[i:i+window_size]\n",
        "    segments.append(window)\n",
        "    if any(label == 'noise+BBH' for _, label in window):\n",
        "        label_events89.append('Noise+BBH')\n",
        "    elif any(label == 'noise+BNS' for _, label in window):\n",
        "        label_events89.append('Noise+BNS')\n",
        "    elif any(label == 'noise+NSBH' for _, label in window):\n",
        "        label_events89.append('Noise+NSBH')\n",
        "    else:\n",
        "        label_events89.append('Noise')\n",
        "\n",
        "for i, segment in enumerate(segments):\n",
        "    file_path = os.path.join(ligodata_directory, f\"GW200129_065458_L_segment_{i}.npy\")\n",
        "    segment_without_labels = np.array([item[0] for item in segment])\n",
        "    np.save(file_path, segment_without_labels)"
      ],
      "metadata": {
        "id": "VBuLjs3en0Hj"
      },
      "execution_count": 94,
      "outputs": []
    },
    {
      "cell_type": "code",
      "source": [
        "#GW200208_130117\n",
        "data = np.load('/content/Real Ligo Virgo Data/Real Ligo Virgo Data/GW200208_130117_H_data.npy')\n",
        "\n",
        "label_events90 = []\n",
        "segments = []\n",
        "for i in range(0, len(data) - window_size + 1, window_size):\n",
        "    window = data[i:i+window_size]\n",
        "    segments.append(window)\n",
        "    if any(label == 'noise+BBH' for _, label in window):\n",
        "        label_events90.append('Noise+BBH')\n",
        "    elif any(label == 'noise+BNS' for _, label in window):\n",
        "        label_events90.append('Noise+BNS')\n",
        "    elif any(label == 'noise+NSBH' for _, label in window):\n",
        "        label_events90.append('Noise+NSBH')\n",
        "    else:\n",
        "        label_events90.append('Noise')\n",
        "\n",
        "for i, segment in enumerate(segments):\n",
        "    file_path = os.path.join(ligodata_directory, f\"GW200208_130117_H_segment_{i}.npy\")\n",
        "    segment_without_labels = np.array([item[0] for item in segment])\n",
        "    np.save(file_path, segment_without_labels)"
      ],
      "metadata": {
        "id": "n6nnriIKooPw"
      },
      "execution_count": 95,
      "outputs": []
    },
    {
      "cell_type": "code",
      "source": [
        "#GW200209_085452\n",
        "data = np.load('/content/Real Ligo Virgo Data/Real Ligo Virgo Data/GW200209_085452_H_data.npy')\n",
        "\n",
        "label_events91 = []\n",
        "segments = []\n",
        "for i in range(0, len(data) - window_size + 1, window_size):\n",
        "    window = data[i:i+window_size]\n",
        "    segments.append(window)\n",
        "    if any(label == 'noise+BBH' for _, label in window):\n",
        "        label_events91.append('Noise+BBH')\n",
        "    elif any(label == 'noise+BNS' for _, label in window):\n",
        "        label_events91.append('Noise+BNS')\n",
        "    elif any(label == 'noise+NSBH' for _, label in window):\n",
        "        label_events91.append('Noise+NSBH')\n",
        "    else:\n",
        "        label_events91.append('Noise')\n",
        "\n",
        "for i, segment in enumerate(segments):\n",
        "    file_path = os.path.join(ligodata_directory, f\"GW200209_085452_H_segment_{i}.npy\")\n",
        "    segment_without_labels = np.array([item[0] for item in segment])\n",
        "    np.save(file_path, segment_without_labels)"
      ],
      "metadata": {
        "id": "pBMNIfgzood8"
      },
      "execution_count": 96,
      "outputs": []
    },
    {
      "cell_type": "code",
      "source": [
        "#GW200216_220804\n",
        "data = np.load('/content/Real Ligo Virgo Data/Real Ligo Virgo Data/GW200216_220804_H_data.npy')\n",
        "\n",
        "label_events92 = []\n",
        "segments = []\n",
        "for i in range(0, len(data) - window_size + 1, window_size):\n",
        "    window = data[i:i+window_size]\n",
        "    segments.append(window)\n",
        "    if any(label == 'noise+BBH' for _, label in window):\n",
        "        label_events92.append('Noise+BBH')\n",
        "    elif any(label == 'noise+BNS' for _, label in window):\n",
        "        label_events92.append('Noise+BNS')\n",
        "    elif any(label == 'noise+NSBH' for _, label in window):\n",
        "        label_events92.append('Noise+NSBH')\n",
        "    else:\n",
        "        label_events92.append('Noise')\n",
        "\n",
        "for i, segment in enumerate(segments):\n",
        "    file_path = os.path.join(ligodata_directory, f\"GW200216_220804_H_segment_{i}.npy\")\n",
        "    segment_without_labels = np.array([item[0] for item in segment])\n",
        "    np.save(file_path, segment_without_labels)"
      ],
      "metadata": {
        "id": "pO1g5uZ5ooss"
      },
      "execution_count": 97,
      "outputs": []
    },
    {
      "cell_type": "code",
      "source": [
        "#GW200219_094415\n",
        "data = np.load('/content/Real Ligo Virgo Data/Real Ligo Virgo Data/GW200219_094415_L_data.npy')\n",
        "\n",
        "label_events93 = []\n",
        "segments = []\n",
        "for i in range(0, len(data) - window_size + 1, window_size):\n",
        "    window = data[i:i+window_size]\n",
        "    segments.append(window)\n",
        "    if any(label == 'noise+BBH' for _, label in window):\n",
        "        label_events93.append('Noise+BBH')\n",
        "    elif any(label == 'noise+BNS' for _, label in window):\n",
        "        label_events93.append('Noise+BNS')\n",
        "    elif any(label == 'noise+NSBH' for _, label in window):\n",
        "        label_events93.append('Noise+NSBH')\n",
        "    else:\n",
        "        label_events93.append('Noise')\n",
        "\n",
        "for i, segment in enumerate(segments):\n",
        "    file_path = os.path.join(ligodata_directory, f\"GW200219_094415_L_segment_{i}.npy\")\n",
        "    segment_without_labels = np.array([item[0] for item in segment])\n",
        "    np.save(file_path, segment_without_labels)"
      ],
      "metadata": {
        "id": "hLzRWLgynY0f"
      },
      "execution_count": 98,
      "outputs": []
    },
    {
      "cell_type": "code",
      "source": [
        "#GW200220_061928\n",
        "data = np.load('/content/Real Ligo Virgo Data/Real Ligo Virgo Data/GW200220_061928_L_data.npy')\n",
        "\n",
        "label_events94 = []\n",
        "segments = []\n",
        "for i in range(0, len(data) - window_size + 1, window_size):\n",
        "    window = data[i:i+window_size]\n",
        "    segments.append(window)\n",
        "    if any(label == 'noise+BBH' for _, label in window):\n",
        "        label_events94.append('Noise+BBH')\n",
        "    elif any(label == 'noise+BNS' for _, label in window):\n",
        "        label_events94.append('Noise+BNS')\n",
        "    elif any(label == 'noise+NSBH' for _, label in window):\n",
        "        label_events94.append('Noise+NSBH')\n",
        "    else:\n",
        "        label_events94.append('Noise')\n",
        "\n",
        "for i, segment in enumerate(segments):\n",
        "    file_path = os.path.join(ligodata_directory, f\"GW200220_061928_L_segment_{i}.npy\")\n",
        "    segment_without_labels = np.array([item[0] for item in segment])\n",
        "    np.save(file_path, segment_without_labels)"
      ],
      "metadata": {
        "id": "N2getKgPpbyz"
      },
      "execution_count": 99,
      "outputs": []
    },
    {
      "cell_type": "code",
      "source": [
        "#GW200224_222234\n",
        "data = np.load('/content/Real Ligo Virgo Data/Real Ligo Virgo Data/GW200224_222234_H_data.npy')\n",
        "\n",
        "label_events95 = []\n",
        "segments = []\n",
        "for i in range(0, len(data) - window_size + 1, window_size):\n",
        "    window = data[i:i+window_size]\n",
        "    segments.append(window)\n",
        "    if any(label == 'noise+BBH' for _, label in window):\n",
        "        label_events95.append('Noise+BBH')\n",
        "    elif any(label == 'noise+BNS' for _, label in window):\n",
        "        label_events95.append('Noise+BNS')\n",
        "    elif any(label == 'noise+NSBH' for _, label in window):\n",
        "        label_events95.append('Noise+NSBH')\n",
        "    else:\n",
        "        label_events95.append('Noise')\n",
        "\n",
        "for i, segment in enumerate(segments):\n",
        "    file_path = os.path.join(ligodata_directory, f\"GW200224_222234_H_segment_{i}.npy\")\n",
        "    segment_without_labels = np.array([item[0] for item in segment])\n",
        "    np.save(file_path, segment_without_labels)"
      ],
      "metadata": {
        "id": "y7eXo3GopcBr"
      },
      "execution_count": 100,
      "outputs": []
    },
    {
      "cell_type": "code",
      "source": [
        "data = np.load('/content/Real Ligo Virgo Data/Real Ligo Virgo Data/GW200224_222234_L_data.npy')\n",
        "\n",
        "label_events96 = []\n",
        "segments = []\n",
        "for i in range(0, len(data) - window_size + 1, window_size):\n",
        "    window = data[i:i+window_size]\n",
        "    segments.append(window)\n",
        "    if any(label == 'noise+BBH' for _, label in window):\n",
        "        label_events96.append('Noise+BBH')\n",
        "    elif any(label == 'noise+BNS' for _, label in window):\n",
        "        label_events96.append('Noise+BNS')\n",
        "    elif any(label == 'noise+NSBH' for _, label in window):\n",
        "        label_events96.append('Noise+NSBH')\n",
        "    else:\n",
        "        label_events96.append('Noise')\n",
        "\n",
        "for i, segment in enumerate(segments):\n",
        "    file_path = os.path.join(ligodata_directory, f\"GW200224_222234_L_segment_{i}.npy\")\n",
        "    segment_without_labels = np.array([item[0] for item in segment])\n",
        "    np.save(file_path, segment_without_labels)"
      ],
      "metadata": {
        "id": "vEL3hT4Dp576"
      },
      "execution_count": 101,
      "outputs": []
    },
    {
      "cell_type": "code",
      "source": [
        "data = np.load('/content/Real Ligo Virgo Data/Real Ligo Virgo Data/GW200224_222234_V_data.npy')\n",
        "\n",
        "label_events97 = []\n",
        "segments = []\n",
        "for i in range(0, len(data) - window_size + 1, window_size):\n",
        "    window = data[i:i+window_size]\n",
        "    segments.append(window)\n",
        "    if any(label == 'noise+BBH' for _, label in window):\n",
        "        label_events97.append('Noise+BBH')\n",
        "    elif any(label == 'noise+BNS' for _, label in window):\n",
        "        label_events97.append('Noise+BNS')\n",
        "    elif any(label == 'noise+NSBH' for _, label in window):\n",
        "        label_events97.append('Noise+NSBH')\n",
        "    else:\n",
        "        label_events97.append('Noise')\n",
        "\n",
        "for i, segment in enumerate(segments):\n",
        "    file_path = os.path.join(ligodata_directory, f\"GW200224_222234_V_segment_{i}.npy\")\n",
        "    segment_without_labels = np.array([item[0] for item in segment])\n",
        "    np.save(file_path, segment_without_labels)"
      ],
      "metadata": {
        "id": "J-RAGuMqp6FK"
      },
      "execution_count": 102,
      "outputs": []
    },
    {
      "cell_type": "code",
      "source": [
        "#GW200225_060421\n",
        "data = np.load('/content/Real Ligo Virgo Data/Real Ligo Virgo Data/GW200225_060421_L_data.npy')\n",
        "\n",
        "label_events98 = []\n",
        "segments = []\n",
        "for i in range(0, len(data) - window_size + 1, window_size):\n",
        "    window = data[i:i+window_size]\n",
        "    segments.append(window)\n",
        "    if any(label == 'noise+BBH' for _, label in window):\n",
        "        label_events98.append('Noise+BBH')\n",
        "    elif any(label == 'noise+BNS' for _, label in window):\n",
        "        label_events98.append('Noise+BNS')\n",
        "    elif any(label == 'noise+NSBH' for _, label in window):\n",
        "        label_events98.append('Noise+NSBH')\n",
        "    else:\n",
        "        label_events98.append('Noise')\n",
        "\n",
        "for i, segment in enumerate(segments):\n",
        "    file_path = os.path.join(ligodata_directory, f\"GW200225_060421_L_segment_{i}.npy\")\n",
        "    segment_without_labels = np.array([item[0] for item in segment])\n",
        "    np.save(file_path, segment_without_labels)"
      ],
      "metadata": {
        "id": "SKEuFvMQqYUS"
      },
      "execution_count": 103,
      "outputs": []
    },
    {
      "cell_type": "code",
      "source": [
        "#GW200302_015811\n",
        "data = np.load('/content/Real Ligo Virgo Data/Real Ligo Virgo Data/GW200302_015811_H_data.npy')\n",
        "\n",
        "label_events99 = []\n",
        "segments = []\n",
        "for i in range(0, len(data) - window_size + 1, window_size):\n",
        "    window = data[i:i+window_size]\n",
        "    segments.append(window)\n",
        "    if any(label == 'noise+BBH' for _, label in window):\n",
        "        label_events99.append('Noise+BBH')\n",
        "    elif any(label == 'noise+BNS' for _, label in window):\n",
        "        label_events99.append('Noise+BNS')\n",
        "    elif any(label == 'noise+NSBH' for _, label in window):\n",
        "        label_events99.append('Noise+NSBH')\n",
        "    else:\n",
        "        label_events99.append('Noise')\n",
        "\n",
        "for i, segment in enumerate(segments):\n",
        "    file_path = os.path.join(ligodata_directory, f\"GW200302_015811_H_segment_{i}.npy\")\n",
        "    segment_without_labels = np.array([item[0] for item in segment])\n",
        "    np.save(file_path, segment_without_labels)"
      ],
      "metadata": {
        "id": "M6dRmm75qYku"
      },
      "execution_count": 104,
      "outputs": []
    },
    {
      "cell_type": "code",
      "source": [
        "#GW200311_115853\n",
        "data = np.load('/content/Real Ligo Virgo Data/Real Ligo Virgo Data/GW200311_115853_H_data.npy')\n",
        "\n",
        "label_events100 = []\n",
        "segments = []\n",
        "for i in range(0, len(data) - window_size + 1, window_size):\n",
        "    window = data[i:i+window_size]\n",
        "    segments.append(window)\n",
        "    if any(label == 'noise+BBH' for _, label in window):\n",
        "        label_events100.append('Noise+BBH')\n",
        "    elif any(label == 'noise+BNS' for _, label in window):\n",
        "        label_events100.append('Noise+BNS')\n",
        "    elif any(label == 'noise+NSBH' for _, label in window):\n",
        "        label_events100.append('Noise+NSBH')\n",
        "    else:\n",
        "        label_events100.append('Noise')\n",
        "\n",
        "for i, segment in enumerate(segments):\n",
        "    file_path = os.path.join(ligodata_directory, f\"GW200311_115853_H_segment_{i}.npy\")\n",
        "    segment_without_labels = np.array([item[0] for item in segment])\n",
        "    np.save(file_path, segment_without_labels)"
      ],
      "metadata": {
        "id": "aZcg_IulqYzp"
      },
      "execution_count": 105,
      "outputs": []
    },
    {
      "cell_type": "code",
      "source": [
        "data = np.load('/content/Real Ligo Virgo Data/Real Ligo Virgo Data/GW200311_115853_L_data.npy')\n",
        "\n",
        "label_events101 = []\n",
        "segments = []\n",
        "for i in range(0, len(data) - window_size + 1, window_size):\n",
        "    window = data[i:i+window_size]\n",
        "    segments.append(window)\n",
        "    if any(label == 'noise+BBH' for _, label in window):\n",
        "        label_events101.append('Noise+BBH')\n",
        "    elif any(label == 'noise+BNS' for _, label in window):\n",
        "        label_events101.append('Noise+BNS')\n",
        "    elif any(label == 'noise+NSBH' for _, label in window):\n",
        "        label_events101.append('Noise+NSBH')\n",
        "    else:\n",
        "        label_events101.append('Noise')\n",
        "\n",
        "for i, segment in enumerate(segments):\n",
        "    file_path = os.path.join(ligodata_directory, f\"GW200311_115853_L_segment_{i}.npy\")\n",
        "    segment_without_labels = np.array([item[0] for item in segment])\n",
        "    np.save(file_path, segment_without_labels)"
      ],
      "metadata": {
        "id": "HM0TppSBqZDF"
      },
      "execution_count": 106,
      "outputs": []
    },
    {
      "cell_type": "code",
      "source": [
        "#GW200316_215756\n",
        "data = np.load('/content/Real Ligo Virgo Data/Real Ligo Virgo Data/GW200316_215756_L_data.npy')\n",
        "\n",
        "label_events102 = []\n",
        "segments = []\n",
        "for i in range(0, len(data) - window_size + 1, window_size):\n",
        "    window = data[i:i+window_size]\n",
        "    segments.append(window)\n",
        "    if any(label == 'noise+BBH' for _, label in window):\n",
        "        label_events102.append('Noise+BBH')\n",
        "    elif any(label == 'noise+BNS' for _, label in window):\n",
        "        label_events102.append('Noise+BNS')\n",
        "    elif any(label == 'noise+NSBH' for _, label in window):\n",
        "        label_events102.append('Noise+NSBH')\n",
        "    else:\n",
        "        label_events102.append('Noise')\n",
        "\n",
        "for i, segment in enumerate(segments):\n",
        "    file_path = os.path.join(ligodata_directory, f\"GW200316_215756_L_segment_{i}.npy\")\n",
        "    segment_without_labels = np.array([item[0] for item in segment])\n",
        "    np.save(file_path, segment_without_labels)"
      ],
      "metadata": {
        "id": "VQKOnMO8rVsq"
      },
      "execution_count": 107,
      "outputs": []
    },
    {
      "cell_type": "code",
      "source": [
        "concatenated_list = []\n",
        "for i in range(1,103):\n",
        "    current_list_name = f\"label_events{i}\"\n",
        "    current_list = globals()[current_list_name]\n",
        "    concatenated_list.extend(current_list)"
      ],
      "metadata": {
        "id": "inNL7rRGrV0q"
      },
      "execution_count": 108,
      "outputs": []
    },
    {
      "cell_type": "code",
      "source": [
        "file_path = os.path.join(ligodata_directory, \"labelsligo.npy\")\n",
        "np.save(file_path, concatenated_list)"
      ],
      "metadata": {
        "id": "nJCly4GBrq47"
      },
      "execution_count": 109,
      "outputs": []
    },
    {
      "cell_type": "code",
      "source": [
        "import shutil\n",
        "\n",
        "zip_file_name = 'ligodata.zip'\n",
        "shutil.make_archive(zip_file_name.split('.zip')[0], 'zip', ligodata_directory)\n",
        "zip_file_path = zip_file_name\n",
        "\n",
        "from google.colab import files\n",
        "files.download(zip_file_path)"
      ],
      "metadata": {
        "colab": {
          "base_uri": "https://localhost:8080/",
          "height": 17
        },
        "id": "g0WfxQQKqZLc",
        "outputId": "59b11ad2-34e2-42d8-eb65-b760670985e9"
      },
      "execution_count": 110,
      "outputs": [
        {
          "output_type": "display_data",
          "data": {
            "text/plain": [
              "<IPython.core.display.Javascript object>"
            ],
            "application/javascript": [
              "\n",
              "    async function download(id, filename, size) {\n",
              "      if (!google.colab.kernel.accessAllowed) {\n",
              "        return;\n",
              "      }\n",
              "      const div = document.createElement('div');\n",
              "      const label = document.createElement('label');\n",
              "      label.textContent = `Downloading \"${filename}\": `;\n",
              "      div.appendChild(label);\n",
              "      const progress = document.createElement('progress');\n",
              "      progress.max = size;\n",
              "      div.appendChild(progress);\n",
              "      document.body.appendChild(div);\n",
              "\n",
              "      const buffers = [];\n",
              "      let downloaded = 0;\n",
              "\n",
              "      const channel = await google.colab.kernel.comms.open(id);\n",
              "      // Send a message to notify the kernel that we're ready.\n",
              "      channel.send({})\n",
              "\n",
              "      for await (const message of channel.messages) {\n",
              "        // Send a message to notify the kernel that we're ready.\n",
              "        channel.send({})\n",
              "        if (message.buffers) {\n",
              "          for (const buffer of message.buffers) {\n",
              "            buffers.push(buffer);\n",
              "            downloaded += buffer.byteLength;\n",
              "            progress.value = downloaded;\n",
              "          }\n",
              "        }\n",
              "      }\n",
              "      const blob = new Blob(buffers, {type: 'application/binary'});\n",
              "      const a = document.createElement('a');\n",
              "      a.href = window.URL.createObjectURL(blob);\n",
              "      a.download = filename;\n",
              "      div.appendChild(a);\n",
              "      a.click();\n",
              "      div.remove();\n",
              "    }\n",
              "  "
            ]
          },
          "metadata": {}
        },
        {
          "output_type": "display_data",
          "data": {
            "text/plain": [
              "<IPython.core.display.Javascript object>"
            ],
            "application/javascript": [
              "download(\"download_b93201a6-eeb1-491d-baf6-5b937870ff2b\", \"ligodata.zip\", 25933957)"
            ]
          },
          "metadata": {}
        }
      ]
    }
  ]
}