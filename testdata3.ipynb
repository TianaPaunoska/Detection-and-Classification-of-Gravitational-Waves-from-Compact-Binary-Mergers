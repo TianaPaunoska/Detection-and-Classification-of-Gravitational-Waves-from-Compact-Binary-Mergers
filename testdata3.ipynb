{
 "cells": [
  {
   "cell_type": "code",
   "execution_count": 1,
   "id": "62664909",
   "metadata": {
    "execution": {
     "iopub.execute_input": "2023-10-09T06:00:30.762069Z",
     "iopub.status.busy": "2023-10-09T06:00:30.761497Z",
     "iopub.status.idle": "2023-10-09T06:00:42.971431Z",
     "shell.execute_reply": "2023-10-09T06:00:42.970107Z"
    },
    "papermill": {
     "duration": 12.220912,
     "end_time": "2023-10-09T06:00:42.974417",
     "exception": false,
     "start_time": "2023-10-09T06:00:30.753505",
     "status": "completed"
    },
    "tags": []
   },
   "outputs": [],
   "source": [
    "import numpy as np\n",
    "import tensorflow as tf\n",
    "from tensorflow import keras\n",
    "from tensorflow.keras import layers\n",
    "from tensorflow.keras.utils import to_categorical\n",
    "from sklearn.model_selection import train_test_split\n",
    "import os\n",
    "from tensorflow.keras.preprocessing.sequence import pad_sequences\n",
    "import matplotlib.pyplot as plt\n",
    "from sklearn.metrics import confusion_matrix, classification_report\n",
    "from tensorflow.keras.utils import plot_model\n",
    "from scipy.signal import welch, lfilter, butter"
   ]
  },
  {
   "cell_type": "code",
   "execution_count": 2,
   "id": "9f659f84",
   "metadata": {
    "execution": {
     "iopub.execute_input": "2023-10-09T06:00:42.988226Z",
     "iopub.status.busy": "2023-10-09T06:00:42.987415Z",
     "iopub.status.idle": "2023-10-09T06:00:43.368216Z",
     "shell.execute_reply": "2023-10-09T06:00:43.367101Z"
    },
    "papermill": {
     "duration": 0.390767,
     "end_time": "2023-10-09T06:00:43.370993",
     "exception": false,
     "start_time": "2023-10-09T06:00:42.980226",
     "status": "completed"
    },
    "tags": []
   },
   "outputs": [],
   "source": [
    "X_test_ligo_events = np.load('/kaggle/input/ligotestset/X_test_ligo.npy', allow_pickle=True)\n",
    "y_test_ligo_events = np.load('/kaggle/input/ligotestset/y_test_ligo.npy', allow_pickle=True)"
   ]
  },
  {
   "cell_type": "code",
   "execution_count": 3,
   "id": "7a7be9df",
   "metadata": {
    "execution": {
     "iopub.execute_input": "2023-10-09T06:00:43.383360Z",
     "iopub.status.busy": "2023-10-09T06:00:43.382960Z",
     "iopub.status.idle": "2023-10-09T06:00:45.176365Z",
     "shell.execute_reply": "2023-10-09T06:00:45.175056Z"
    },
    "papermill": {
     "duration": 1.80309,
     "end_time": "2023-10-09T06:00:45.179395",
     "exception": false,
     "start_time": "2023-10-09T06:00:43.376305",
     "status": "completed"
    },
    "tags": []
   },
   "outputs": [],
   "source": [
    "def whiten_data_segment(segment, fs):\n",
    "    f, Pxx = welch(segment, fs=fs, nperseg=len(segment)//2) \n",
    "\n",
    "    nyquist = 0.5 * fs\n",
    "    lowcut = 1.0 \n",
    "    highcut = 1000.0  \n",
    "    lowcut_normalized = lowcut / nyquist\n",
    "    highcut_normalized = highcut / nyquist\n",
    "\n",
    "    b, a = butter(4, [lowcut_normalized, highcut_normalized], btype='band')\n",
    "\n",
    "    whitened_segment = lfilter(b, a, segment)\n",
    "\n",
    "    return whitened_segment\n",
    "\n",
    "def lowpass_filter(data, fs, cutoff):\n",
    "    nyquist = 0.5 * fs\n",
    "    normal_cutoff = cutoff / nyquist\n",
    "    b, a = butter(4, normal_cutoff, btype='low', analog=False)\n",
    "    filtered_data = lfilter(b, a, data)\n",
    "    return filtered_data\n",
    "\n",
    "fs = 2048\n",
    "\n",
    "lowpass_cutoff = 100.0  \n",
    "\n",
    "filtered_data_segments = []\n",
    "for segment in X_test_ligo_events:\n",
    "    whitened_segment = whiten_data_segment(segment, fs)\n",
    "    \n",
    "    filtered_segment = lowpass_filter(whitened_segment, fs, lowpass_cutoff)\n",
    "    \n",
    "    filtered_data_segments.append(filtered_segment)\n",
    "\n",
    "filtered_data = np.array(filtered_data_segments)\n"
   ]
  },
  {
   "cell_type": "code",
   "execution_count": 4,
   "id": "51026eb1",
   "metadata": {
    "execution": {
     "iopub.execute_input": "2023-10-09T06:00:45.192056Z",
     "iopub.status.busy": "2023-10-09T06:00:45.191639Z",
     "iopub.status.idle": "2023-10-09T06:00:45.220864Z",
     "shell.execute_reply": "2023-10-09T06:00:45.219637Z"
    },
    "papermill": {
     "duration": 0.038447,
     "end_time": "2023-10-09T06:00:45.223467",
     "exception": false,
     "start_time": "2023-10-09T06:00:45.185020",
     "status": "completed"
    },
    "tags": []
   },
   "outputs": [],
   "source": [
    "data_info = np.load('/kaggle/input/segmentlabels/segmentlabels.npy', allow_pickle=True)\n",
    "file_paths = [item[0] for item in data_info]\n",
    "labels = [item[1] for item in data_info]"
   ]
  },
  {
   "cell_type": "code",
   "execution_count": 5,
   "id": "0a975579",
   "metadata": {
    "execution": {
     "iopub.execute_input": "2023-10-09T06:00:45.236050Z",
     "iopub.status.busy": "2023-10-09T06:00:45.235636Z",
     "iopub.status.idle": "2023-10-09T06:00:45.243700Z",
     "shell.execute_reply": "2023-10-09T06:00:45.242536Z"
    },
    "papermill": {
     "duration": 0.017247,
     "end_time": "2023-10-09T06:00:45.245989",
     "exception": false,
     "start_time": "2023-10-09T06:00:45.228742",
     "status": "completed"
    },
    "tags": []
   },
   "outputs": [],
   "source": [
    "label_to_index = {label: index for index, label in enumerate(np.unique(labels))}\n",
    "y_test_ligo_events_encoded = np.array([label_to_index[label] for label in y_test_ligo_events])\n",
    "\n",
    "num_classes = len(label_to_index)\n",
    "y_test_ligo_events_encoded = to_categorical(y_test_ligo_events_encoded, num_classes=num_classes)"
   ]
  },
  {
   "cell_type": "code",
   "execution_count": 6,
   "id": "b139b9c1",
   "metadata": {
    "execution": {
     "iopub.execute_input": "2023-10-09T06:00:45.258243Z",
     "iopub.status.busy": "2023-10-09T06:00:45.257806Z",
     "iopub.status.idle": "2023-10-09T06:00:45.287286Z",
     "shell.execute_reply": "2023-10-09T06:00:45.285816Z"
    },
    "papermill": {
     "duration": 0.039164,
     "end_time": "2023-10-09T06:00:45.290208",
     "exception": false,
     "start_time": "2023-10-09T06:00:45.251044",
     "status": "completed"
    },
    "tags": []
   },
   "outputs": [],
   "source": [
    "X_test_ligo_events = pad_sequences(filtered_data, dtype='float32', padding='post', value=0.0)"
   ]
  },
  {
   "cell_type": "code",
   "execution_count": 7,
   "id": "34f7f169",
   "metadata": {
    "execution": {
     "iopub.execute_input": "2023-10-09T06:00:45.302743Z",
     "iopub.status.busy": "2023-10-09T06:00:45.302216Z",
     "iopub.status.idle": "2023-10-09T06:00:45.320873Z",
     "shell.execute_reply": "2023-10-09T06:00:45.319603Z"
    },
    "papermill": {
     "duration": 0.028461,
     "end_time": "2023-10-09T06:00:45.323844",
     "exception": false,
     "start_time": "2023-10-09T06:00:45.295383",
     "status": "completed"
    },
    "tags": []
   },
   "outputs": [],
   "source": [
    "X_test_ligo_events = np.vstack(X_test_ligo_events)"
   ]
  },
  {
   "cell_type": "code",
   "execution_count": 8,
   "id": "6006c27d",
   "metadata": {
    "execution": {
     "iopub.execute_input": "2023-10-09T06:00:45.337159Z",
     "iopub.status.busy": "2023-10-09T06:00:45.336718Z",
     "iopub.status.idle": "2023-10-09T06:00:45.454711Z",
     "shell.execute_reply": "2023-10-09T06:00:45.453749Z"
    },
    "papermill": {
     "duration": 0.128094,
     "end_time": "2023-10-09T06:00:45.457342",
     "exception": false,
     "start_time": "2023-10-09T06:00:45.329248",
     "status": "completed"
    },
    "tags": []
   },
   "outputs": [],
   "source": [
    "X_test_ligo_events_tensor = tf.convert_to_tensor(X_test_ligo_events, dtype=tf.float32)\n",
    "y_test_ligo_events_encoded = tf.convert_to_tensor(y_test_ligo_events_encoded, dtype=tf.float32)"
   ]
  },
  {
   "cell_type": "code",
   "execution_count": 9,
   "id": "9d690a8f",
   "metadata": {
    "execution": {
     "iopub.execute_input": "2023-10-09T06:00:45.470336Z",
     "iopub.status.busy": "2023-10-09T06:00:45.469306Z",
     "iopub.status.idle": "2023-10-09T06:00:45.474165Z",
     "shell.execute_reply": "2023-10-09T06:00:45.472927Z"
    },
    "papermill": {
     "duration": 0.013727,
     "end_time": "2023-10-09T06:00:45.476361",
     "exception": false,
     "start_time": "2023-10-09T06:00:45.462634",
     "status": "completed"
    },
    "tags": []
   },
   "outputs": [],
   "source": [
    "signal_length = 2048"
   ]
  },
  {
   "cell_type": "code",
   "execution_count": 10,
   "id": "0ff92e25",
   "metadata": {
    "execution": {
     "iopub.execute_input": "2023-10-09T06:00:45.488436Z",
     "iopub.status.busy": "2023-10-09T06:00:45.487990Z",
     "iopub.status.idle": "2023-10-09T06:00:45.493520Z",
     "shell.execute_reply": "2023-10-09T06:00:45.492359Z"
    },
    "papermill": {
     "duration": 0.014213,
     "end_time": "2023-10-09T06:00:45.495725",
     "exception": false,
     "start_time": "2023-10-09T06:00:45.481512",
     "status": "completed"
    },
    "tags": []
   },
   "outputs": [],
   "source": [
    "X_test_ligo_events_reshaped = X_test_ligo_events.reshape(-1, signal_length, 1)"
   ]
  },
  {
   "cell_type": "code",
   "execution_count": 11,
   "id": "afad9546",
   "metadata": {
    "execution": {
     "iopub.execute_input": "2023-10-09T06:00:45.508739Z",
     "iopub.status.busy": "2023-10-09T06:00:45.508053Z",
     "iopub.status.idle": "2023-10-09T06:01:18.521608Z",
     "shell.execute_reply": "2023-10-09T06:01:18.520305Z"
    },
    "papermill": {
     "duration": 33.023767,
     "end_time": "2023-10-09T06:01:18.524832",
     "exception": false,
     "start_time": "2023-10-09T06:00:45.501065",
     "status": "completed"
    },
    "tags": []
   },
   "outputs": [],
   "source": [
    "X_train = np.load('/kaggle/input/trainvalidationtest/Train Val Test/X_train.npy', allow_pickle=True)\n",
    "y_train = np.load('/kaggle/input/trainvalidationtest/Train Val Test/y_train.npy', allow_pickle=True)\n",
    "X_val = np.load('/kaggle/input/trainvalidationtest/Train Val Test/X_val.npy', allow_pickle=True)\n",
    "y_val = np.load('/kaggle/input/trainvalidationtest/Train Val Test/y_val.npy', allow_pickle=True)\n",
    "X_test = np.load('/kaggle/input/trainvalidationtest/Train Val Test/X_test.npy', allow_pickle=True)\n",
    "y_test = np.load('/kaggle/input/trainvalidationtest/Train Val Test/y_test.npy', allow_pickle=True)"
   ]
  },
  {
   "cell_type": "code",
   "execution_count": 12,
   "id": "c01b15a0",
   "metadata": {
    "execution": {
     "iopub.execute_input": "2023-10-09T06:01:18.537781Z",
     "iopub.status.busy": "2023-10-09T06:01:18.537298Z",
     "iopub.status.idle": "2023-10-09T06:01:19.691256Z",
     "shell.execute_reply": "2023-10-09T06:01:19.689866Z"
    },
    "papermill": {
     "duration": 1.163245,
     "end_time": "2023-10-09T06:01:19.693703",
     "exception": false,
     "start_time": "2023-10-09T06:01:18.530458",
     "status": "completed"
    },
    "tags": []
   },
   "outputs": [],
   "source": [
    "data_info = np.load('/kaggle/input/alllabels/labels.npy', allow_pickle=True)\n",
    "file_paths = [item[0] for item in data_info]\n",
    "labels = [item[1] for item in data_info]"
   ]
  },
  {
   "cell_type": "code",
   "execution_count": 13,
   "id": "4ac1c78c",
   "metadata": {
    "execution": {
     "iopub.execute_input": "2023-10-09T06:01:19.706092Z",
     "iopub.status.busy": "2023-10-09T06:01:19.705669Z",
     "iopub.status.idle": "2023-10-09T06:01:19.907398Z",
     "shell.execute_reply": "2023-10-09T06:01:19.906040Z"
    },
    "papermill": {
     "duration": 0.211282,
     "end_time": "2023-10-09T06:01:19.910080",
     "exception": false,
     "start_time": "2023-10-09T06:01:19.698798",
     "status": "completed"
    },
    "tags": []
   },
   "outputs": [],
   "source": [
    "label_to_index = {label: index for index, label in enumerate(np.unique(labels))}\n",
    "y_train_encoded = np.array([label_to_index[label] for label in y_train])\n",
    "y_val_encoded = np.array([label_to_index[label] for label in y_val])\n",
    "y_test_encoded = np.array([label_to_index[label] for label in y_test])\n",
    "\n",
    "num_classes = len(label_to_index)\n",
    "y_train_encoded = to_categorical(y_train_encoded, num_classes=num_classes)\n",
    "y_val_encoded = to_categorical(y_val_encoded, num_classes=num_classes)\n",
    "y_test_encoded = to_categorical(y_test_encoded, num_classes=num_classes)"
   ]
  },
  {
   "cell_type": "code",
   "execution_count": 14,
   "id": "7b341489",
   "metadata": {
    "execution": {
     "iopub.execute_input": "2023-10-09T06:01:19.922701Z",
     "iopub.status.busy": "2023-10-09T06:01:19.922259Z",
     "iopub.status.idle": "2023-10-09T06:01:22.197253Z",
     "shell.execute_reply": "2023-10-09T06:01:22.195941Z"
    },
    "papermill": {
     "duration": 2.284866,
     "end_time": "2023-10-09T06:01:22.200000",
     "exception": false,
     "start_time": "2023-10-09T06:01:19.915134",
     "status": "completed"
    },
    "tags": []
   },
   "outputs": [],
   "source": [
    "X_train = pad_sequences(X_train, dtype='float32', padding='post', value=0.0)\n",
    "X_val = pad_sequences(X_val, dtype='float32', padding='post', value=0.0)\n",
    "X_test = pad_sequences(X_test, dtype='float32', padding='post', value=0.0)"
   ]
  },
  {
   "cell_type": "code",
   "execution_count": 15,
   "id": "9ab78733",
   "metadata": {
    "execution": {
     "iopub.execute_input": "2023-10-09T06:01:22.212486Z",
     "iopub.status.busy": "2023-10-09T06:01:22.212071Z",
     "iopub.status.idle": "2023-10-09T06:01:23.441402Z",
     "shell.execute_reply": "2023-10-09T06:01:23.440050Z"
    },
    "papermill": {
     "duration": 1.239335,
     "end_time": "2023-10-09T06:01:23.444453",
     "exception": false,
     "start_time": "2023-10-09T06:01:22.205118",
     "status": "completed"
    },
    "tags": []
   },
   "outputs": [],
   "source": [
    "X_train = np.vstack(X_train)\n",
    "X_val = np.vstack(X_val)\n",
    "X_test = np.vstack(X_test)"
   ]
  },
  {
   "cell_type": "code",
   "execution_count": 16,
   "id": "953507d6",
   "metadata": {
    "execution": {
     "iopub.execute_input": "2023-10-09T06:01:23.456720Z",
     "iopub.status.busy": "2023-10-09T06:01:23.456268Z",
     "iopub.status.idle": "2023-10-09T06:01:23.757332Z",
     "shell.execute_reply": "2023-10-09T06:01:23.756088Z"
    },
    "papermill": {
     "duration": 0.310727,
     "end_time": "2023-10-09T06:01:23.760379",
     "exception": false,
     "start_time": "2023-10-09T06:01:23.449652",
     "status": "completed"
    },
    "tags": []
   },
   "outputs": [],
   "source": [
    "X_train_tensor = tf.convert_to_tensor(X_train, dtype=tf.float32)\n",
    "X_val_tensor = tf.convert_to_tensor(X_val, dtype=tf.float32)\n",
    "X_test_tensor = tf.convert_to_tensor(X_test, dtype=tf.float32)\n",
    "y_train_encoded_tensor = tf.convert_to_tensor(y_train_encoded, dtype=tf.float32)\n",
    "y_val_encoded_tensor = tf.convert_to_tensor(y_val_encoded, dtype=tf.float32)\n",
    "y_test_encoded_tensor = tf.convert_to_tensor(y_test_encoded, dtype=tf.float32)"
   ]
  },
  {
   "cell_type": "code",
   "execution_count": 17,
   "id": "fc64aedb",
   "metadata": {
    "execution": {
     "iopub.execute_input": "2023-10-09T06:01:23.775204Z",
     "iopub.status.busy": "2023-10-09T06:01:23.774773Z",
     "iopub.status.idle": "2023-10-09T06:01:23.780392Z",
     "shell.execute_reply": "2023-10-09T06:01:23.779029Z"
    },
    "papermill": {
     "duration": 0.015414,
     "end_time": "2023-10-09T06:01:23.782509",
     "exception": false,
     "start_time": "2023-10-09T06:01:23.767095",
     "status": "completed"
    },
    "tags": []
   },
   "outputs": [],
   "source": [
    "signal_length = 2048"
   ]
  },
  {
   "cell_type": "code",
   "execution_count": 18,
   "id": "6a33db7c",
   "metadata": {
    "execution": {
     "iopub.execute_input": "2023-10-09T06:01:23.795884Z",
     "iopub.status.busy": "2023-10-09T06:01:23.795389Z",
     "iopub.status.idle": "2023-10-09T06:01:23.801828Z",
     "shell.execute_reply": "2023-10-09T06:01:23.800530Z"
    },
    "papermill": {
     "duration": 0.016323,
     "end_time": "2023-10-09T06:01:23.804503",
     "exception": false,
     "start_time": "2023-10-09T06:01:23.788180",
     "status": "completed"
    },
    "tags": []
   },
   "outputs": [],
   "source": [
    "X_train_reshaped = X_train.reshape(-1, signal_length, 1)\n",
    "X_val_reshaped = X_val.reshape(-1, signal_length, 1)\n",
    "X_test_reshaped = X_test.reshape(-1, signal_length, 1)"
   ]
  },
  {
   "cell_type": "code",
   "execution_count": 19,
   "id": "0e9acb82",
   "metadata": {
    "execution": {
     "iopub.execute_input": "2023-10-09T06:01:23.817998Z",
     "iopub.status.busy": "2023-10-09T06:01:23.817228Z",
     "iopub.status.idle": "2023-10-09T06:01:23.823170Z",
     "shell.execute_reply": "2023-10-09T06:01:23.821529Z"
    },
    "papermill": {
     "duration": 0.015669,
     "end_time": "2023-10-09T06:01:23.825687",
     "exception": false,
     "start_time": "2023-10-09T06:01:23.810018",
     "status": "completed"
    },
    "tags": []
   },
   "outputs": [],
   "source": [
    "# mean = np.mean(X_train_reshaped)\n",
    "# std = np.std(X_train_reshaped)\n",
    "# real_ligo_mean = np.mean(X_test_ligo_events_reshaped)\n",
    "# real_ligo_std = np.std(X_test_ligo_events_reshaped)\n",
    "\n",
    "# X_test_ligo_events_scaled = np.zeros_like(X_test_ligo_events_reshaped)\n",
    "\n",
    "# positions_label_0 = np.where(y_test_ligo_events_encoded == 0)[0]\n",
    "\n",
    "# for i in positions_label_0:\n",
    "#     X_test_ligo_events_scaled[i] = X_test_ligo_events_reshaped[i]\n",
    "\n",
    "# positions_label_1 = np.where(y_test_ligo_events_encoded == 1)[0]\n",
    "\n",
    "# for i in positions_label_1:\n",
    "#     scaled_sample = (X_test_ligo_events_reshaped[i] - mean) / std\n",
    "#     X_test_ligo_events_scaled[i] = scaled_sample\n",
    "\n",
    "# positions_label_2 = np.where(y_test_ligo_events_encoded == 2)[0]\n",
    "# positions_label_3 = np.where(y_test_ligo_events_encoded == 3)[0]\n",
    "\n",
    "# for i in positions_label_2:\n",
    "#     scaled_sample = (X_test_ligo_events_reshaped[i] - mean) / std\n",
    "#     X_test_ligo_events_scaled[i] = scaled_sample\n",
    "\n",
    "# for i in positions_label_3:\n",
    "#     scaled_sample = (X_test_ligo_events_reshaped[i] - mean) / std\n",
    "#     X_test_ligo_events_scaled[i] = scaled_sample"
   ]
  },
  {
   "cell_type": "code",
   "execution_count": 20,
   "id": "9c176e86",
   "metadata": {
    "execution": {
     "iopub.execute_input": "2023-10-09T06:01:23.840004Z",
     "iopub.status.busy": "2023-10-09T06:01:23.838380Z",
     "iopub.status.idle": "2023-10-09T06:01:23.844613Z",
     "shell.execute_reply": "2023-10-09T06:01:23.843667Z"
    },
    "papermill": {
     "duration": 0.015914,
     "end_time": "2023-10-09T06:01:23.846974",
     "exception": false,
     "start_time": "2023-10-09T06:01:23.831060",
     "status": "completed"
    },
    "tags": []
   },
   "outputs": [],
   "source": [
    "#test_data = X_test_ligo_events_scaled\n",
    "test_data = X_test_ligo_events_reshaped"
   ]
  },
  {
   "cell_type": "code",
   "execution_count": 21,
   "id": "c1f18d27",
   "metadata": {
    "execution": {
     "iopub.execute_input": "2023-10-09T06:01:23.860660Z",
     "iopub.status.busy": "2023-10-09T06:01:23.859534Z",
     "iopub.status.idle": "2023-10-09T06:01:23.864963Z",
     "shell.execute_reply": "2023-10-09T06:01:23.863946Z"
    },
    "papermill": {
     "duration": 0.014258,
     "end_time": "2023-10-09T06:01:23.866875",
     "exception": false,
     "start_time": "2023-10-09T06:01:23.852617",
     "status": "completed"
    },
    "tags": []
   },
   "outputs": [],
   "source": [
    "# print(mean)\n",
    "# print(std)\n",
    "# print(real_ligo_mean)\n",
    "# print(real_ligo_std)"
   ]
  },
  {
   "cell_type": "code",
   "execution_count": 22,
   "id": "99d62c90",
   "metadata": {
    "execution": {
     "iopub.execute_input": "2023-10-09T06:01:23.880917Z",
     "iopub.status.busy": "2023-10-09T06:01:23.879747Z",
     "iopub.status.idle": "2023-10-09T06:01:23.887182Z",
     "shell.execute_reply": "2023-10-09T06:01:23.885610Z"
    },
    "papermill": {
     "duration": 0.017207,
     "end_time": "2023-10-09T06:01:23.889901",
     "exception": false,
     "start_time": "2023-10-09T06:01:23.872694",
     "status": "completed"
    },
    "tags": []
   },
   "outputs": [
    {
     "name": "stdout",
     "output_type": "stream",
     "text": [
      "1632\n"
     ]
    }
   ],
   "source": [
    "print(len(test_data))"
   ]
  },
  {
   "cell_type": "code",
   "execution_count": 23,
   "id": "f931affc",
   "metadata": {
    "execution": {
     "iopub.execute_input": "2023-10-09T06:01:23.902630Z",
     "iopub.status.busy": "2023-10-09T06:01:23.902215Z",
     "iopub.status.idle": "2023-10-09T06:01:23.927266Z",
     "shell.execute_reply": "2023-10-09T06:01:23.925862Z"
    },
    "papermill": {
     "duration": 0.034532,
     "end_time": "2023-10-09T06:01:23.929822",
     "exception": false,
     "start_time": "2023-10-09T06:01:23.895290",
     "status": "completed"
    },
    "tags": []
   },
   "outputs": [],
   "source": [
    "np.save('test_data3.npy', test_data)"
   ]
  },
  {
   "cell_type": "code",
   "execution_count": null,
   "id": "814f0acc",
   "metadata": {
    "papermill": {
     "duration": 0.004823,
     "end_time": "2023-10-09T06:01:23.940325",
     "exception": false,
     "start_time": "2023-10-09T06:01:23.935502",
     "status": "completed"
    },
    "tags": []
   },
   "outputs": [],
   "source": []
  },
  {
   "cell_type": "code",
   "execution_count": null,
   "id": "3aeae72f",
   "metadata": {
    "papermill": {
     "duration": 0.004746,
     "end_time": "2023-10-09T06:01:23.950318",
     "exception": false,
     "start_time": "2023-10-09T06:01:23.945572",
     "status": "completed"
    },
    "tags": []
   },
   "outputs": [],
   "source": []
  }
 ],
 "metadata": {
  "kernelspec": {
   "display_name": "Python 3",
   "language": "python",
   "name": "python3"
  },
  "language_info": {
   "codemirror_mode": {
    "name": "ipython",
    "version": 3
   },
   "file_extension": ".py",
   "mimetype": "text/x-python",
   "name": "python",
   "nbconvert_exporter": "python",
   "pygments_lexer": "ipython3",
   "version": "3.10.12"
  },
  "papermill": {
   "default_parameters": {},
   "duration": 60.484327,
   "end_time": "2023-10-09T06:01:27.744792",
   "environment_variables": {},
   "exception": null,
   "input_path": "__notebook__.ipynb",
   "output_path": "__notebook__.ipynb",
   "parameters": {},
   "start_time": "2023-10-09T06:00:27.260465",
   "version": "2.4.0"
  }
 },
 "nbformat": 4,
 "nbformat_minor": 5
}
